{
 "cells": [
  {
   "cell_type": "code",
   "execution_count": 16,
   "id": "0aa66fb9-c18f-487e-b1e9-eeceb5aa37a6",
   "metadata": {},
   "outputs": [
    {
     "name": "stdout",
     "output_type": "stream",
     "text": [
      "[1 2 3 5]\n"
     ]
    }
   ],
   "source": [
    "import numpy as np\n",
    "# we can use any name instead of np like vishal\n",
    "x=np.array([1,2,3,5])\n",
    "print(x)"
   ]
  },
  {
   "cell_type": "code",
   "execution_count": 2,
   "id": "43b0e32b-83c7-428f-8464-614ce12de4f9",
   "metadata": {},
   "outputs": [
    {
     "name": "stdout",
     "output_type": "stream",
     "text": [
      "23\n"
     ]
    }
   ],
   "source": [
    "# 0d array\n",
    "x=np.array(23)\n",
    "print(x)"
   ]
  },
  {
   "cell_type": "code",
   "execution_count": 3,
   "id": "90ad5aca-de20-4142-bdaf-3a1fa8b75ea0",
   "metadata": {},
   "outputs": [
    {
     "name": "stdout",
     "output_type": "stream",
     "text": [
      "[1 2 3 4 5]\n"
     ]
    }
   ],
   "source": [
    "# 1d array\n",
    "x=np.array([1,2,3,4,5])\n",
    "print(x)"
   ]
  },
  {
   "cell_type": "code",
   "execution_count": 5,
   "id": "1499fda3-0b8d-46a7-8044-938f405c0ebc",
   "metadata": {},
   "outputs": [
    {
     "name": "stdout",
     "output_type": "stream",
     "text": [
      "[[1 2 3 4]\n",
      " [5 6 7 8]]\n"
     ]
    }
   ],
   "source": [
    "# 2d array\n",
    "x=np.array([[1,2,3,4],[5,6,7,8]])\n",
    "print(x)"
   ]
  },
  {
   "cell_type": "code",
   "execution_count": 6,
   "id": "05aaa590-211e-4c3a-bb5e-42a9598481a8",
   "metadata": {},
   "outputs": [
    {
     "name": "stdout",
     "output_type": "stream",
     "text": [
      "[[[ 1  2  3]\n",
      "  [ 4  5  6]]\n",
      "\n",
      " [[ 7  8  9]\n",
      "  [10 11 12]]]\n"
     ]
    }
   ],
   "source": [
    "# 3d array\n",
    "x=np.array([[[1,2,3],[4,5,6]],[[7,8,9],[10,11,12]]])\n",
    "print(x)"
   ]
  },
  {
   "cell_type": "code",
   "execution_count": 7,
   "id": "87582eca-4d96-4466-8d9d-c20dfa287e2b",
   "metadata": {},
   "outputs": [
    {
     "name": "stdout",
     "output_type": "stream",
     "text": [
      "3\n"
     ]
    }
   ],
   "source": [
    "# indexiing in 1d array\n",
    "x=np.array([1,2,3,4,5])\n",
    "print(x[2])"
   ]
  },
  {
   "cell_type": "code",
   "execution_count": 8,
   "id": "595572e6-e724-42b0-88cf-3bbe1ae21e79",
   "metadata": {},
   "outputs": [
    {
     "name": "stdout",
     "output_type": "stream",
     "text": [
      "5\n"
     ]
    }
   ],
   "source": [
    "# indexing 2d array\n",
    "x=np.array([[1,2,3,4],[5,6,7,8]])\n",
    "# to print 5 ,means first row and 0th column\n",
    "print(x[1,0])"
   ]
  },
  {
   "cell_type": "code",
   "execution_count": 9,
   "id": "eb449866-0201-4a94-ab1b-4e138b833d60",
   "metadata": {},
   "outputs": [
    {
     "name": "stdout",
     "output_type": "stream",
     "text": [
      "11\n"
     ]
    }
   ],
   "source": [
    "# indexing 3d array\n",
    "x=np.array([[[1,2,3],[4,5,6]],[[7,8,9],[10,11,12]]])\n",
    "# to print 11 will go to first plate , 1st row and 1st column\n",
    "print(x[1,1,1])"
   ]
  },
  {
   "cell_type": "code",
   "execution_count": 11,
   "id": "50fb1126-62fb-40f6-b8b0-11af314be6bf",
   "metadata": {},
   "outputs": [
    {
     "name": "stdout",
     "output_type": "stream",
     "text": [
      "[2 3]\n",
      "[1 2 3 4 5]\n",
      "[1 2 3 4]\n",
      "[1 2 3 4]\n"
     ]
    }
   ],
   "source": [
    "# slicing in 1d array\n",
    "x=np.array([1,2,3,4,5])\n",
    "print(x[1:3])\n",
    "print(x[:])\n",
    "print(x[-5:-1])\n",
    "print(x[:4])"
   ]
  },
  {
   "cell_type": "code",
   "execution_count": 13,
   "id": "ba878beb-b3e8-41aa-914a-87740a82d656",
   "metadata": {},
   "outputs": [
    {
     "name": "stdout",
     "output_type": "stream",
     "text": [
      "[7 8]\n"
     ]
    }
   ],
   "source": [
    "# slicing in 2d array\n",
    "x=np.array([[1,2,3,4],[5,6,7,8]])\n",
    "print(x[1,2:4])\n",
    "# in this first we will go to first row then will apply the same method"
   ]
  },
  {
   "cell_type": "code",
   "execution_count": 15,
   "id": "6e0fc38d-e021-417b-916a-f74e0dc20f8a",
   "metadata": {},
   "outputs": [
    {
     "name": "stdout",
     "output_type": "stream",
     "text": [
      "[10 11 12]\n"
     ]
    }
   ],
   "source": [
    "# slicing in 3d array\n",
    "x=np.array([[[1,2,3],[4,5,6]],[[7,8,9],[10,11,12]]])\n",
    "print(x[1,1,:])\n",
    "# in this first we will go to first plate , then we will go to first row the apply the same"
   ]
  },
  {
   "cell_type": "code",
   "execution_count": 17,
   "id": "e3abd5a8-7274-407e-9e4e-97670db6a3f1",
   "metadata": {},
   "outputs": [],
   "source": [
    "# datatypes in numpy\n",
    "# i for integer\n",
    "# b for boolean\n",
    "# u for unsigned integer\n",
    "# c for complex float\n",
    "# m for timedelta\n",
    "# M for datetime\n",
    "# O for object\n",
    "# S for string\n",
    "# U for unicode string\n",
    "# V for memory\n"
   ]
  },
  {
   "cell_type": "code",
   "execution_count": 19,
   "id": "8cc5ebdd-7560-4747-b335-3cf84cc6bc00",
   "metadata": {},
   "outputs": [
    {
     "name": "stdout",
     "output_type": "stream",
     "text": [
      "int64\n"
     ]
    }
   ],
   "source": [
    "# checking the datatype of numpy arrays\n",
    "x=np.array([1,2,3,4,5])\n",
    "print(x.dtype)\n"
   ]
  },
  {
   "cell_type": "code",
   "execution_count": 20,
   "id": "6fa26290-d4a6-412e-acf4-19304094658c",
   "metadata": {},
   "outputs": [],
   "source": [
    "# it is also saying the no of bytes\n"
   ]
  },
  {
   "cell_type": "code",
   "execution_count": 21,
   "id": "0ed01c40-dbf9-4ab5-97dd-0962a514ad94",
   "metadata": {},
   "outputs": [
    {
     "name": "stdout",
     "output_type": "stream",
     "text": [
      "<U6\n"
     ]
    }
   ],
   "source": [
    "x=np.array([\"banana\",\"pple\",\"grey\"])\n",
    "print(x.dtype)"
   ]
  },
  {
   "cell_type": "code",
   "execution_count": 22,
   "id": "a87fa4fa-d6c8-4264-856a-88a1e0b0e2a0",
   "metadata": {},
   "outputs": [
    {
     "name": "stdout",
     "output_type": "stream",
     "text": [
      "[1 2 3 4]\n",
      "int32\n"
     ]
    }
   ],
   "source": [
    "# now we will create an array with datatypw with 4 bytes\n",
    "x=np.array([1,2,3,4],dtype='i4')\n",
    "print(x)\n",
    "print(x.dtype)"
   ]
  },
  {
   "cell_type": "code",
   "execution_count": 23,
   "id": "fd84ffeb-cd74-4dbd-9deb-f1749226ea5c",
   "metadata": {},
   "outputs": [
    {
     "ename": "ValueError",
     "evalue": "invalid literal for int() with base 10: 'a'",
     "output_type": "error",
     "traceback": [
      "\u001b[1;31m---------------------------------------------------------------------------\u001b[0m",
      "\u001b[1;31mValueError\u001b[0m                                Traceback (most recent call last)",
      "Cell \u001b[1;32mIn[23], line 3\u001b[0m\n\u001b[0;32m      1\u001b[0m \u001b[38;5;66;03m#  if a type is given in which the elements cannot be cascaded then numpy will rise error\u001b[39;00m\n\u001b[0;32m      2\u001b[0m \u001b[38;5;28;01mimport\u001b[39;00m \u001b[38;5;21;01mnumpy\u001b[39;00m \u001b[38;5;28;01mas\u001b[39;00m \u001b[38;5;21;01mnp\u001b[39;00m\n\u001b[1;32m----> 3\u001b[0m x\u001b[38;5;241m=\u001b[39m\u001b[43mnp\u001b[49m\u001b[38;5;241;43m.\u001b[39;49m\u001b[43marray\u001b[49m\u001b[43m(\u001b[49m\u001b[43m[\u001b[49m\u001b[38;5;124;43m'\u001b[39;49m\u001b[38;5;124;43ma\u001b[39;49m\u001b[38;5;124;43m'\u001b[39;49m\u001b[43m,\u001b[49m\u001b[38;5;124;43m'\u001b[39;49m\u001b[38;5;124;43m2\u001b[39;49m\u001b[38;5;124;43m'\u001b[39;49m\u001b[43m,\u001b[49m\u001b[38;5;124;43m'\u001b[39;49m\u001b[38;5;124;43m3\u001b[39;49m\u001b[38;5;124;43m'\u001b[39;49m\u001b[43m]\u001b[49m\u001b[43m,\u001b[49m\u001b[43mdtype\u001b[49m\u001b[38;5;241;43m=\u001b[39;49m\u001b[38;5;124;43m'\u001b[39;49m\u001b[38;5;124;43mi\u001b[39;49m\u001b[38;5;124;43m'\u001b[39;49m\u001b[43m)\u001b[49m\n",
      "\u001b[1;31mValueError\u001b[0m: invalid literal for int() with base 10: 'a'"
     ]
    }
   ],
   "source": [
    "#  if a type is given in which the elements cannot be cascaded then numpy will rise error\n",
    "import numpy as np\n",
    "x=np.array(['a','2','3'],dtype='i')\n",
    "# as a will not be converted into integer\n"
   ]
  },
  {
   "cell_type": "code",
   "execution_count": 25,
   "id": "cf602d23-dafe-4bb6-8151-8fa8f17c41ac",
   "metadata": {},
   "outputs": [
    {
     "name": "stdout",
     "output_type": "stream",
     "text": [
      "[ True  True  True  True]\n"
     ]
    }
   ],
   "source": [
    "# converting datatype into existing array\n",
    "# astype()\n",
    "\n",
    "# boolean to integer conversion\n",
    "x=np.array([1.1,2.1,3.1,4.1])\n",
    "x1=x.astype(bool)\n",
    "print(x1)"
   ]
  },
  {
   "cell_type": "code",
   "execution_count": null,
   "id": "40b93dde-f94d-4a0e-b49c-d6101bfd58b6",
   "metadata": {},
   "outputs": [],
   "source": []
  },
  {
   "cell_type": "code",
   "execution_count": 27,
   "id": "ca043b4c-45f8-49ba-9626-60c80e86e329",
   "metadata": {},
   "outputs": [
    {
     "name": "stdout",
     "output_type": "stream",
     "text": [
      "[1 2 3 4]\n"
     ]
    }
   ],
   "source": [
    "# boolean to integer conversion\n",
    "x=np.array([1.1,2.1,3.1,4.1])\n",
    "x1=x.astype('i')\n",
    "print(x1)"
   ]
  },
  {
   "cell_type": "code",
   "execution_count": 29,
   "id": "1e510ac0-2273-4d38-9eb0-471bd2499b2d",
   "metadata": {},
   "outputs": [
    {
     "name": "stdout",
     "output_type": "stream",
     "text": [
      "[  1 -20   3   4]\n",
      "[1 2 3 4]\n"
     ]
    }
   ],
   "source": [
    "# difference between copy and view \n",
    "x=np.array([1,2,3,4])\n",
    "x1=x.copy()\n",
    "x[1]=-20\n",
    "print(x)\n",
    "print(x1)\n",
    "# no change will be reflected in the copied array"
   ]
  },
  {
   "cell_type": "code",
   "execution_count": 30,
   "id": "0867af82-73b2-450b-8aca-ba9744b33945",
   "metadata": {},
   "outputs": [
    {
     "name": "stdout",
     "output_type": "stream",
     "text": [
      "[  1 -20   3   4]\n",
      "[  1 -20   3   4]\n"
     ]
    }
   ],
   "source": [
    "# view \n",
    "x=np.array([1,2,3,4])\n",
    "x1=x.view()\n",
    "x[1]=-20\n",
    "print(x)\n",
    "print(x1)\n",
    "# change will be reflected in the viewed array"
   ]
  },
  {
   "cell_type": "code",
   "execution_count": 31,
   "id": "4d5dd9f2-d8c1-430b-9e55-f25e362fcf8c",
   "metadata": {},
   "outputs": [],
   "source": [
    "# shape of an array\n",
    "\n"
   ]
  },
  {
   "cell_type": "code",
   "execution_count": 32,
   "id": "ef94d1c7-7dad-4d13-9c8d-b36cf2265b55",
   "metadata": {},
   "outputs": [
    {
     "name": "stdout",
     "output_type": "stream",
     "text": [
      "(2, 4)\n"
     ]
    }
   ],
   "source": [
    "# for one dimension\n",
    "x=np.array([[1,2,3,4],[5,6,7,8]])\n",
    "print(x.shape)"
   ]
  },
  {
   "cell_type": "code",
   "execution_count": 33,
   "id": "659d311c-f8e0-4bdd-a6d9-aab014034453",
   "metadata": {},
   "outputs": [],
   "source": [
    "# here 2 means in the biggest dimension or in 2nd dimesion there are 2 elements or 2 [] and 4 means \n",
    "# in the smallest dimension there are 4 elements 1,2,3,4"
   ]
  },
  {
   "cell_type": "code",
   "execution_count": 34,
   "id": "516c13d7-204f-4f01-9525-10e5b6a8c1d9",
   "metadata": {},
   "outputs": [
    {
     "name": "stdout",
     "output_type": "stream",
     "text": [
      "[[[[[1 2 3 4 5]]]]]\n"
     ]
    }
   ],
   "source": [
    "# for multi dimension\n",
    "x=np.array([1,2,3,4,5],ndmin=5)\n",
    "print(x)"
   ]
  },
  {
   "cell_type": "code",
   "execution_count": 35,
   "id": "43b2cfec-97dc-4890-8cd1-533e6a8b691e",
   "metadata": {},
   "outputs": [
    {
     "name": "stdout",
     "output_type": "stream",
     "text": [
      "(1, 1, 1, 1, 5)\n"
     ]
    }
   ],
   "source": [
    "print(x.shape)"
   ]
  },
  {
   "cell_type": "code",
   "execution_count": 37,
   "id": "0b63a251-7bb2-465a-b109-69d7f3bc7fa4",
   "metadata": {},
   "outputs": [],
   "source": [
    "# samer thing applies for this above ,"
   ]
  },
  {
   "cell_type": "code",
   "execution_count": 38,
   "id": "ced09984-8a18-4a5f-bf51-43697c69654e",
   "metadata": {},
   "outputs": [
    {
     "name": "stdout",
     "output_type": "stream",
     "text": [
      "[1 2 3 4 5 6 7 8]\n",
      "[[1 2 3 4]\n",
      " [5 6 7 8]]\n"
     ]
    }
   ],
   "source": [
    "# reshape\n",
    "# one d in to 2d \n",
    "x=np.array([1,2,3,4,5,6,7,8])\n",
    "x1=x.reshape(2,4)\n",
    "print(x)\n",
    "print(x1)"
   ]
  },
  {
   "cell_type": "code",
   "execution_count": 39,
   "id": "e9f7310d-4021-4307-9ca6-3e87273fdc99",
   "metadata": {},
   "outputs": [
    {
     "name": "stdout",
     "output_type": "stream",
     "text": [
      "[ 1  2  3  4  5  6  7  8  9 10 11 12]\n",
      "[[[ 1  2  3]\n",
      "  [ 4  5  6]]\n",
      "\n",
      " [[ 7  8  9]\n",
      "  [10 11 12]]]\n"
     ]
    }
   ],
   "source": [
    "# one d into 3d \n",
    "x=np.array([1,2,3,4,5,6,7,8,9,10,11,12])\n",
    "x1=x.reshape(2,2,3)\n",
    "print(x)\n",
    "print(x1)"
   ]
  },
  {
   "cell_type": "code",
   "execution_count": 40,
   "id": "b2ca8755-51e0-4e07-94ec-01bc1cb2ffc5",
   "metadata": {},
   "outputs": [],
   "source": [
    "# we can also reverse the things eg converting multidimensional array into single dimension"
   ]
  },
  {
   "cell_type": "code",
   "execution_count": 41,
   "id": "160b5987-4c77-4a11-bb66-f1757aad5658",
   "metadata": {},
   "outputs": [
    {
     "name": "stdout",
     "output_type": "stream",
     "text": [
      "[[[ 1  2  3]\n",
      "  [ 4  5  6]]\n",
      "\n",
      " [[ 7  8  9]\n",
      "  [10 11 12]]]\n",
      "[ 1  2  3  4  5  6  7  8  9 10 11 12]\n"
     ]
    }
   ],
   "source": [
    "x=np.array([[[1,2,3],[4,5,6]],[[7,8,9],[10,11,12]]])\n",
    "x1=x.reshape(-1)\n",
    "print(x)\n",
    "print(x1)"
   ]
  },
  {
   "cell_type": "code",
   "execution_count": 42,
   "id": "b05ef33c-73d7-49fa-9f4e-88148ffee55d",
   "metadata": {},
   "outputs": [
    {
     "name": "stdout",
     "output_type": "stream",
     "text": [
      "[ 1  2  3  4  5  6  7  8  9 10 11 12]\n",
      "[[[ 1  2  3]\n",
      "  [ 4  5  6]]\n",
      "\n",
      " [[ 7  8  9]\n",
      "  [10 11 12]]]\n"
     ]
    }
   ],
   "source": [
    "# if we are unknown about the last dimension then we can pass -1\n",
    "x=np.array([1,2,3,4,5,6,7,8,9,10,11,12])\n",
    "x1=x.reshape(2,2,-1)\n",
    "print(x)\n",
    "print(x1)"
   ]
  },
  {
   "cell_type": "code",
   "execution_count": 44,
   "id": "d8ea9cbf-3b6b-495e-9a72-6406580804c2",
   "metadata": {},
   "outputs": [],
   "source": [
    "# iterating in arrays\n"
   ]
  },
  {
   "cell_type": "code",
   "execution_count": 46,
   "id": "4c24bf3a-4354-4389-b908-1ad86ca4e011",
   "metadata": {},
   "outputs": [
    {
     "name": "stdout",
     "output_type": "stream",
     "text": [
      "1\n",
      "2\n",
      "3\n",
      "4\n"
     ]
    }
   ],
   "source": [
    "# 1d array\n",
    "x=np.array([1,2,3,4])\n",
    "for i in x:\n",
    "    print(i)"
   ]
  },
  {
   "cell_type": "code",
   "execution_count": 47,
   "id": "f5d2ad9d-ea53-40e1-a482-564ad475c51e",
   "metadata": {},
   "outputs": [
    {
     "name": "stdout",
     "output_type": "stream",
     "text": [
      "1\n",
      "2\n",
      "3\n",
      "4\n",
      "5\n",
      "6\n",
      "7\n",
      "8\n"
     ]
    }
   ],
   "source": [
    "x=np.array([[1,2,3,4],[5,6,7,8]])\n",
    "for i in x:\n",
    "    for j in i:\n",
    "        print(j)\n",
    "# i will took to rows \n",
    "# j will took to elements\n"
   ]
  },
  {
   "cell_type": "code",
   "execution_count": 49,
   "id": "af0dc853-7ee5-4845-9145-39cf5f6e26ee",
   "metadata": {},
   "outputs": [
    {
     "name": "stdout",
     "output_type": "stream",
     "text": [
      "1\n",
      "2\n",
      "3\n",
      "4\n",
      "5\n",
      "6\n",
      "7\n",
      "8\n",
      "9\n",
      "10\n",
      "11\n",
      "12\n"
     ]
    }
   ],
   "source": [
    "x=np.array([[[1,2,3],[4,5,6]],[[7,8,9],[10,11,12]]])\n",
    "for i in x:\n",
    "    for j in i:\n",
    "        for k in j:\n",
    "            print(k)\n",
    "# i will take to individual plates\n",
    "# j will take to individual rows on each plate\n",
    "# k will take to each element in each row"
   ]
  },
  {
   "cell_type": "code",
   "execution_count": 3,
   "id": "60c97c8a-e59f-4ef7-b7ad-63606d88f0ce",
   "metadata": {},
   "outputs": [
    {
     "name": "stdout",
     "output_type": "stream",
     "text": [
      "1\n",
      "3\n",
      "5\n",
      "7\n"
     ]
    }
   ],
   "source": [
    "import numpy as np\n",
    "x=np.array([[1,2,3,4],[5,6,7,8]])\n",
    "for i in np.nditer(x[:,::2]):\n",
    "        print(i)"
   ]
  },
  {
   "cell_type": "code",
   "execution_count": 4,
   "id": "ac9989ad-b196-4773-a65d-f7fa2b339a0d",
   "metadata": {},
   "outputs": [],
   "source": [
    "# joining the numpy arrays\n",
    "# here we willl concatenate"
   ]
  },
  {
   "cell_type": "code",
   "execution_count": 7,
   "id": "57d218e6-faa8-430c-9d5b-be84c0e49e17",
   "metadata": {},
   "outputs": [
    {
     "name": "stdout",
     "output_type": "stream",
     "text": [
      "[1 2 3 4 5 6]\n"
     ]
    }
   ],
   "source": [
    "import numpy as np\n",
    "x=np.array([1,2,3])\n",
    "x1=np.array([4,5,6])\n",
    "x3=np.concatenate((x,x1))\n",
    "# here () one extra bracket is used\n",
    "print(x3)"
   ]
  },
  {
   "cell_type": "code",
   "execution_count": 3,
   "id": "b75f1301-07d7-4075-967f-92bedcc0d3e0",
   "metadata": {},
   "outputs": [
    {
     "name": "stdout",
     "output_type": "stream",
     "text": [
      "[[1 2 5 6]\n",
      " [3 4 7 8]]\n"
     ]
    }
   ],
   "source": [
    "# joining of 2d arrays\n",
    "# along with rows\n",
    "import numpy as np\n",
    "x=np.array([[1,2],[3,4]])\n",
    "x1=np.array([[5,6],[7,8]])\n",
    "x2=np.concatenate((x,x1),axis=1)\n",
    "print(x2)\n",
    "# here 1 2 will concatinate with 5 6 and 3 4 will concatenate with 7 8\n",
    "# axis 1 means take row of one array and row of second array and just join them"
   ]
  },
  {
   "cell_type": "code",
   "execution_count": 5,
   "id": "a1e2dab6-1f68-4fa6-a35b-76d2c541dd80",
   "metadata": {},
   "outputs": [
    {
     "name": "stdout",
     "output_type": "stream",
     "text": [
      "[[1 2]\n",
      " [3 4]\n",
      " [5 6]\n",
      " [7 8]]\n"
     ]
    }
   ],
   "source": [
    "# joining of 2d arrays\n",
    "# along with columns\n",
    "import numpy as np\n",
    "x=np.array([[1,2],[3,4]])\n",
    "x1=np.array([[5,6],[7,8]])\n",
    "x2=np.concatenate((x,x1),axis=0)\n",
    "print(x2)\n",
    "# here 1 3 will concatenate with 5 6 and 2 4 will concatenate with 6 8 column wise\n",
    "# axis 0 means take column of one array and column of second array and just join them"
   ]
  },
  {
   "cell_type": "code",
   "execution_count": 6,
   "id": "520d13cb-15b2-4d51-a952-75d626e256a9",
   "metadata": {},
   "outputs": [],
   "source": [
    "# joining arrays using stack"
   ]
  },
  {
   "cell_type": "code",
   "execution_count": 7,
   "id": "531b546a-774b-42fa-a395-d60aab1dc9ca",
   "metadata": {},
   "outputs": [
    {
     "name": "stdout",
     "output_type": "stream",
     "text": [
      "[array([1, 2]), array([3, 4]), array([5, 6])]\n"
     ]
    }
   ],
   "source": [
    "# splitting the arrays\n",
    "x=np.array([1,2,3,4,5,6])\n",
    "x1=np.array_split(x,3)\n",
    "print(x1)"
   ]
  },
  {
   "cell_type": "code",
   "execution_count": 8,
   "id": "583a8b5c-eb7b-43e7-b100-fbf52294409e",
   "metadata": {},
   "outputs": [
    {
     "name": "stdout",
     "output_type": "stream",
     "text": [
      "[array([1, 2]), array([3, 4]), array([5]), array([6])]\n"
     ]
    }
   ],
   "source": [
    "# splitting arrays\n",
    "#  <<something unusual>>\n",
    "x=np.array([1,2,3,4,5,6])\n",
    "x1=np.array_split(x,4)\n",
    "# here elements are 6 and we are splitting into 4\n",
    "print(x1)"
   ]
  },
  {
   "cell_type": "code",
   "execution_count": 9,
   "id": "362c733d-0b00-4567-a165-c49efc9c1fdd",
   "metadata": {},
   "outputs": [],
   "source": [
    "# it will automatically reduce 5 6 to 5 and 6\n"
   ]
  },
  {
   "cell_type": "code",
   "execution_count": 10,
   "id": "cac37f6d-20f6-4819-b735-bc6494998bbf",
   "metadata": {},
   "outputs": [
    {
     "name": "stdout",
     "output_type": "stream",
     "text": [
      "[1 2]\n",
      "[3 4]\n",
      "[5 6]\n"
     ]
    }
   ],
   "source": [
    "# splitting arrays and printing with index\n",
    "x=np.array([1,2,3,4,5,6])\n",
    "x1=np.array_split(x,3)\n",
    "print(x1[0])\n",
    "print(x1[1])\n",
    "print(x1[2])\n"
   ]
  },
  {
   "cell_type": "code",
   "execution_count": 11,
   "id": "a1b29eeb-9705-4b3b-96a4-5803dee4a1c2",
   "metadata": {},
   "outputs": [
    {
     "name": "stdout",
     "output_type": "stream",
     "text": [
      "[array([[1, 2]]), array([[3, 4]]), array([[5, 6]])]\n"
     ]
    }
   ],
   "source": [
    "# splitting the 2d arrays\n",
    "x=np.array([[1,2],[3,4],[5,6]])\n",
    "x1=np.array_split(x,3)\n",
    "print(x1)"
   ]
  },
  {
   "cell_type": "code",
   "execution_count": 12,
   "id": "755784a7-2550-4c87-93e8-4e0cea50f488",
   "metadata": {},
   "outputs": [],
   "source": [
    "# it will split the arrays into suitable rows given in the input\n",
    "# as 3 is given so 3 rows \n"
   ]
  },
  {
   "cell_type": "code",
   "execution_count": 13,
   "id": "3823f098-dcc4-49bb-af65-161390316560",
   "metadata": {},
   "outputs": [
    {
     "name": "stdout",
     "output_type": "stream",
     "text": [
      "[array([[1, 2]]), array([[3, 4]]), array([[5, 6]]), array([], shape=(0, 2), dtype=int64), array([], shape=(0, 2), dtype=int64), array([], shape=(0, 2), dtype=int64)]\n"
     ]
    }
   ],
   "source": [
    "# splitting the 2d arrays\n",
    "x=np.array([[1,2],[3,4],[5,6]])\n",
    "x1=np.array_split(x,6)\n",
    "print(x1)"
   ]
  },
  {
   "cell_type": "code",
   "execution_count": 14,
   "id": "3ef98f78-c544-4bd5-a731-8235a7acabb2",
   "metadata": {},
   "outputs": [
    {
     "name": "stdout",
     "output_type": "stream",
     "text": [
      "[array([[1, 2, 3],\n",
      "       [4, 5, 6]]), array([[ 7,  8,  9],\n",
      "       [10, 11, 12]]), array([[13, 14, 15],\n",
      "       [16, 17, 18]])]\n"
     ]
    }
   ],
   "source": [
    "# splitting the 2d arrays\n",
    "x=np.array([[1,2,3],[4,5,6],[7,8,9],[10,11,12],[13,14,15],[16,17,18]])\n",
    "x1=np.array_split(x,3)\n",
    "print(x1)"
   ]
  },
  {
   "cell_type": "code",
   "execution_count": 16,
   "id": "52778b7f-9729-4149-b123-04db3372dc16",
   "metadata": {},
   "outputs": [
    {
     "name": "stdout",
     "output_type": "stream",
     "text": [
      "[array([[ 1],\n",
      "       [ 4],\n",
      "       [ 7],\n",
      "       [10]]), array([[ 2],\n",
      "       [ 5],\n",
      "       [ 8],\n",
      "       [11]]), array([[ 3],\n",
      "       [ 6],\n",
      "       [ 9],\n",
      "       [12]])]\n"
     ]
    }
   ],
   "source": [
    "# splitting the 2d arrays into rows \n",
    "x=np.array([[1,2,3],[4,5,6],[7,8,9],[10,11,12]])\n",
    "x1=np.array_split(x,3,axis=1)\n",
    "print(x1)"
   ]
  },
  {
   "cell_type": "code",
   "execution_count": 17,
   "id": "5bdab9ac-eaa0-4348-9f8a-3f6a56b2d70b",
   "metadata": {},
   "outputs": [
    {
     "name": "stdout",
     "output_type": "stream",
     "text": [
      "[array([[1, 2, 3],\n",
      "       [4, 5, 6]]), array([[7, 8, 9]]), array([[10, 11, 12]])]\n"
     ]
    }
   ],
   "source": [
    "# splitting the 2d arrays into rows \n",
    "x=np.array([[1,2,3],[4,5,6],[7,8,9],[10,11,12]])\n",
    "x1=np.array_split(x,3,axis=0)\n",
    "print(x1)"
   ]
  },
  {
   "cell_type": "code",
   "execution_count": null,
   "id": "8a47008c-2b30-44bd-9700-840f50491f13",
   "metadata": {},
   "outputs": [],
   "source": []
  },
  {
   "cell_type": "code",
   "execution_count": 19,
   "id": "e182efba-e1d7-4cd7-b7f5-55e0ad94dc1c",
   "metadata": {},
   "outputs": [],
   "source": [
    "# alternate sol using hsplit()"
   ]
  },
  {
   "cell_type": "code",
   "execution_count": 20,
   "id": "888ce3fc-1ce6-4361-a886-baa683d9a5c6",
   "metadata": {},
   "outputs": [
    {
     "name": "stdout",
     "output_type": "stream",
     "text": [
      "(array([2]),)\n"
     ]
    }
   ],
   "source": [
    "# nuumpy searching arrays\n",
    "# using where()\n",
    "x=np.array([1,2,3,4,5])\n",
    "x1=np.where(x==3)\n",
    "print(x1)"
   ]
  },
  {
   "cell_type": "code",
   "execution_count": 21,
   "id": "eaee1b49-999d-4167-9ce5-bd06b2c75c5a",
   "metadata": {},
   "outputs": [],
   "source": [
    "#  it is showing the index no"
   ]
  },
  {
   "cell_type": "code",
   "execution_count": 22,
   "id": "3e484efb-5670-4e56-be36-167f9b2493b4",
   "metadata": {},
   "outputs": [
    {
     "name": "stdout",
     "output_type": "stream",
     "text": [
      "(array([0, 1, 3, 4]),)\n"
     ]
    }
   ],
   "source": [
    "x=np.array([1,2,3,4,5])\n",
    "x1=np.where(x!=3)\n",
    "print(x1)"
   ]
  },
  {
   "cell_type": "code",
   "execution_count": 23,
   "id": "589acf9d-fe18-4f6d-9363-d1b6b1e9659f",
   "metadata": {},
   "outputs": [],
   "source": [
    "# it means on these indexes no 3 is present"
   ]
  },
  {
   "cell_type": "code",
   "execution_count": 24,
   "id": "a483a240-a33f-4ee8-a34e-27a2445d6b7d",
   "metadata": {},
   "outputs": [],
   "source": [
    "# similarly we can find even and odd numbers"
   ]
  },
  {
   "cell_type": "code",
   "execution_count": 26,
   "id": "8e79460d-35bf-4001-b6ce-800e31e95624",
   "metadata": {},
   "outputs": [
    {
     "name": "stdout",
     "output_type": "stream",
     "text": [
      "2\n"
     ]
    }
   ],
   "source": [
    "# now to find the indexes based on number as input\n",
    "x=np.array([1,2,3,4,5])\n",
    "x1=np.searchsorted(x,3)\n",
    "print(x1)"
   ]
  },
  {
   "cell_type": "code",
   "execution_count": 27,
   "id": "4813943b-6580-498d-bd3a-f3617eac4e92",
   "metadata": {},
   "outputs": [],
   "source": [
    "# it means 3 is present on index no:2"
   ]
  },
  {
   "cell_type": "code",
   "execution_count": 32,
   "id": "e11689a7-ef7f-4043-8278-5b0ad2da340f",
   "metadata": {},
   "outputs": [
    {
     "name": "stdout",
     "output_type": "stream",
     "text": [
      "3\n"
     ]
    }
   ],
   "source": [
    "# searching from right side\n",
    "x=np.array([1,2,3,4,5])\n",
    "x1=np.searchsorted(x,3,side='right')\n",
    "print(x1)\n",
    "# where we can add value 3"
   ]
  },
  {
   "cell_type": "code",
   "execution_count": 33,
   "id": "2a393aa2-96ba-40d6-a726-11e067cb15be",
   "metadata": {},
   "outputs": [
    {
     "name": "stdout",
     "output_type": "stream",
     "text": [
      "[0 5 5]\n"
     ]
    }
   ],
   "source": [
    " x=np.array([1,2,3,4,5])\n",
    "x1=np.searchsorted(x,[0,6,7])\n",
    "print(x1)"
   ]
  },
  {
   "cell_type": "code",
   "execution_count": 34,
   "id": "7e604d94-1b29-407d-94b0-a5f3e8d26922",
   "metadata": {},
   "outputs": [],
   "source": [
    "#  itmeans 0 should be inserted at index 0 and 6 7 shold be inserted after index 5"
   ]
  },
  {
   "cell_type": "code",
   "execution_count": 35,
   "id": "5c1824a3-6cda-4bfc-8e4a-c784c06c60a2",
   "metadata": {},
   "outputs": [],
   "source": [
    "# sorting in arrays\n"
   ]
  },
  {
   "cell_type": "code",
   "execution_count": 36,
   "id": "b4c020cd-1e01-42b6-bc11-5d89cd60578b",
   "metadata": {},
   "outputs": [
    {
     "name": "stdout",
     "output_type": "stream",
     "text": [
      "[1 2 3 4 5 6 7]\n"
     ]
    }
   ],
   "source": [
    "x=np.array([2,3,1,4,7,6,5])\n",
    "print(np.sort(x))"
   ]
  },
  {
   "cell_type": "code",
   "execution_count": 37,
   "id": "275ae1b2-2aa9-402b-b10a-5f304bf23a93",
   "metadata": {},
   "outputs": [
    {
     "name": "stdout",
     "output_type": "stream",
     "text": [
      "['apple' 'banana' 'opple']\n"
     ]
    }
   ],
   "source": [
    "x=np.array([\"banana\",\"opple\",\"apple\"])\n",
    "print(np.sort(x))"
   ]
  },
  {
   "cell_type": "code",
   "execution_count": 38,
   "id": "14a4317f-2a5c-4392-9ffb-2f86ccda4315",
   "metadata": {},
   "outputs": [
    {
     "name": "stdout",
     "output_type": "stream",
     "text": [
      "[[1 2 3]\n",
      " [4 5 6]\n",
      " [7 8 9]]\n"
     ]
    }
   ],
   "source": [
    "x=np.array([[3,2,1],[6,5,4],[9,8,7]])\n",
    "print(np.sort(x))"
   ]
  },
  {
   "cell_type": "code",
   "execution_count": 39,
   "id": "400a35c2-1558-40ed-8c7e-d5c79de413e1",
   "metadata": {},
   "outputs": [],
   "source": [
    "# it will sort acc to the rows and will not sort all items"
   ]
  },
  {
   "cell_type": "code",
   "execution_count": 43,
   "id": "3c6789d5-dc2d-403e-ac9f-04618d10415c",
   "metadata": {},
   "outputs": [
    {
     "name": "stdout",
     "output_type": "stream",
     "text": [
      "[1 3]\n"
     ]
    }
   ],
   "source": [
    "# filtering\n",
    "x=np.array([1,2,3,4])\n",
    "x1=[True,False,True,False]\n",
    "x2=x[x1]\n",
    "print(x2)"
   ]
  },
  {
   "cell_type": "code",
   "execution_count": 45,
   "id": "086e13b7-8118-4c68-9394-7f085ffe4094",
   "metadata": {},
   "outputs": [
    {
     "name": "stdout",
     "output_type": "stream",
     "text": [
      "[ 2  4  6  8 10]\n"
     ]
    }
   ],
   "source": [
    "# getting only even number\n",
    "x=np.array([1,2,3,4,5,6,7,8,9,10])\n",
    "y=[]\n",
    "for i in x:\n",
    "    if(i%2==0):\n",
    "      y.append(True)\n",
    "    else:\n",
    "      y.append(False)\n",
    "x2=x[y]\n",
    "print(x2)"
   ]
  },
  {
   "cell_type": "code",
   "execution_count": 47,
   "id": "0e5de151-f42a-4557-9e15-1789ad5ff368",
   "metadata": {},
   "outputs": [
    {
     "name": "stdout",
     "output_type": "stream",
     "text": [
      "[ 5  6  7  8  9 10]\n"
     ]
    }
   ],
   "source": [
    "# we canalso filter directly\n",
    "# x=np.array([1,2,3,4,5,6,7,8,9,10])\n",
    "# y=[]\n",
    "# for i in x:\n",
    "#     if(i%2==0):\n",
    "#       y.append(True)\n",
    "#     else:\n",
    "#       y.append(False)\n",
    "# x2=x[y]\n",
    "# print(x2)\n",
    "\n",
    "# using this \n",
    "\n",
    "x=np.array([1,2,3,4,5,6,7,8,9,10])\n",
    "y=x>4  #this condtionn has made each item true and false accordingly and saved into\n",
    "# an array\n",
    "x2=x[y]\n",
    "print(x2)"
   ]
  },
  {
   "cell_type": "code",
   "execution_count": 48,
   "id": "cf812ae8-15de-4b04-9e15-e1df9c2808ef",
   "metadata": {},
   "outputs": [],
   "source": [
    "# random>that cannot be predicted how will it come"
   ]
  },
  {
   "cell_type": "code",
   "execution_count": 53,
   "id": "1defee3c-7b2e-487e-bc24-e039d4bfba90",
   "metadata": {},
   "outputs": [
    {
     "name": "stdout",
     "output_type": "stream",
     "text": [
      "93\n"
     ]
    }
   ],
   "source": [
    "from numpy import random\n",
    "x=random.randint(100)\n",
    "print(x)"
   ]
  },
  {
   "cell_type": "code",
   "execution_count": 57,
   "id": "7147f142-f3ff-4b2e-93db-f6fd6cf564f5",
   "metadata": {},
   "outputs": [
    {
     "name": "stdout",
     "output_type": "stream",
     "text": [
      "0.4228348474401239\n"
     ]
    }
   ],
   "source": [
    "# it will generate value from 0-1\n",
    "from numpy import random\n",
    "x=random.rand()\n",
    "print(x)"
   ]
  },
  {
   "cell_type": "code",
   "execution_count": 67,
   "id": "3b73073a-79df-47f8-909e-7853fd0900c3",
   "metadata": {},
   "outputs": [
    {
     "name": "stdout",
     "output_type": "stream",
     "text": [
      "[6.40963699 8.85214727 8.0367662  6.01134989 9.75427125 4.85536955\n",
      " 2.63902293 7.36419207 0.84891234 8.89797582]\n"
     ]
    }
   ],
   "source": [
    "# to get the required value\n",
    "from numpy import random\n",
    "x=random.rand()\n",
    "print(x*10)\n",
    "# now it will give value between 0 to 10"
   ]
  },
  {
   "cell_type": "code",
   "execution_count": 75,
   "id": "938bdef8-a2ce-44c8-b5ab-798ae9f60557",
   "metadata": {},
   "outputs": [
    {
     "name": "stdout",
     "output_type": "stream",
     "text": [
      "[0.17779807 0.58715309 0.04108374 0.18905154 0.67056187 0.57775871\n",
      " 0.82323614 0.74821101 0.06379326 0.46252141]\n"
     ]
    }
   ],
   "source": [
    "from numpy import random\n",
    "x=random.rand(10)\n",
    "# to get desired no of values\n",
    "print(x)"
   ]
  },
  {
   "cell_type": "code",
   "execution_count": 69,
   "id": "a9d29878-1c91-46bb-9bd5-9a8f6ebe4731",
   "metadata": {},
   "outputs": [],
   "source": [
    "# it has given 10 values"
   ]
  },
  {
   "cell_type": "code",
   "execution_count": 70,
   "id": "0d83ab7a-7401-4e6e-9d14-c922bdf8cdfc",
   "metadata": {},
   "outputs": [
    {
     "name": "stdout",
     "output_type": "stream",
     "text": [
      "[46 75  9 88 26 71 31]\n"
     ]
    }
   ],
   "source": [
    "# to generate 1d random array\n",
    "from numpy import random\n",
    "x=random.randint(100,size=(7))\n",
    "print(x)"
   ]
  },
  {
   "cell_type": "code",
   "execution_count": 71,
   "id": "9ad6a2b6-70b8-417d-b8e0-8fa8e990651c",
   "metadata": {},
   "outputs": [
    {
     "name": "stdout",
     "output_type": "stream",
     "text": [
      "[[22 78 83]\n",
      " [49 58 55]\n",
      " [58 86 10]\n",
      " [85 73 50]\n",
      " [18 67 96]\n",
      " [80 74 98]\n",
      " [44 71  2]]\n"
     ]
    }
   ],
   "source": [
    "# to get 2d \n",
    "from numpy import random\n",
    "x=random.randint(100,size=(7,3))\n",
    "print(x)"
   ]
  },
  {
   "cell_type": "code",
   "execution_count": 73,
   "id": "86dbe8b4-4490-4f85-9d81-9e613ef873ae",
   "metadata": {},
   "outputs": [
    {
     "name": "stdout",
     "output_type": "stream",
     "text": [
      "[[[54 14 46 95]\n",
      "  [ 8 30 13 35]\n",
      "  [ 5 63  4 87]]\n",
      "\n",
      " [[13 49 11 31]\n",
      "  [84 11 55 70]\n",
      "  [50 39 17 27]]]\n"
     ]
    }
   ],
   "source": [
    "# to get 3d \n",
    "from numpy import random\n",
    "x=random.randint(100,size=(2,3,4))\n",
    "print(x)"
   ]
  },
  {
   "cell_type": "code",
   "execution_count": 80,
   "id": "1bd54e29-9422-43eb-8ad7-2e29f0d1939d",
   "metadata": {},
   "outputs": [
    {
     "name": "stdout",
     "output_type": "stream",
     "text": [
      "43\n"
     ]
    }
   ],
   "source": [
    "# choice\n",
    "from numpy import random\n",
    "x=random.choice([3,7,11,22,32,43,54,12,78])\n",
    "print(x)\n"
   ]
  },
  {
   "cell_type": "code",
   "execution_count": 81,
   "id": "4df58e2f-017d-49fb-9ab5-27eda6b2cd99",
   "metadata": {},
   "outputs": [],
   "source": [
    "# it will print the numbers within the array"
   ]
  },
  {
   "cell_type": "code",
   "execution_count": 82,
   "id": "93bab3a4-139f-4946-a7da-2c44ec54cfb6",
   "metadata": {},
   "outputs": [
    {
     "name": "stdout",
     "output_type": "stream",
     "text": [
      "[[23  3 23  7]\n",
      " [44  7  7  4]]\n"
     ]
    }
   ],
   "source": [
    "    # for getting 2d array within given numbers\n",
    "from numpy import random\n",
    "x=random.choice([2,3,4,7,11,33,44,23,45],size=(2,4))\n",
    "print(x)"
   ]
  },
  {
   "cell_type": "code",
   "execution_count": 1,
   "id": "c5630fc2-7521-49b7-9bfc-8bdb2e59b476",
   "metadata": {},
   "outputs": [],
   "source": [
    "\n",
    "# data distribution is list of all possible values and how often each value occur\n"
   ]
  },
  {
   "cell_type": "code",
   "execution_count": 2,
   "id": "4480e923-0392-4718-a39c-2103c9557f19",
   "metadata": {},
   "outputs": [],
   "source": [
    "# such lists are imp when working with statistics and data science\n"
   ]
  },
  {
   "cell_type": "code",
   "execution_count": 9,
   "id": "58cd5144-a8c1-4402-ac7e-c1fa5ff4834b",
   "metadata": {},
   "outputs": [
    {
     "name": "stdout",
     "output_type": "stream",
     "text": [
      "[5 7 7 7 5 5 7 3 7 5 7 5 7 5 7 5 7 7 7 7 5 7 7 5 7 5 5 5 5 3 5 5 5 5 5 7 5\n",
      " 5 5 5 5 7 5 7 7 7 7 7 7 5 7 5 7 7 7 7 7 7 7 7 7 5 7 7 7 7 5 7 7 5 7 7 7 7\n",
      " 7 7 7 3 7 7 7 5 5 5 7 5 5 3 5 7 3 7 5 5 7 7 7 7 7 3]\n"
     ]
    }
   ],
   "source": [
    "# random distribuion:probability function\n",
    "# array containig 100 value and each value has to be within 3,5,7,9\n",
    "# the probability for the value 3 is set to be 0.1\n",
    "# the probability for the value 5 is set to be 0.2\n",
    "# the probability for the value 7 is set to be 0.6\n",
    "# the probability for the value 9 is set to be 0.1\n",
    "# the sum should be 1\n",
    "from numpy import random\n",
    "x=random.choice([3,5,7,9],p=[0.1,0.3,0.6,0.0],size=(100))\n",
    "print(x)\n",
    "\n",
    "# random data distribution\n",
    "\n"
   ]
  },
  {
   "cell_type": "code",
   "execution_count": 10,
   "id": "e46ba878-80a1-44c9-ba21-77e646efb06b",
   "metadata": {},
   "outputs": [
    {
     "name": "stdout",
     "output_type": "stream",
     "text": [
      "[[5 5 7 7 5]\n",
      " [7 7 7 5 7]\n",
      " [5 7 7 3 5]]\n"
     ]
    }
   ],
   "source": [
    "# now we will return 2d with 3 rows and each 5 \n",
    "from numpy import random\n",
    "x=random.choice([3,5,7,9],p=[0.1,0.3,0.6,0.0],size=(3,5))\n",
    "print(x)"
   ]
  },
  {
   "cell_type": "code",
   "execution_count": null,
   "id": "ae8f5bc4-54c4-4af1-88c3-8564916488eb",
   "metadata": {},
   "outputs": [],
   "source": []
  },
  {
   "cell_type": "code",
   "execution_count": null,
   "id": "7c6a1f77-6b9f-437e-8fb8-f7f714482f25",
   "metadata": {},
   "outputs": [],
   "source": []
  },
  {
   "cell_type": "code",
   "execution_count": 23,
   "id": "0ea99eed-db4c-4ab9-b1a5-bff441e82990",
   "metadata": {},
   "outputs": [
    {
     "name": "stdout",
     "output_type": "stream",
     "text": [
      "[2 1 3 4 5]\n"
     ]
    }
   ],
   "source": [
    "# permutatiton >random arrangement of elements like [3 2 1],[1 2 3],[2 3 1],[3 1 2]\n",
    "\n",
    "# the numpy random module provides two methods >> shuffle(), permutation\n",
    "# now we will randomly shuffle elements for the below array:\n",
    "from numpy import random\n",
    "import numpy as np\n",
    "x=np.array([1,2,3,4,5])\n",
    "random.shuffle(x)\n",
    "print(x)\n",
    "# shuffle()> make changes to the orginal array"
   ]
  },
  {
   "cell_type": "code",
   "execution_count": 26,
   "id": "dc9e93c1-6d8f-4346-be63-c3872327397b",
   "metadata": {},
   "outputs": [
    {
     "name": "stdout",
     "output_type": "stream",
     "text": [
      "[1 2 3 4 5]\n"
     ]
    }
   ],
   "source": [
    "# permutation\n",
    "from numpy import random\n",
    "import numpy as np\n",
    "x=np.array([1,2,3,4,5])\n",
    "random.permutation(x)\n",
    "print(x)"
   ]
  },
  {
   "cell_type": "code",
   "execution_count": 27,
   "id": "239f8c02-d683-4ffd-8b60-660537ed9417",
   "metadata": {},
   "outputs": [],
   "source": [
    "# because this permutation will work on copy\n"
   ]
  },
  {
   "cell_type": "code",
   "execution_count": 30,
   "id": "56c8385f-cc82-4c6d-b53c-e53777288915",
   "metadata": {},
   "outputs": [
    {
     "name": "stdout",
     "output_type": "stream",
     "text": [
      "[1 3 5 4 2]\n"
     ]
    }
   ],
   "source": [
    "# permutation\n",
    "from numpy import random\n",
    "import numpy as np\n",
    "x=np.array([1,2,3,4,5])\n",
    "\n",
    "print(random.permutation(x))"
   ]
  },
  {
   "cell_type": "code",
   "execution_count": 31,
   "id": "e250f183-bc81-44fa-8407-72f5f698c19a",
   "metadata": {},
   "outputs": [
    {
     "name": "stderr",
     "output_type": "stream",
     "text": [
      "C:\\Users\\vm822\\AppData\\Local\\Temp\\ipykernel_40760\\2484665079.py:9: UserWarning: \n",
      "\n",
      "`distplot` is a deprecated function and will be removed in seaborn v0.14.0.\n",
      "\n",
      "Please adapt your code to use either `displot` (a figure-level function with\n",
      "similar flexibility) or `histplot` (an axes-level function for histograms).\n",
      "\n",
      "For a guide to updating your code to use the new functions, please see\n",
      "https://gist.github.com/mwaskom/de44147ed2974457ad6372750bbe5751\n",
      "\n",
      "  sns.distplot([0,1,2,3,4,5])\n"
     ]
    },
    {
     "data": {
      "image/png": "[encoded data removed]",
      "text/plain": [
       "<Figure size 640x480 with 1 Axes>"
      ]
     },
     "metadata": {},
     "output_type": "display_data"
    }
   ],
   "source": [
    "# matplotlib\n",
    "# visualization with seaborn uses :---<pyplot :sub library of matplotlib>\n",
    "import matplotlib.pyplot as plt\n",
    "import seaborn as sns\n",
    "import numpy as np\n",
    "\n",
    "# Distplot-distribution plot\n",
    "\n",
    "sns.distplot([0,1,2,3,4,5])\n",
    "plt.show()\n",
    "# plotting a distplot without histogram\n",
    "\n",
    "\n"
   ]
  },
  {
   "cell_type": "code",
   "execution_count": 35,
   "id": "cd5725cf-f400-4d7f-9150-013670b3edce",
   "metadata": {},
   "outputs": [
    {
     "name": "stderr",
     "output_type": "stream",
     "text": [
      "C:\\Users\\vm822\\AppData\\Local\\Temp\\ipykernel_40760\\469725801.py:5: UserWarning: \n",
      "\n",
      "`distplot` is a deprecated function and will be removed in seaborn v0.14.0.\n",
      "\n",
      "Please adapt your code to use either `displot` (a figure-level function with\n",
      "similar flexibility) or `kdeplot` (an axes-level function for kernel density plots).\n",
      "\n",
      "For a guide to updating your code to use the new functions, please see\n",
      "https://gist.github.com/mwaskom/de44147ed2974457ad6372750bbe5751\n",
      "\n",
      "  sns.distplot(x,hist=False)\n"
     ]
    },
    {
     "data": {
      "text/plain": [
       "<function matplotlib.pyplot.show(close=None, block=None)>"
      ]
     },
     "execution_count": 35,
     "metadata": {},
     "output_type": "execute_result"
    },
    {
     "data": {
      "image/png": "[encoded data removed]",
      "text/plain": [
       "<Figure size 640x480 with 1 Axes>"
      ]
     },
     "metadata": {},
     "output_type": "display_data"
    }
   ],
   "source": [
    "import matplotlib.pyplot as plt\n",
    "import seaborn as sns\n",
    "import numpy as np\n",
    "x=[1,2,3,4,5]\n",
    "sns.distplot(x,hist=False)\n",
    "plt.show"
   ]
  },
  {
   "cell_type": "code",
   "execution_count": null,
   "id": "2e8eebd5-ab4a-42e3-ac82-68d9c08df3ec",
   "metadata": {},
   "outputs": [],
   "source": [
    "\n"
   ]
  },
  {
   "cell_type": "code",
   "execution_count": null,
   "id": "58ea21a4-21ba-4017-ba5c-9a812a9d8ccb",
   "metadata": {},
   "outputs": [],
   "source": []
  },
  {
   "cell_type": "code",
   "execution_count": 36,
   "id": "58ef0313-c969-4bb3-8c11-325ef2d6bf98",
   "metadata": {},
   "outputs": [
    {
     "name": "stdout",
     "output_type": "stream",
     "text": [
      "[[ 1.70068107  0.46509191 -0.89350692]\n",
      " [-1.60424291 -0.58001699  0.14165169]]\n"
     ]
    }
   ],
   "source": [
    "# normal distribution or gaussion\n",
    "# >>>>>>>>>>>>>.very imp\n",
    "# random.normal()\n",
    "# loc,scale,size\n",
    "from numpy import random\n",
    "x=random.normal(size=(2,3))\n",
    "print(x)"
   ]
  },
  {
   "cell_type": "code",
   "execution_count": 37,
   "id": "31a7feaa-0d50-49ba-98b1-4d6c1305cb8f",
   "metadata": {},
   "outputs": [],
   "source": [
    "# we are generating a random normal distribution of size 2 x 3"
   ]
  },
  {
   "cell_type": "code",
   "execution_count": 38,
   "id": "36ed0cf7-90b1-4c4e-8991-7bd594d38e67",
   "metadata": {},
   "outputs": [
    {
     "name": "stdout",
     "output_type": "stream",
     "text": [
      "[[ 4.00321371  2.86790901  3.01134585]\n",
      " [-0.10599715 -5.11829644 -0.28350887]]\n"
     ]
    }
   ],
   "source": [
    "# here we will generate a random normal dist of size 2 x 3 with mean =loc at 1 and scale -std deviation at 2\n",
    "from numpy import random\n",
    "x=random.normal(loc=1,scale=2,size=(2,3))\n",
    "print(x)"
   ]
  },
  {
   "cell_type": "code",
   "execution_count": 39,
   "id": "b3a5a164-34f5-41b4-a2d2-46e9dc405c07",
   "metadata": {},
   "outputs": [
    {
     "name": "stderr",
     "output_type": "stream",
     "text": [
      "C:\\Users\\vm822\\AppData\\Local\\Temp\\ipykernel_40760\\3477700569.py:5: UserWarning: \n",
      "\n",
      "`distplot` is a deprecated function and will be removed in seaborn v0.14.0.\n",
      "\n",
      "Please adapt your code to use either `displot` (a figure-level function with\n",
      "similar flexibility) or `kdeplot` (an axes-level function for kernel density plots).\n",
      "\n",
      "For a guide to updating your code to use the new functions, please see\n",
      "https://gist.github.com/mwaskom/de44147ed2974457ad6372750bbe5751\n",
      "\n",
      "  sns.distplot(random.normal(size=1000),hist=False)\n"
     ]
    },
    {
     "data": {
      "image/png": "[encoded data removed]",
      "text/plain": [
       "<Figure size 640x480 with 1 Axes>"
      ]
     },
     "metadata": {},
     "output_type": "display_data"
    }
   ],
   "source": [
    "# visualization of normal distribution\n",
    "from numpy import random\n",
    "import matplotlib.pyplot as plt\n",
    "import seaborn as sns\n",
    "sns.distplot(random.normal(size=1000),hist=False)\n",
    "plt.show()\n"
   ]
  },
  {
   "cell_type": "code",
   "execution_count": 40,
   "id": "c6b57702-1616-4466-aa0d-2f2e045365aa",
   "metadata": {},
   "outputs": [],
   "source": [
    "#  the curve of a normal dist is also a bell curve"
   ]
  },
  {
   "cell_type": "code",
   "execution_count": null,
   "id": "33f5ac60-6a2a-41f6-bda1-75ace96772f8",
   "metadata": {},
   "outputs": [],
   "source": []
  },
  {
   "cell_type": "code",
   "execution_count": null,
   "id": "9e2ec188-39ad-4102-82ad-1685f43d3af3",
   "metadata": {},
   "outputs": [],
   "source": []
  },
  {
   "cell_type": "code",
   "execution_count": 41,
   "id": "0bf69341-a5f5-42e3-9011-becbf5a3b7d8",
   "metadata": {},
   "outputs": [],
   "source": [
    "# binomial dist\n",
    "# discrete dist\n"
   ]
  },
  {
   "cell_type": "code",
   "execution_count": 51,
   "id": "80f02f0e-23aa-486a-ad7a-444cebda2bd1",
   "metadata": {},
   "outputs": [
    {
     "name": "stdout",
     "output_type": "stream",
     "text": [
      "[5 3 4 8 6 6 6 8 6 9]\n"
     ]
    }
   ],
   "source": [
    "# param -n(no of trials) ,p(probability),size(shape  -returned array)\n",
    "\n",
    "# given 10 trails for a coin which will generate 10 data points\n",
    "from numpy import random\n",
    "x=random.binomial(n=10,p=0.5,size=10)\n",
    "print(x)"
   ]
  },
  {
   "cell_type": "code",
   "execution_count": 54,
   "id": "da5a18db-bbf6-44a1-80ba-b1f47b0b0373",
   "metadata": {},
   "outputs": [
    {
     "name": "stderr",
     "output_type": "stream",
     "text": [
      "C:\\Users\\vm822\\AppData\\Local\\Temp\\ipykernel_40760\\1922108738.py:5: UserWarning: \n",
      "\n",
      "`distplot` is a deprecated function and will be removed in seaborn v0.14.0.\n",
      "\n",
      "Please adapt your code to use either `displot` (a figure-level function with\n",
      "similar flexibility) or `histplot` (an axes-level function for histograms).\n",
      "\n",
      "For a guide to updating your code to use the new functions, please see\n",
      "https://gist.github.com/mwaskom/de44147ed2974457ad6372750bbe5751\n",
      "\n",
      "  sns.distplot(x=random.binomial(n=10,p=0.5,size=1000),hist=True,kde=False)\n"
     ]
    },
    {
     "data": {
      "image/png": "[encoded data removed]",
      "text/plain": [
       "<Figure size 640x480 with 1 Axes>"
      ]
     },
     "metadata": {},
     "output_type": "display_data"
    }
   ],
   "source": [
    "# visualization of binomial\n",
    "from numpy import random+\n",
    "import matplotlib.pyplot as plt\n",
    "import seaborn as sns\n",
    "sns.distplot(x=random.binomial(n=10,p=0.5,size=1000),hist=True,kde=False)\n",
    "plt.show()"
   ]
  },
  {
   "cell_type": "code",
   "execution_count": 55,
   "id": "f718ac10-e0f6-40f0-80a5-a79831ca595a",
   "metadata": {},
   "outputs": [],
   "source": [
    "# diff between binomial and discrete dist\n",
    "# normal=continuous bino=discrete\n"
   ]
  },
  {
   "cell_type": "code",
   "execution_count": null,
   "id": "99abbb6d-0614-4258-bcb4-69237055fdaf",
   "metadata": {},
   "outputs": [],
   "source": []
  },
  {
   "cell_type": "code",
   "execution_count": null,
   "id": "c0c5dcb5-b888-429e-b349-5904b3b9702c",
   "metadata": {},
   "outputs": [],
   "source": []
  },
  {
   "cell_type": "code",
   "execution_count": 3,
   "id": "2f070a2a-bd84-40a0-8682-860762291f9c",
   "metadata": {},
   "outputs": [
    {
     "name": "stdout",
     "output_type": "stream",
     "text": [
      "[2 1 3 5 4 2 5 3 1 0]\n"
     ]
    }
   ],
   "source": [
    "# poisson dist\n",
    "# it predicts how many times a event can happen\n",
    "# lam -> no of occurence or rate\n",
    "# size\n",
    "# generate a random 1*10 dist for the occurance 2\n",
    "from numpy import random\n",
    "x=random.poisson(lam=2,size=10)\n",
    "print(x)"
   ]
  },
  {
   "cell_type": "code",
   "execution_count": 5,
   "id": "a49e220f-0364-4dac-9ccd-308ba03d518c",
   "metadata": {},
   "outputs": [
    {
     "name": "stderr",
     "output_type": "stream",
     "text": [
      "C:\\Users\\vm822\\AppData\\Local\\Temp\\ipykernel_43856\\1474748164.py:5: UserWarning: \n",
      "\n",
      "`distplot` is a deprecated function and will be removed in seaborn v0.14.0.\n",
      "\n",
      "Please adapt your code to use either `displot` (a figure-level function with\n",
      "similar flexibility) or `histplot` (an axes-level function for histograms).\n",
      "\n",
      "For a guide to updating your code to use the new functions, please see\n",
      "https://gist.github.com/mwaskom/de44147ed2974457ad6372750bbe5751\n",
      "\n",
      "  sns.distplot(x=random.poisson(lam=2,size=1000),kde=False)\n"
     ]
    },
    {
     "data": {
      "image/png": "[encoded data removed]",
      "text/plain": [
       "<Figure size 640x480 with 1 Axes>"
      ]
     },
     "metadata": {},
     "output_type": "display_data"
    }
   ],
   "source": [
    "# how to visualize \n",
    "from numpy import random\n",
    "import matplotlib.pyplot as plt\n",
    "import seaborn as sns\n",
    "sns.distplot(x=random.poisson(lam=2,size=1000),kde=False)\n",
    "plt.show()"
   ]
  },
  {
   "cell_type": "code",
   "execution_count": 10,
   "id": "5340bcf7-f062-4d18-928c-73f0eae16eee",
   "metadata": {},
   "outputs": [
    {
     "name": "stderr",
     "output_type": "stream",
     "text": [
      "C:\\Users\\vm822\\AppData\\Local\\Temp\\ipykernel_43856\\3603833635.py:5: UserWarning: \n",
      "\n",
      "`distplot` is a deprecated function and will be removed in seaborn v0.14.0.\n",
      "\n",
      "Please adapt your code to use either `displot` (a figure-level function with\n",
      "similar flexibility) or `kdeplot` (an axes-level function for kernel density plots).\n",
      "\n",
      "For a guide to updating your code to use the new functions, please see\n",
      "https://gist.github.com/mwaskom/de44147ed2974457ad6372750bbe5751\n",
      "\n",
      "  sns.distplot(random.normal(loc=50,scale=7,size=1000,),hist=False,label='Normal')\n",
      "C:\\Users\\vm822\\AppData\\Local\\Temp\\ipykernel_43856\\3603833635.py:6: UserWarning: \n",
      "\n",
      "`distplot` is a deprecated function and will be removed in seaborn v0.14.0.\n",
      "\n",
      "Please adapt your code to use either `displot` (a figure-level function with\n",
      "similar flexibility) or `kdeplot` (an axes-level function for kernel density plots).\n",
      "\n",
      "For a guide to updating your code to use the new functions, please see\n",
      "https://gist.github.com/mwaskom/de44147ed2974457ad6372750bbe5751\n",
      "\n",
      "  sns.distplot(random.poisson(lam=50,size=1000),hist=False,label='Poisson')\n"
     ]
    },
    {
     "data": {
      "image/png": "[encoded data removed]",
      "text/plain": [
       "<Figure size 640x480 with 1 Axes>"
      ]
     },
     "metadata": {},
     "output_type": "display_data"
    }
   ],
   "source": [
    "# presenting both the plots in same figure >normal and poisson\n",
    "from numpy import random\n",
    "import matplotlib.pyplot as plt\n",
    "import seaborn as sns\n",
    "sns.distplot(random.normal(loc=50,scale=7,size=1000,),hist=False,label='Normal')\n",
    "sns.distplot(random.poisson(lam=50,size=1000),hist=False,label='Poisson')\n",
    "plt.show()"
   ]
  },
  {
   "cell_type": "code",
   "execution_count": 14,
   "id": "a895c00f-56a5-4891-ac53-b389289204ac",
   "metadata": {},
   "outputs": [
    {
     "name": "stderr",
     "output_type": "stream",
     "text": [
      "C:\\Users\\vm822\\AppData\\Local\\Temp\\ipykernel_43856\\2139843743.py:5: UserWarning: \n",
      "\n",
      "`distplot` is a deprecated function and will be removed in seaborn v0.14.0.\n",
      "\n",
      "Please adapt your code to use either `displot` (a figure-level function with\n",
      "similar flexibility) or `kdeplot` (an axes-level function for kernel density plots).\n",
      "\n",
      "For a guide to updating your code to use the new functions, please see\n",
      "https://gist.github.com/mwaskom/de44147ed2974457ad6372750bbe5751\n",
      "\n",
      "  sns.distplot(random.normal(loc=50,scale=7,size=100,),hist=False,label='Normal')\n",
      "C:\\Users\\vm822\\AppData\\Local\\Temp\\ipykernel_43856\\2139843743.py:6: UserWarning: \n",
      "\n",
      "`distplot` is a deprecated function and will be removed in seaborn v0.14.0.\n",
      "\n",
      "Please adapt your code to use either `displot` (a figure-level function with\n",
      "similar flexibility) or `kdeplot` (an axes-level function for kernel density plots).\n",
      "\n",
      "For a guide to updating your code to use the new functions, please see\n",
      "https://gist.github.com/mwaskom/de44147ed2974457ad6372750bbe5751\n",
      "\n",
      "  sns.distplot(random.poisson(lam=50,size=1000),hist=False,label='Poisson')\n"
     ]
    },
    {
     "data": {
      "image/png": "[encoded data removed]",
      "text/plain": [
       "<Figure size 640x480 with 1 Axes>"
      ]
     },
     "metadata": {},
     "output_type": "display_data"
    }
   ],
   "source": [
    "# presenting both the plots in same figure >normal and poisson\n",
    "from numpy import random\n",
    "import matplotlib.pyplot as plt\n",
    "import seaborn as sns\n",
    "sns.distplot(random.normal(loc=50,scale=7,size=100,),hist=False,label='Normal')  # here size=100\n",
    "sns.distplot(random.poisson(lam=50,size=1000),hist=False,label='Poisson')\n",
    "plt.show()"
   ]
  },
  {
   "cell_type": "code",
   "execution_count": 15,
   "id": "cf73da6f-b005-43e3-91bd-521e8fd0bc54",
   "metadata": {},
   "outputs": [
    {
     "name": "stdout",
     "output_type": "stream",
     "text": [
      "[[0.37005451 0.44456308 0.21341136]\n",
      " [0.56856176 0.48593443 0.55142361]]\n"
     ]
    }
   ],
   "source": [
    "# uniform distribution\n",
    "# it is only made for probability\n",
    "# param - a(lower bound 0.0), b(upper bound 1.0),size\n",
    "from numpy import random\n",
    "x=random.uniform(size=(2,3))\n",
    "print(x)"
   ]
  },
  {
   "cell_type": "code",
   "execution_count": 17,
   "id": "6508c51a-6417-48a7-a6c8-ba78f2d70e1c",
   "metadata": {},
   "outputs": [
    {
     "name": "stderr",
     "output_type": "stream",
     "text": [
      "C:\\Users\\vm822\\AppData\\Local\\Temp\\ipykernel_43856\\910462846.py:5: UserWarning: \n",
      "\n",
      "`distplot` is a deprecated function and will be removed in seaborn v0.14.0.\n",
      "\n",
      "Please adapt your code to use either `displot` (a figure-level function with\n",
      "similar flexibility) or `kdeplot` (an axes-level function for kernel density plots).\n",
      "\n",
      "For a guide to updating your code to use the new functions, please see\n",
      "https://gist.github.com/mwaskom/de44147ed2974457ad6372750bbe5751\n",
      "\n",
      "  sns.distplot(random.uniform(size=1000),hist=False)\n"
     ]
    },
    {
     "data": {
      "image/png": "[encoded data removed]",
      "text/plain": [
       "<Figure size 640x480 with 1 Axes>"
      ]
     },
     "metadata": {},
     "output_type": "display_data"
    }
   ],
   "source": [
    "# visulaization \n",
    "from numpy import random\n",
    "import matplotlib.pyplot as plt\n",
    "import seaborn as sns\n",
    "sns.distplot(random.uniform(size=1000),hist=False)\n",
    "plt.show()"
   ]
  },
  {
   "cell_type": "code",
   "execution_count": 18,
   "id": "3406bca6-d750-437c-8d70-926c2a08da75",
   "metadata": {},
   "outputs": [],
   "source": [
    "# logistic dist\n",
    "# describe growth\n",
    "#  it is basically imp in regression and neural networks\n",
    "\n",
    "# params ->loc->(mean -0),scale(std deviation -1),size\n"
   ]
  },
  {
   "cell_type": "code",
   "execution_count": 19,
   "id": "a87a5867-a292-4519-b151-f4985bcad9bc",
   "metadata": {},
   "outputs": [
    {
     "name": "stdout",
     "output_type": "stream",
     "text": [
      "[[ 6.49310161  4.37468807  0.99950006]\n",
      " [ 2.53401541 -1.95286976  5.8413921 ]]\n"
     ]
    }
   ],
   "source": [
    "#  draw 2 x 2 with mean - 1 and std -2.0\n",
    "from numpy import random\n",
    "x=random.logistic(loc=1,scale=2,size=(2,3))\n",
    "print(x)"
   ]
  },
  {
   "cell_type": "code",
   "execution_count": 23,
   "id": "e6c51f8b-4600-4fb5-b0a6-367e22123dc9",
   "metadata": {},
   "outputs": [
    {
     "name": "stderr",
     "output_type": "stream",
     "text": [
      "C:\\Users\\vm822\\AppData\\Local\\Temp\\ipykernel_43856\\1637216808.py:5: UserWarning: \n",
      "\n",
      "`distplot` is a deprecated function and will be removed in seaborn v0.14.0.\n",
      "\n",
      "Please adapt your code to use either `displot` (a figure-level function with\n",
      "similar flexibility) or `kdeplot` (an axes-level function for kernel density plots).\n",
      "\n",
      "For a guide to updating your code to use the new functions, please see\n",
      "https://gist.github.com/mwaskom/de44147ed2974457ad6372750bbe5751\n",
      "\n",
      "  sns.distplot(random.logistic(loc=1,scale=2,size=1000),hist=False)\n"
     ]
    },
    {
     "data": {
      "image/png": "[encoded data removed]",
      "text/plain": [
       "<Figure size 640x480 with 1 Axes>"
      ]
     },
     "metadata": {},
     "output_type": "display_data"
    }
   ],
   "source": [
    "# visulaization\n",
    "from numpy import random\n",
    "import matplotlib.pyplot as plt\n",
    "import seaborn as sns\n",
    "sns.distplot(random.logistic(loc=1,scale=2,size=1000),hist=False)\n",
    "plt.show()"
   ]
  },
  {
   "cell_type": "code",
   "execution_count": 24,
   "id": "a7d4fb4f-81d9-4957-92be-9fb9497d01a1",
   "metadata": {},
   "outputs": [],
   "source": [
    "# multinomial dist\n",
    "# it is a generalization of binomial dist\n",
    "# params > n ->no of outcomes or  possibility, pvals(),size"
   ]
  },
  {
   "cell_type": "code",
   "execution_count": 25,
   "id": "c944c6ee-b555-4e9b-a454-8c3f6ab4ca49",
   "metadata": {},
   "outputs": [
    {
     "name": "stdout",
     "output_type": "stream",
     "text": [
      "[0 1 1 0 3 1]\n"
     ]
    }
   ],
   "source": [
    "# draw a sample for dice roll\n",
    "from numpy import random\n",
    "x=random.multinomial(n=6,pvals=[1/6,1/6,1/6,1/6,1/6,1/6])\n",
    "print(x)"
   ]
  },
  {
   "cell_type": "code",
   "execution_count": 26,
   "id": "594b6b24-3e0b-40d0-8029-a850d95a3211",
   "metadata": {},
   "outputs": [],
   "source": [
    "#  multinomial sample will not produce a single value , they will produce one value for each possiblity (pvals)\n"
   ]
  },
  {
   "cell_type": "code",
   "execution_count": null,
   "id": "6f099cc2-7dd6-4365-9ab2-2d244e1810aa",
   "metadata": {},
   "outputs": [],
   "source": []
  },
  {
   "cell_type": "code",
   "execution_count": null,
   "id": "1c46809c-64d5-495a-953c-7222898427da",
   "metadata": {},
   "outputs": [],
   "source": []
  },
  {
   "cell_type": "code",
   "execution_count": 27,
   "id": "248969c4-f142-4b9d-9fdd-6d93e5ef938f",
   "metadata": {},
   "outputs": [
    {
     "name": "stdout",
     "output_type": "stream",
     "text": [
      "[[0.50281093 1.49699455 0.07753344]\n",
      " [0.5735319  5.93337781 3.2260312 ]]\n"
     ]
    }
   ],
   "source": [
    "# exponential dist\n",
    "# it is used for describing the time of next event like failure or succes\n",
    "# params -scale()->inverse of rate(), size\n",
    "from numpy import random\n",
    "x=random.exponential(scale=2,size=(2,3))\n",
    "print(x)"
   ]
  },
  {
   "cell_type": "code",
   "execution_count": 28,
   "id": "a7529d65-2a1f-45f3-a429-a3a6feac05d7",
   "metadata": {},
   "outputs": [],
   "source": [
    "# visualize"
   ]
  },
  {
   "cell_type": "code",
   "execution_count": 32,
   "id": "c687fcea-073b-4bfc-82d9-52262fbc16e1",
   "metadata": {},
   "outputs": [
    {
     "name": "stderr",
     "output_type": "stream",
     "text": [
      "C:\\Users\\vm822\\AppData\\Local\\Temp\\ipykernel_43856\\113820474.py:4: UserWarning: \n",
      "\n",
      "`distplot` is a deprecated function and will be removed in seaborn v0.14.0.\n",
      "\n",
      "Please adapt your code to use either `displot` (a figure-level function with\n",
      "similar flexibility) or `kdeplot` (an axes-level function for kernel density plots).\n",
      "\n",
      "For a guide to updating your code to use the new functions, please see\n",
      "https://gist.github.com/mwaskom/de44147ed2974457ad6372750bbe5751\n",
      "\n",
      "  sns.distplot(random.exponential(scale=2,size=1000),hist=False)\n"
     ]
    },
    {
     "data": {
      "image/png": "[encoded data removed]",
      "text/plain": [
       "<Figure size 640x480 with 1 Axes>"
      ]
     },
     "metadata": {},
     "output_type": "display_data"
    }
   ],
   "source": [
    "from numpy import random\n",
    "import matplotlib.pyplot as plt\n",
    "import seaborn as sns\n",
    "sns.distplot(random.exponential(scale=2,size=1000),hist=False)\n",
    "plt.show()"
   ]
  },
  {
   "cell_type": "code",
   "execution_count": 32,
   "id": "8b8d71f6-1e7f-491d-a689-9c72973db9a7",
   "metadata": {},
   "outputs": [
    {
     "name": "stderr",
     "output_type": "stream",
     "text": [
      "C:\\Users\\vm822\\AppData\\Local\\Temp\\ipykernel_43856\\113820474.py:4: UserWarning: \n",
      "\n",
      "`distplot` is a deprecated function and will be removed in seaborn v0.14.0.\n",
      "\n",
      "Please adapt your code to use either `displot` (a figure-level function with\n",
      "similar flexibility) or `kdeplot` (an axes-level function for kernel density plots).\n",
      "\n",
      "For a guide to updating your code to use the new functions, please see\n",
      "https://gist.github.com/mwaskom/de44147ed2974457ad6372750bbe5751\n",
      "\n",
      "  sns.distplot(random.exponential(scale=2,size=1000),hist=False)\n"
     ]
    },
    {
     "data": {
      "image/png": "[encoded data removed]",
      "text/plain": [
       "<Figure size 640x480 with 1 Axes>"
      ]
     },
     "metadata": {},
     "output_type": "display_data"
    }
   ],
   "source": [
    "from numpy import random\n",
    "import matplotlib.pyplot as plt\n",
    "import seaborn as sns\n",
    "sns.distplot(random.exponential(scale=2,size=1000),hist=False)\n",
    "plt.show()"
   ]
  },
  {
   "cell_type": "code",
   "execution_count": 32,
   "id": "5f1399e7-5d86-481e-9202-7879776c2b42",
   "metadata": {},
   "outputs": [
    {
     "name": "stderr",
     "output_type": "stream",
     "text": [
      "C:\\Users\\vm822\\AppData\\Local\\Temp\\ipykernel_43856\\113820474.py:4: UserWarning: \n",
      "\n",
      "`distplot` is a deprecated function and will be removed in seaborn v0.14.0.\n",
      "\n",
      "Please adapt your code to use either `displot` (a figure-level function with\n",
      "similar flexibility) or `kdeplot` (an axes-level function for kernel density plots).\n",
      "\n",
      "For a guide to updating your code to use the new functions, please see\n",
      "https://gist.github.com/mwaskom/de44147ed2974457ad6372750bbe5751\n",
      "\n",
      "  sns.distplot(random.exponential(scale=2,size=1000),hist=False)\n"
     ]
    },
    {
     "data": {
      "image/png": "[encoded data removed]",
      "text/plain": [
       "<Figure size 640x480 with 1 Axes>"
      ]
     },
     "metadata": {},
     "output_type": "display_data"
    }
   ],
   "source": [
    "from numpy import random\n",
    "import matplotlib.pyplot as plt\n",
    "import seaborn as sns\n",
    "sns.distplot(random.exponential(scale=2,size=1000),hist=False)\n",
    "plt.show()"
   ]
  },
  {
   "cell_type": "code",
   "execution_count": 33,
   "id": "1ca6acf8-404a-4613-9a21-545ac25cc85e",
   "metadata": {},
   "outputs": [],
   "source": [
    "# chi square dist\n",
    "# it is basically used for hypothesis part \n",
    "# params df(degree of freedom), size\n"
   ]
  },
  {
   "cell_type": "code",
   "execution_count": 35,
   "id": "0476bf9e-5719-4c36-a02d-cba0ce09f7f5",
   "metadata": {},
   "outputs": [
    {
     "name": "stdout",
     "output_type": "stream",
     "text": [
      "[[ 0.48630188  2.32179994  0.01934397]\n",
      " [ 0.07195201  4.71801282 10.5723309 ]]\n"
     ]
    }
   ],
   "source": [
    "from numpy import random\n",
    "x=random.chisquare(df=2,size=(2,3))\n",
    "print(x)"
   ]
  },
  {
   "cell_type": "code",
   "execution_count": 38,
   "id": "bb8a23fb-20f2-4410-a4fe-86a28a045a97",
   "metadata": {},
   "outputs": [
    {
     "name": "stderr",
     "output_type": "stream",
     "text": [
      "C:\\Users\\vm822\\AppData\\Local\\Temp\\ipykernel_43856\\1768515726.py:5: UserWarning: \n",
      "\n",
      "`distplot` is a deprecated function and will be removed in seaborn v0.14.0.\n",
      "\n",
      "Please adapt your code to use either `displot` (a figure-level function with\n",
      "similar flexibility) or `kdeplot` (an axes-level function for kernel density plots).\n",
      "\n",
      "For a guide to updating your code to use the new functions, please see\n",
      "https://gist.github.com/mwaskom/de44147ed2974457ad6372750bbe5751\n",
      "\n",
      "  sns.distplot(random.chisquare(df=2,size=1000),hist=False)\n"
     ]
    },
    {
     "data": {
      "image/png": "[encoded data removed]",
      "text/plain": [
       "<Figure size 640x480 with 1 Axes>"
      ]
     },
     "metadata": {},
     "output_type": "display_data"
    }
   ],
   "source": [
    "# visualization \n",
    "from numpy import random\n",
    "import matplotlib.pyplot as plt\n",
    "import seaborn as sns\n",
    "sns.distplot(random.chisquare(df=2,size=1000),hist=False)\n",
    "plt.show()"
   ]
  },
  {
   "cell_type": "code",
   "execution_count": 39,
   "id": "4d325e82-2319-4560-8f29-07822ddf8fac",
   "metadata": {},
   "outputs": [
    {
     "name": "stderr",
     "output_type": "stream",
     "text": [
      "C:\\Users\\vm822\\AppData\\Local\\Temp\\ipykernel_43856\\658912420.py:5: UserWarning: \n",
      "\n",
      "`distplot` is a deprecated function and will be removed in seaborn v0.14.0.\n",
      "\n",
      "Please adapt your code to use either `displot` (a figure-level function with\n",
      "similar flexibility) or `kdeplot` (an axes-level function for kernel density plots).\n",
      "\n",
      "For a guide to updating your code to use the new functions, please see\n",
      "https://gist.github.com/mwaskom/de44147ed2974457ad6372750bbe5751\n",
      "\n",
      "  sns.distplot(random.chisquare(df=10,size=500),hist=False)\n"
     ]
    },
    {
     "data": {
      "image/png": "[encoded data removed]",
      "text/plain": [
       "<Figure size 640x480 with 1 Axes>"
      ]
     },
     "metadata": {},
     "output_type": "display_data"
    }
   ],
   "source": [
    "# visualization \n",
    "from numpy import random\n",
    "import matplotlib.pyplot as plt\n",
    "import seaborn as sns\n",
    "sns.distplot(random.chisquare(df=10,size=500),hist=False)\n",
    "plt.show()"
   ]
  },
  {
   "cell_type": "code",
   "execution_count": 40,
   "id": "76038c94-abb2-4f9b-bcb4-e955003b19ea",
   "metadata": {},
   "outputs": [],
   "source": [
    "#  these distributions are not seen >> rayleigh , pareto, zif"
   ]
  },
  {
   "cell_type": "code",
   "execution_count": null,
   "id": "4dabd0f2-7821-4201-98ec-309a7de3210b",
   "metadata": {},
   "outputs": [],
   "source": []
  },
  {
   "cell_type": "code",
   "execution_count": null,
   "id": "5f13fae2-b557-454d-92dc-c78af6288a05",
   "metadata": {},
   "outputs": [],
   "source": []
  },
  {
   "cell_type": "code",
   "execution_count": null,
   "id": "7fb6bdab-84d4-4a70-aa34-8904ea2a4140",
   "metadata": {},
   "outputs": [],
   "source": []
  },
  {
   "cell_type": "code",
   "execution_count": null,
   "id": "ee6566a4-2c26-442a-8b64-36434796239c",
   "metadata": {},
   "outputs": [],
   "source": []
  },
  {
   "cell_type": "code",
   "execution_count": 41,
   "id": "7b21b33e-2000-494b-8f46-719ba8f57711",
   "metadata": {},
   "outputs": [],
   "source": [
    "# universal functions\n",
    "# ufunc stands for universal function and they are actually numpy functions and they operates on ndarray objects\n",
    "# ufunc also tales additional arguments like where ,dtype and out\n",
    "# vectorization-converting the iterative statements into a vector based statement \n"
   ]
  },
  {
   "cell_type": "code",
   "execution_count": 43,
   "id": "bc914b92-011e-485a-a71e-2c3894281c02",
   "metadata": {},
   "outputs": [],
   "source": [
    "# example > without ufunc ,here we will use python inbuild zip()"
   ]
  },
  {
   "cell_type": "code",
   "execution_count": 46,
   "id": "27a2e2b9-02a3-4741-83c2-ec0ab948ff7d",
   "metadata": {},
   "outputs": [
    {
     "name": "stdout",
     "output_type": "stream",
     "text": [
      "[5, 7, 9, 11]\n"
     ]
    }
   ],
   "source": [
    "x=[1,2,3,4]\n",
    "y=[4,5,6,7]\n",
    "z=[]\n",
    "for i,j in zip(x,y):\n",
    "    z.append(i+j)\n",
    "print(z)"
   ]
  },
  {
   "cell_type": "code",
   "execution_count": 47,
   "id": "82ab79c4-5602-4218-b0f5-f9d9a4f2a5c2",
   "metadata": {},
   "outputs": [
    {
     "name": "stdout",
     "output_type": "stream",
     "text": [
      "[5, 7, 9, 11]\n"
     ]
    }
   ],
   "source": [
    "#  with ufunc we will now add() func\n",
    "import numpy as np\n",
    "x=[1,2,3,4]\n",
    "y=[4,5,6,7]\n",
    "np.add(x,y)\n",
    "print(z)"
   ]
  },
  {
   "cell_type": "code",
   "execution_count": null,
   "id": "1fb5fd57-c269-4fa5-b615-c6fcc9c8d81b",
   "metadata": {},
   "outputs": [],
   "source": [
    "\n"
   ]
  },
  {
   "cell_type": "code",
   "execution_count": 48,
   "id": "4bc43998-5944-465f-bf57-0a63e67ecee8",
   "metadata": {},
   "outputs": [],
   "source": [
    "# create ufunc\n",
    "#  creating own ufunc , we have to define functions , then add it to the numpy functions via frompyfunc()\n",
    "# arguments of frompyfunc():function,inputs , outputs"
   ]
  },
  {
   "cell_type": "code",
   "execution_count": 49,
   "id": "434d8cfa-fad8-4e6b-a052-1c87c748e9d0",
   "metadata": {},
   "outputs": [
    {
     "name": "stdout",
     "output_type": "stream",
     "text": [
      "[6 8 10 12]\n"
     ]
    }
   ],
   "source": [
    "# create own ufunc for addition\n",
    "import numpy as func\n",
    "def myadd(x,y):\n",
    "    return x+y\n",
    "myadd=np.frompyfunc(myadd,2,1)\n",
    "print(myadd([1,2,3,4],[5,6,7,8]))\n"
   ]
  },
  {
   "cell_type": "code",
   "execution_count": 54,
   "id": "385d9572-7112-40a8-9ead-498f9487db65",
   "metadata": {},
   "outputs": [
    {
     "name": "stdout",
     "output_type": "stream",
     "text": [
      "<class 'numpy.ufunc'>\n"
     ]
    }
   ],
   "source": [
    "# checking if this func is ufunc or not\n",
    "import numpy as np\n",
    "print(type(np.add))"
   ]
  },
  {
   "cell_type": "code",
   "execution_count": null,
   "id": "2ff014db-cf0b-4283-84c5-89b0a1d54833",
   "metadata": {},
   "outputs": [],
   "source": []
  },
  {
   "cell_type": "code",
   "execution_count": 55,
   "id": "237b22a0-4851-417f-92ea-8a4057547f16",
   "metadata": {},
   "outputs": [],
   "source": [
    "# arithmetic operators"
   ]
  },
  {
   "cell_type": "code",
   "execution_count": 57,
   "id": "cbcedb81-dbf1-4fbb-9d52-bcbdc4699c57",
   "metadata": {},
   "outputs": [
    {
     "name": "stdout",
     "output_type": "stream",
     "text": [
      "[30 32 34 36 38 40]\n"
     ]
    }
   ],
   "source": [
    "# here we will use add function\n",
    "import numpy as np\n",
    "x=np.array([10,11,12,13,14,15])\n",
    "y=np.array([20,21,22,23,24,25])\n",
    "z=np.add(x,y)\n",
    "print(z)\n"
   ]
  },
  {
   "cell_type": "code",
   "execution_count": 58,
   "id": "ec92a5ad-c7f1-4ef4-9185-59781f96ac66",
   "metadata": {},
   "outputs": [
    {
     "name": "stdout",
     "output_type": "stream",
     "text": [
      "[-10 -10 -10 -10 -10 -10]\n"
     ]
    }
   ],
   "source": [
    "# multiply\n",
    "import numpy as np\n",
    "x=np.array([10,11,12,13,14,15])\n",
    "y=np.array([20,21,22,23,24,25])\n",
    "z=np.subtract(x,y)\n",
    "print(z)"
   ]
  },
  {
   "cell_type": "code",
   "execution_count": 59,
   "id": "5d6d8f7d-96c5-40ec-a9ef-16645d710ef4",
   "metadata": {},
   "outputs": [
    {
     "name": "stdout",
     "output_type": "stream",
     "text": [
      "[200 231 264 299 336 375]\n"
     ]
    }
   ],
   "source": [
    "# subtract\n",
    "import numpy as np\n",
    "x=np.array([10,11,12,13,14,15])\n",
    "y=np.array([20,21,22,23,24,25])\n",
    "z=np.multiply(x,y)\n",
    "print(z)"
   ]
  },
  {
   "cell_type": "code",
   "execution_count": 61,
   "id": "dea28bdd-973a-4b4f-8612-5887a2a6db17",
   "metadata": {},
   "outputs": [
    {
     "name": "stdout",
     "output_type": "stream",
     "text": [
      "[0.5        0.52380952 0.54545455 0.56521739 0.58333333 0.6       ]\n"
     ]
    }
   ],
   "source": [
    "# divide\n",
    "import numpy as np\n",
    "x=np.array([10,11,12,13,14,15])\n",
    "y=np.array([20,21,22,23,24,25])\n",
    "z=np.divide(x,y)\n",
    "print(z)"
   ]
  },
  {
   "cell_type": "code",
   "execution_count": 63,
   "id": "c0cb3761-4ecb-4623-8968-44a873011c1b",
   "metadata": {},
   "outputs": [
    {
     "name": "stdout",
     "output_type": "stream",
     "text": [
      "[100000 161051 248832 371293 537824 759375]\n"
     ]
    }
   ],
   "source": [
    "# power\n",
    "import numpy as np\n",
    "x=np.array([10,11,12,13,14,15])\n",
    "y=np.array([5,5,5,5,5,5])\n",
    "z=np.power(x,y)\n",
    "print(z)"
   ]
  },
  {
   "cell_type": "code",
   "execution_count": 67,
   "id": "c2059889-95e3-4ace-a945-6fe87debdfef",
   "metadata": {},
   "outputs": [
    {
     "name": "stdout",
     "output_type": "stream",
     "text": [
      "mod: [3 4 5 6 6 7]\n",
      "remainder: [3 4 5 6 6 7]\n"
     ]
    }
   ],
   "source": [
    "# reminder- mod() and reminder()\n",
    "import numpy as np\n",
    "x=np.array([10,11,12,13,14,15])\n",
    "y=np.array([7,7,7,7,8,8])\n",
    "z=np.mod(x,y)\n",
    "print(\"mod:\",z)\n",
    "z=np.remainder(x,y)\n",
    "print(\"remainder:\",z)\n"
   ]
  },
  {
   "cell_type": "code",
   "execution_count": 68,
   "id": "325a60b9-2219-4c8e-9783-cf84a166a23a",
   "metadata": {},
   "outputs": [],
   "source": [
    "# quotient and mod()"
   ]
  },
  {
   "cell_type": "code",
   "execution_count": 69,
   "id": "58b7cebb-0a22-4092-81ea-6fc67b6ef6dc",
   "metadata": {},
   "outputs": [
    {
     "name": "stdout",
     "output_type": "stream",
     "text": [
      "(array([1, 1, 1, 1, 1, 1]), array([3, 4, 5, 6, 6, 7]))\n"
     ]
    }
   ],
   "source": [
    "# the divmod() this func returns both the quotient and remainder\n",
    "x=np.array([10,11,12,13,14,15])\n",
    "y=np.array([7,7,7,7,8,8])\n",
    "z=np.divmod(x,y)\n",
    "print(z)\n"
   ]
  },
  {
   "cell_type": "code",
   "execution_count": 70,
   "id": "13186285-734f-400c-bfa8-50a64d574017",
   "metadata": {},
   "outputs": [
    {
     "name": "stdout",
     "output_type": "stream",
     "text": [
      "abs: [10 11 12 13 14 15]\n",
      "absolute: [10 11 12 13 14 15]\n"
     ]
    }
   ],
   "source": [
    "# absolute() and abs()\n",
    "x=np.array([10,11,12,13,14,15])\n",
    "y=np.array([7,7,7,7,8,8])\n",
    "z=np.abs(x,y)\n",
    "print(\"abs:\",z)\n",
    "z=np.absolute(x,y)\n",
    "print(\"absolute:\",z)\n"
   ]
  },
  {
   "cell_type": "code",
   "execution_count": 71,
   "id": "c1649cfa-846b-48a3-b2df-4512cbed98b7",
   "metadata": {},
   "outputs": [],
   "source": [
    "# rounding decimals\n",
    "# there are 5 ways of rounding in python\n",
    "# truncation,fix,rounding,floor, cell\n"
   ]
  },
  {
   "cell_type": "code",
   "execution_count": 78,
   "id": "0534a0ee-7791-4a37-85fc-1dfb35f319d5",
   "metadata": {},
   "outputs": [
    {
     "name": "stdout",
     "output_type": "stream",
     "text": [
      "[-3.  4.]\n"
     ]
    }
   ],
   "source": [
    "import numpy as np\n",
    "x=np.array([-3.12,4.8666])\n",
    "print(np.trunc(x))\n",
    "# will take the closest zero"
   ]
  },
  {
   "cell_type": "code",
   "execution_count": 79,
   "id": "a2bac079-2228-437f-934d-ff3eadeef1fd",
   "metadata": {},
   "outputs": [
    {
     "name": "stdout",
     "output_type": "stream",
     "text": [
      "[-3.  4.]\n"
     ]
    }
   ],
   "source": [
    "import numpy as np\n",
    "x=np.array([-3.12,4.8666])\n",
    "print(np.fix(x))\n",
    "# will take the closest zero"
   ]
  },
  {
   "cell_type": "code",
   "execution_count": 81,
   "id": "12e59412-caf3-4d29-ad49-8467eb3be37d",
   "metadata": {},
   "outputs": [
    {
     "name": "stdout",
     "output_type": "stream",
     "text": [
      "[-3.  5.]\n"
     ]
    }
   ],
   "source": [
    "import numpy as np\n",
    "x=np.array([-3.12,4.8666])\n",
    "print(np.around(x))\n",
    "# will take the closest zero"
   ]
  },
  {
   "cell_type": "code",
   "execution_count": 82,
   "id": "3f3a9fe1-e9ae-48d9-b606-3e2896639e14",
   "metadata": {},
   "outputs": [
    {
     "name": "stdout",
     "output_type": "stream",
     "text": [
      "[-4.  4.]\n"
     ]
    }
   ],
   "source": [
    "import numpy as np\n",
    "x=np.array([-3.12,4.8666])\n",
    "print(np.floor(x))\n",
    "# round off decimal to lower integer\n"
   ]
  },
  {
   "cell_type": "code",
   "execution_count": 84,
   "id": "f57bbb67-e23d-4c48-b346-a018834e83d7",
   "metadata": {},
   "outputs": [
    {
     "name": "stdout",
     "output_type": "stream",
     "text": [
      "[-3.  5.]\n"
     ]
    }
   ],
   "source": [
    "import numpy as np\n",
    "x=np.array([-3.12,4.8666])\n",
    "print(np.ceil(x))\n",
    "# round off decimal to greater integer"
   ]
  },
  {
   "cell_type": "code",
   "execution_count": 1,
   "id": "eaca69d8-f205-4f06-ab1c-81d3fdc898c8",
   "metadata": {},
   "outputs": [
    {
     "name": "stdout",
     "output_type": "stream",
     "text": [
      "60\n"
     ]
    }
   ],
   "source": [
    "# summations\n",
    "import numpy as np\n",
    "x=np.array([1,2,3,4,5,6])\n",
    "y=np.array([4,5,6,7,8,9])\n",
    "z=np.sum([x,y])\n",
    "print(z)\n",
    "# sum of all the elements"
   ]
  },
  {
   "cell_type": "code",
   "execution_count": 4,
   "id": "046dffcb-7fb3-4a0b-bd08-2b4fc8dcf7c6",
   "metadata": {},
   "outputs": [
    {
     "name": "stdout",
     "output_type": "stream",
     "text": [
      "[ 5  7  9 11 13 15]\n"
     ]
    }
   ],
   "source": [
    "# summation over an axis\n",
    "# if you specify axix=1, numpy willl sum the number in each array\n",
    "import numpy as np\n",
    "x=np.array([1,2,3,4,5,6])\n",
    "y=np.array([4,5,6,7,8,9])\n",
    "z=np.sum([x,y],axis=0)\n",
    "print(z)\n",
    "#  o means column wise"
   ]
  },
  {
   "cell_type": "code",
   "execution_count": 5,
   "id": "706a5848-cee5-43af-adb5-27fc8367cb87",
   "metadata": {},
   "outputs": [
    {
     "name": "stdout",
     "output_type": "stream",
     "text": [
      "[21 39]\n"
     ]
    }
   ],
   "source": [
    "# summation over an axis\n",
    "# if you specify axix=1, numpy willl sum the number in each array\n",
    "import numpy as np\n",
    "x=np.array([1,2,3,4,5,6])\n",
    "y=np.array([4,5,6,7,8,9])\n",
    "z=np.sum([x,y],axis=1)\n",
    "print(z)\n",
    "# 1 means row wise"
   ]
  },
  {
   "cell_type": "code",
   "execution_count": 6,
   "id": "db11e533-8c8b-43a5-9481-12d899d5b98d",
   "metadata": {},
   "outputs": [
    {
     "name": "stdout",
     "output_type": "stream",
     "text": [
      "[ 1  3  6 10 15 21 28 36]\n"
     ]
    }
   ],
   "source": [
    "# cumulative\n",
    "# means partially adding the elemnts in array\n",
    "import numpy as np\n",
    "x=np.array([1,2,3,4,5,6,7,8])\n",
    "y=np.cumsum(x)\n",
    "print(y)\n",
    "#  1 1+2 1+2+3 1+2+3+4 1+2+3+4+5 ............."
   ]
  },
  {
   "cell_type": "code",
   "execution_count": 7,
   "id": "cc6c481e-0d36-4ca4-8d91-00b1737e75e5",
   "metadata": {},
   "outputs": [
    {
     "name": "stdout",
     "output_type": "stream",
     "text": [
      "120\n"
     ]
    }
   ],
   "source": [
    "# product\n",
    "# prod()\n",
    "# we will find product\n",
    "import numpy as np\n",
    "x=np.array([1,2,3,4,5])\n",
    "y=np.prod(x)\n",
    "print(y)"
   ]
  },
  {
   "cell_type": "code",
   "execution_count": 11,
   "id": "fb02ed6f-795a-4fb0-9ce5-1870d1cd187e",
   "metadata": {},
   "outputs": [
    {
     "name": "stdout",
     "output_type": "stream",
     "text": [
      "14400\n"
     ]
    }
   ],
   "source": [
    "# product\n",
    "# prod()\n",
    "# we will find product\n",
    "import numpy as np\n",
    "x=np.array([1,2,3,4,5])\n",
    "y=np.array([1,2,3,4,5])\n",
    "z=np.prod([x,y])\n",
    "print(z)\n",
    "# 1x2x3x4x5x1x2x3x4x5\n"
   ]
  },
  {
   "cell_type": "code",
   "execution_count": 12,
   "id": "a7e754c9-e110-4fd7-b6b2-026ac581e336",
   "metadata": {},
   "outputs": [
    {
     "name": "stdout",
     "output_type": "stream",
     "text": [
      "[120 120]\n"
     ]
    }
   ],
   "source": [
    "# product over an axis\n",
    "import numpy as np\n",
    "x=np.array([1,2,3,4,5])\n",
    "y=np.array([1,2,3,4,5])\n",
    "z=np.prod([x,y],axis=1)\n",
    "print(z)\n",
    "# row"
   ]
  },
  {
   "cell_type": "code",
   "execution_count": 13,
   "id": "c1574b15-9d38-48f0-bcdf-348145b51c3c",
   "metadata": {},
   "outputs": [
    {
     "name": "stdout",
     "output_type": "stream",
     "text": [
      "[ 1  4  9 16 25]\n"
     ]
    }
   ],
   "source": [
    "# product over an axis\n",
    "import numpy as np\n",
    "x=np.array([1,2,3,4,5])\n",
    "y=np.array([1,2,3,4,5])\n",
    "z=np.prod([x,y],axis=0)\n",
    "print(z)\n",
    "# column"
   ]
  },
  {
   "cell_type": "code",
   "execution_count": 14,
   "id": "975c4907-7b17-474d-981b-1da5303138af",
   "metadata": {},
   "outputs": [
    {
     "name": "stdout",
     "output_type": "stream",
     "text": [
      "[  1   2   6  24 120]\n"
     ]
    }
   ],
   "source": [
    "# cumulative product\n",
    "# product over an axis\n",
    "import numpy as np\n",
    "x=np.array([1,2,3,4,5])\n",
    "y=np.cumprod(x)\n",
    "print(y)"
   ]
  },
  {
   "cell_type": "code",
   "execution_count": 17,
   "id": "daa35971-5407-4c1b-a4e6-6536e3380f12",
   "metadata": {},
   "outputs": [],
   "source": [
    "# 1 1x2 1x2x3 1x2x3x4 1x2x3x4x5\n",
    "\n"
   ]
  },
  {
   "cell_type": "code",
   "execution_count": 18,
   "id": "559e4e76-dc77-4964-8596-9a1af663cd8b",
   "metadata": {},
   "outputs": [
    {
     "name": "stdout",
     "output_type": "stream",
     "text": [
      "[  5  10 -20]\n"
     ]
    }
   ],
   "source": [
    "# difference usediff() \n",
    "import numpy as np\n",
    "x=np.array([10,15,25,5])\n",
    "y=np.diff(x)\n",
    "print(y)"
   ]
  },
  {
   "cell_type": "code",
   "execution_count": 19,
   "id": "d9a1fe36-0ca0-4f31-9338-e4790493f4bd",
   "metadata": {},
   "outputs": [],
   "source": [
    "# 15-10 25-15 5-25"
   ]
  },
  {
   "cell_type": "code",
   "execution_count": 20,
   "id": "0e747864-51be-43f7-b4ad-51b49c4c4553",
   "metadata": {},
   "outputs": [
    {
     "name": "stdout",
     "output_type": "stream",
     "text": [
      "12\n"
     ]
    }
   ],
   "source": [
    "#  finding lcm\n",
    "import numpy as np\n",
    "x=4\n",
    "y=6\n",
    "z=np.lcm(x,y)\n",
    "print(z)"
   ]
  },
  {
   "cell_type": "code",
   "execution_count": 23,
   "id": "be854f9f-08c4-493a-80a8-c085f56dc510",
   "metadata": {},
   "outputs": [
    {
     "name": "stdout",
     "output_type": "stream",
     "text": [
      "300\n"
     ]
    }
   ],
   "source": [
    "import numpy as np\n",
    "x=np.array([20,25,30])\n",
    "y=np.lcm.reduce(x) # reduce will use ufunc so in this case the lcm func on each element and it will reduce the array by 1d\n",
    "print(y)"
   ]
  },
  {
   "cell_type": "code",
   "execution_count": 26,
   "id": "d49730e4-6061-43cc-9a9b-f301f4f1776b",
   "metadata": {},
   "outputs": [
    {
     "name": "stdout",
     "output_type": "stream",
     "text": [
      "2\n"
     ]
    }
   ],
   "source": [
    "# finding gcd or hcf\n",
    "import numpy as np\n",
    "x=4\n",
    "y=6\n",
    "z=np.gcd(x,y)\n",
    "print(z)\n"
   ]
  },
  {
   "cell_type": "code",
   "execution_count": 35,
   "id": "b2df467d-8e00-48f4-8afc-6a8566d4e820",
   "metadata": {},
   "outputs": [
    {
     "name": "stdout",
     "output_type": "stream",
     "text": [
      "1\n"
     ]
    }
   ],
   "source": [
    "# of an array\n",
    "import numpy as np\n",
    "from numpy import random\n",
    "\n",
    "x=random.randint(100,size=(3))\n",
    "y=np.gcd.reduce(x)\n",
    "print(y)"
   ]
  },
  {
   "cell_type": "code",
   "execution_count": 36,
   "id": "cace5bd7-c6c0-4ce0-9624-e8ab65482d82",
   "metadata": {},
   "outputs": [
    {
     "name": "stdout",
     "output_type": "stream",
     "text": [
      "1.0\n"
     ]
    }
   ],
   "source": [
    "# trigonometric functions\n",
    "# put values in radian and will get the ans\n",
    "import numpy as np\n",
    "x=np.sin(np.pi/2)\n",
    "print(x)"
   ]
  },
  {
   "cell_type": "code",
   "execution_count": 38,
   "id": "269514e0-21a6-4d3b-bc40-a9055fcdb889",
   "metadata": {},
   "outputs": [
    {
     "name": "stdout",
     "output_type": "stream",
     "text": [
      "[1.         0.8660254  0.70710678]\n"
     ]
    }
   ],
   "source": [
    "import numpy as np\n",
    "x=np.array([np.pi/2,np.pi/3,np.pi/4])\n",
    "x1=np.sin(x)\n",
    "print(x1)"
   ]
  },
  {
   "cell_type": "code",
   "execution_count": 39,
   "id": "51008992-612a-4463-ab67-caee267670b9",
   "metadata": {},
   "outputs": [
    {
     "name": "stdout",
     "output_type": "stream",
     "text": [
      "[1.57079633 3.14159265 4.71238898 6.28318531]\n"
     ]
    }
   ],
   "source": [
    "# convert degree to radian\n",
    "import numpy as np\n",
    "x=np.array([90,180,270,360])\n",
    "x1=np.deg2rad(x)\n",
    "print(x1)\n"
   ]
  },
  {
   "cell_type": "code",
   "execution_count": 40,
   "id": "d3afb461-7995-4456-9619-f1420c6405b7",
   "metadata": {},
   "outputs": [
    {
     "name": "stdout",
     "output_type": "stream",
     "text": [
      "[ 90.00000018 179.99999979 269.99999998 360.00000016]\n"
     ]
    }
   ],
   "source": [
    "# convert radian to degree\n",
    "import numpy as np\n",
    "x=np.array([1.57079633 ,3.14159265 ,4.71238898, 6.28318531])\n",
    "x1=np.rad2deg(x)\n",
    "print(x1)\n"
   ]
  },
  {
   "cell_type": "code",
   "execution_count": 42,
   "id": "eab58de5-2e6b-4ce2-b67c-5f7be24bee11",
   "metadata": {},
   "outputs": [
    {
     "name": "stdout",
     "output_type": "stream",
     "text": [
      "[ 0. 30. 90.]\n"
     ]
    }
   ],
   "source": [
    "# angles pf each sin cos tan value >> arcsin ,arccos, arctan\n",
    "import numpy as np\n",
    "x=np.array([0,1/2,1])\n",
    "x1=np.arcsin(x)\n",
    "print(np.rad2deg(x1))\n",
    "# as it bydefault generates into radian"
   ]
  },
  {
   "cell_type": "code",
   "execution_count": 43,
   "id": "02dd8c62-720e-4841-b3df-eebbf0991383",
   "metadata": {},
   "outputs": [
    {
     "name": "stdout",
     "output_type": "stream",
     "text": [
      "5.0\n"
     ]
    }
   ],
   "source": [
    "# finding the hypotenuse\n",
    "import numpy as np\n",
    "print(np.hypot(3,4))"
   ]
  },
  {
   "cell_type": "code",
   "execution_count": 46,
   "id": "4efa2a8f-4a91-4958-8791-32bafc3e0e32",
   "metadata": {},
   "outputs": [
    {
     "name": "stdout",
     "output_type": "stream",
     "text": [
      "[2.3012989  1.24936705 0.86867096]\n"
     ]
    }
   ],
   "source": [
    "# hyperbolic functions sinh ,cosh , tanh\n",
    "import numpy as np\n",
    "x=np.array([np.pi/2,np.pi/3,np.pi/4])\n",
    "print(np.sinh(x))"
   ]
  },
  {
   "cell_type": "code",
   "execution_count": 47,
   "id": "e0db5152-67e8-4ac7-ab7a-df75a7e6064f",
   "metadata": {},
   "outputs": [
    {
     "name": "stdout",
     "output_type": "stream",
     "text": [
      "[2.50917848 1.60028686 1.32460909]\n"
     ]
    }
   ],
   "source": [
    "import numpy as np\n",
    "x=np.array([np.pi/2,np.pi/3,np.pi/4])\n",
    "print(np.cosh(x))"
   ]
  },
  {
   "cell_type": "code",
   "execution_count": 48,
   "id": "5007c9c2-c2a0-426a-9395-0dc7a8dac350",
   "metadata": {},
   "outputs": [
    {
     "name": "stdout",
     "output_type": "stream",
     "text": [
      "[0.91715234 0.78071444 0.6557942 ]\n"
     ]
    }
   ],
   "source": [
    "import numpy as np\n",
    "x=np.array([np.pi/2,np.pi/3,np.pi/4])\n",
    "print(np.tanh(x))"
   ]
  },
  {
   "cell_type": "code",
   "execution_count": 49,
   "id": "a1268ef5-ca4d-40a1-9ce1-d86561ef119a",
   "metadata": {},
   "outputs": [],
   "source": [
    "# finding angles arcsinh ,arccosh,arctanh"
   ]
  },
  {
   "cell_type": "code",
   "execution_count": null,
   "id": "5d591ebc-c7d6-4df0-aaf1-cf3549eb2447",
   "metadata": {},
   "outputs": [],
   "source": []
  },
  {
   "cell_type": "code",
   "execution_count": 50,
   "id": "1174fe36-d870-44d0-a121-c1cf5e5d88da",
   "metadata": {},
   "outputs": [],
   "source": [
    "# what is a set ?\n",
    "# a collection of unique elements\n"
   ]
  },
  {
   "cell_type": "code",
   "execution_count": 51,
   "id": "206aad21-37dc-4d94-b136-1ac77d2fb4bd",
   "metadata": {},
   "outputs": [
    {
     "name": "stdout",
     "output_type": "stream",
     "text": [
      "[1 2 3 4 5 6 7 8 9]\n"
     ]
    }
   ],
   "source": [
    "# using unique() method\n",
    "import numpy as np\n",
    "x=np.array([1,1,2,3,4,4,5,6,6,7,8,9])\n",
    "print(np.unique(x))"
   ]
  },
  {
   "cell_type": "code",
   "execution_count": 52,
   "id": "6f875ec4-0149-47ff-b909-eca44e649c8b",
   "metadata": {},
   "outputs": [
    {
     "name": "stdout",
     "output_type": "stream",
     "text": [
      "[1 2 3 4 5 6]\n"
     ]
    }
   ],
   "source": [
    "# for finding union of  values of 2 1d array use , union1d()\n",
    "import numpy as np\n",
    "x=np.array([1,2,3,4])\n",
    "x1=np.array([3,4,5,6])\n",
    "print(np.union1d(x,x1))"
   ]
  },
  {
   "cell_type": "code",
   "execution_count": 54,
   "id": "52b091fd-302f-481e-ba18-a419327cb718",
   "metadata": {},
   "outputs": [
    {
     "name": "stdout",
     "output_type": "stream",
     "text": [
      "[3 4]\n"
     ]
    }
   ],
   "source": [
    "# finding intersection \n",
    "import numpy as np\n",
    "x=np.array([1,2,3,4])\n",
    "x1=np.array([3,4,5,6])\n",
    "print(np.intersect1d(x,x1,assume_unique=True))  #assume_unique means unique elements in 1d array"
   ]
  },
  {
   "cell_type": "code",
   "execution_count": 56,
   "id": "cb5f3583-4283-428b-bf58-47715ac6c25b",
   "metadata": {},
   "outputs": [
    {
     "name": "stdout",
     "output_type": "stream",
     "text": [
      "[1 2]\n"
     ]
    }
   ],
   "source": [
    "# finding\n",
    "# elements in a but not in b\n",
    "a=np.array([1,2,3,4])\n",
    "b=np.array([3,4,5,6])\n",
    "print(np.setdiff1d(a,b,assume_unique=True))"
   ]
  },
  {
   "cell_type": "code",
   "execution_count": 57,
   "id": "312dff49-756e-47fc-a065-6e8130162a0e",
   "metadata": {},
   "outputs": [
    {
     "name": "stdout",
     "output_type": "stream",
     "text": [
      "[5 6]\n"
     ]
    }
   ],
   "source": [
    "a=np.array([1,2,3,4])\n",
    "b=np.array([3,4,5,6])\n",
    "print(np.setdiff1d(b,a,assume_unique=True))"
   ]
  },
  {
   "cell_type": "code",
   "execution_count": 59,
   "id": "766e445a-3fb5-4773-8140-232fb5191052",
   "metadata": {},
   "outputs": [
    {
     "name": "stdout",
     "output_type": "stream",
     "text": [
      "[1 2 5 6]\n"
     ]
    }
   ],
   "source": [
    "# values that are not common\n",
    "a=np.array([1,2,3,4])\n",
    "b=np.array([3,4,5,6])\n",
    "print(np.setxor1d(b,a,assume_unique=True))"
   ]
  },
  {
   "cell_type": "code",
   "execution_count": null,
   "id": "8a3a2863-7a59-4bd2-9ebc-75b3218e29d0",
   "metadata": {},
   "outputs": [],
   "source": []
  },
  {
   "cell_type": "markdown",
   "id": "91819977",
   "metadata": {},
   "source": [
    "## CLASSROOM NOTES"
   ]
  },
  {
   "cell_type": "code",
   "execution_count": 1,
   "id": "186f6922",
   "metadata": {},
   "outputs": [],
   "source": [
    "import numpy as np"
   ]
  },
  {
   "cell_type": "code",
   "execution_count": 2,
   "id": "6f9d4718",
   "metadata": {},
   "outputs": [
    {
     "data": {
      "text/plain": [
       "[1, 2, 3]"
      ]
     },
     "execution_count": 2,
     "metadata": {},
     "output_type": "execute_result"
    }
   ],
   "source": [
    "l=[1,2,3]\n",
    "l"
   ]
  },
  {
   "cell_type": "code",
   "execution_count": 3,
   "id": "dbe6c666",
   "metadata": {},
   "outputs": [
    {
     "data": {
      "text/plain": [
       "array([[1, 2, 3],\n",
       "       [4, 5, 6]])"
      ]
     },
     "execution_count": 3,
     "metadata": {},
     "output_type": "execute_result"
    }
   ],
   "source": [
    "l=[[1,2,3],[4,5,6]]\n",
    "array=np.array(l)\n",
    "array"
   ]
  },
  {
   "cell_type": "code",
   "execution_count": 4,
   "id": "54b51ad9",
   "metadata": {},
   "outputs": [
    {
     "data": {
      "text/plain": [
       "numpy.ndarray"
      ]
     },
     "execution_count": 4,
     "metadata": {},
     "output_type": "execute_result"
    }
   ],
   "source": [
    "type(array)"
   ]
  },
  {
   "cell_type": "code",
   "execution_count": 5,
   "id": "84b453fa",
   "metadata": {},
   "outputs": [
    {
     "data": {
      "text/plain": [
       "array([[1, 2, 3],\n",
       "       [4, 5, 6]])"
      ]
     },
     "execution_count": 5,
     "metadata": {},
     "output_type": "execute_result"
    }
   ],
   "source": [
    "array[...,0:3]"
   ]
  },
  {
   "cell_type": "code",
   "execution_count": 6,
   "id": "6f0a2695",
   "metadata": {},
   "outputs": [],
   "source": [
    "a = np.arange(10)\n"
   ]
  },
  {
   "cell_type": "code",
   "execution_count": 7,
   "id": "c6c48ac7",
   "metadata": {},
   "outputs": [
    {
     "data": {
      "text/plain": [
       "array([0, 1, 2, 3, 4, 5, 6, 7, 8, 9])"
      ]
     },
     "execution_count": 7,
     "metadata": {},
     "output_type": "execute_result"
    }
   ],
   "source": [
    "a"
   ]
  },
  {
   "cell_type": "code",
   "execution_count": 8,
   "id": "6f7d15ee",
   "metadata": {},
   "outputs": [
    {
     "data": {
      "text/plain": [
       "array([[0, 1, 2, 3, 4],\n",
       "       [5, 6, 7, 8, 9]])"
      ]
     },
     "execution_count": 8,
     "metadata": {},
     "output_type": "execute_result"
    }
   ],
   "source": [
    "a = np.arange(10).reshape(2,5)\n",
    "a"
   ]
  },
  {
   "cell_type": "code",
   "execution_count": null,
   "id": "0e2fb733",
   "metadata": {},
   "outputs": [
    {
     "data": {
      "text/plain": [
       "array([[0, 1, 2, 3, 4, 5, 6, 7, 8, 9]])"
      ]
     },
     "execution_count": 11,
     "metadata": {},
     "output_type": "execute_result"
    }
   ],
   "source": [
    "a = np.arange(10).reshape(1,-1)\n",
    "# (1,-1) means i need only 1 row and you deicd ehow much \n",
    "# columns needed\n",
    "a"
   ]
  },
  {
   "cell_type": "code",
   "execution_count": 12,
   "id": "c07105e2",
   "metadata": {},
   "outputs": [
    {
     "data": {
      "text/plain": [
       "array([[0.99430673, 0.50951784, 0.8263528 ],\n",
       "       [0.59233485, 0.05569505, 0.74008568],\n",
       "       [0.77577752, 0.52521882, 0.39671292]])"
      ]
     },
     "execution_count": 12,
     "metadata": {},
     "output_type": "execute_result"
    }
   ],
   "source": [
    "a = np.random.random((3,3))\n",
    "a"
   ]
  },
  {
   "cell_type": "code",
   "execution_count": 13,
   "id": "51f4dbc5",
   "metadata": {},
   "outputs": [
    {
     "data": {
      "text/plain": [
       "array([[-0.65856917, -1.2349278 ,  1.62044704],\n",
       "       [-0.01307435,  0.59122189, -0.04413338],\n",
       "       [ 0.47984097,  1.35880945, -0.00212412]])"
      ]
     },
     "execution_count": 13,
     "metadata": {},
     "output_type": "execute_result"
    }
   ],
   "source": [
    "\n",
    "a = np.random.randn(3,3)\n",
    "a"
   ]
  },
  {
   "cell_type": "code",
   "execution_count": 14,
   "id": "b1075d36",
   "metadata": {},
   "outputs": [
    {
     "data": {
      "text/plain": [
       "array([[4, 4, 1],\n",
       "       [8, 6, 3],\n",
       "       [7, 7, 4]])"
      ]
     },
     "execution_count": 14,
     "metadata": {},
     "output_type": "execute_result"
    }
   ],
   "source": [
    "a = np.random.randint(1,10,(3,3))\n",
    "a"
   ]
  },
  {
   "cell_type": "code",
   "execution_count": 15,
   "id": "1819fb43",
   "metadata": {},
   "outputs": [
    {
     "data": {
      "text/plain": [
       "array([[1, 1, 1],\n",
       "       [1, 1, 1],\n",
       "       [1, 1, 1]])"
      ]
     },
     "execution_count": 15,
     "metadata": {},
     "output_type": "execute_result"
    }
   ],
   "source": [
    "a = np.ones((3,3),dtype = int)\n",
    "a"
   ]
  },
  {
   "cell_type": "code",
   "execution_count": 16,
   "id": "3ec369e3",
   "metadata": {},
   "outputs": [
    {
     "data": {
      "text/plain": [
       "array([[0, 0, 0],\n",
       "       [0, 0, 0],\n",
       "       [0, 0, 0]])"
      ]
     },
     "execution_count": 16,
     "metadata": {},
     "output_type": "execute_result"
    }
   ],
   "source": [
    "a = np.zeros((3,3),dtype = int)\n",
    "a"
   ]
  },
  {
   "cell_type": "code",
   "execution_count": 17,
   "id": "40f56077",
   "metadata": {},
   "outputs": [
    {
     "data": {
      "text/plain": [
       "array([[5, 5, 5],\n",
       "       [5, 5, 5],\n",
       "       [5, 5, 5]])"
      ]
     },
     "execution_count": 17,
     "metadata": {},
     "output_type": "execute_result"
    }
   ],
   "source": [
    "a = np.full((3,3),5)\n",
    "a"
   ]
  },
  {
   "cell_type": "code",
   "execution_count": null,
   "id": "f2ead154",
   "metadata": {},
   "outputs": [
    {
     "data": {
      "text/plain": [
       "array([[1, 0, 0],\n",
       "       [0, 1, 0],\n",
       "       [0, 0, 1]])"
      ]
     },
     "execution_count": 18,
     "metadata": {},
     "output_type": "execute_result"
    }
   ],
   "source": [
    "a = np.eye(3,dtype = int)\n",
    "a\n",
    "# for getting I matrix"
   ]
  },
  {
   "cell_type": "code",
   "execution_count": 19,
   "id": "ef31151b",
   "metadata": {},
   "outputs": [
    {
     "data": {
      "text/plain": [
       "array([10., 11., 12., 13., 14., 15.])"
      ]
     },
     "execution_count": 19,
     "metadata": {},
     "output_type": "execute_result"
    }
   ],
   "source": [
    "a = np.linspace(10,15,6)\n",
    "a\n",
    "# adjusts the values 6 in between 10 to 15"
   ]
  },
  {
   "cell_type": "code",
   "execution_count": 20,
   "id": "298d98c7",
   "metadata": {},
   "outputs": [
    {
     "data": {
      "text/plain": [
       "array([10.        , 10.55555556, 11.11111111, 11.66666667, 12.22222222,\n",
       "       12.77777778, 13.33333333, 13.88888889, 14.44444444, 15.        ])"
      ]
     },
     "execution_count": 20,
     "metadata": {},
     "output_type": "execute_result"
    }
   ],
   "source": [
    "a = np.linspace(10,15,10)\n",
    "a"
   ]
  },
  {
   "cell_type": "code",
   "execution_count": null,
   "id": "fa550ee1",
   "metadata": {},
   "outputs": [],
   "source": []
  },
  {
   "cell_type": "code",
   "execution_count": 21,
   "id": "e1bf52db",
   "metadata": {},
   "outputs": [
    {
     "data": {
      "text/plain": [
       "array([10.        , 10.55555556, 11.11111111, 11.66666667, 12.22222222,\n",
       "       12.77777778, 13.33333333, 13.88888889, 14.44444444, 15.        ,\n",
       "       10.        , 10.55555556, 11.11111111, 11.66666667, 12.22222222,\n",
       "       12.77777778, 13.33333333, 13.88888889, 14.44444444, 15.        ,\n",
       "       10.        , 10.55555556, 11.11111111, 11.66666667, 12.22222222,\n",
       "       12.77777778, 13.33333333, 13.88888889, 14.44444444, 15.        ])"
      ]
     },
     "execution_count": 21,
     "metadata": {},
     "output_type": "execute_result"
    }
   ],
   "source": [
    "b = np.tile(a,3)\n",
    "# will print the a 3 times by putting into the same matrix\n",
    "b"
   ]
  },
  {
   "cell_type": "code",
   "execution_count": null,
   "id": "e04ff956",
   "metadata": {},
   "outputs": [],
   "source": []
  }
 ],
 "metadata": {
  "kernelspec": {
   "display_name": "base",
   "language": "python",
   "name": "python3"
  },
  "language_info": {
   "codemirror_mode": {
    "name": "ipython",
    "version": 3
   },
   "file_extension": ".py",
   "mimetype": "text/x-python",
   "name": "python",
   "nbconvert_exporter": "python",
   "pygments_lexer": "ipython3",
   "version": "3.12.7"
  }
 },
 "nbformat": 4,
 "nbformat_minor": 5
}
