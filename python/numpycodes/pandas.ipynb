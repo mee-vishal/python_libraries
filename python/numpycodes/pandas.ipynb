{
 "cells": [
  {
   "cell_type": "code",
   "execution_count": 1,
   "id": "a7abf100-62e4-429e-9915-61780c26ee72",
   "metadata": {},
   "outputs": [],
   "source": [
    "# what is pandas ?\n",
    "# pandas is a library used to work with data sets, analysing ,cleaning ,exploring and manipulating data"
   ]
  },
  {
   "cell_type": "code",
   "execution_count": 2,
   "id": "9a525f64-30c6-4ee1-a2b6-40420de9c828",
   "metadata": {},
   "outputs": [],
   "source": [
    "# name pandas->python data analysis"
   ]
  },
  {
   "cell_type": "code",
   "execution_count": 3,
   "id": "3dc9df75-7868-4530-a2f2-b5fe1bbfcd10",
   "metadata": {},
   "outputs": [],
   "source": [
    "# pandas analyse bug data and make conclusions based on statistical theories"
   ]
  },
  {
   "cell_type": "code",
   "execution_count": 4,
   "id": "f04b5ecb-058f-47c3-8299-d9a8052a153b",
   "metadata": {},
   "outputs": [],
   "source": [
    "# pandas can clean messi datas and make them redable and relevant"
   ]
  },
  {
   "cell_type": "code",
   "execution_count": 5,
   "id": "7751c16a-1e57-424e-8a05-47ad7b90818f",
   "metadata": {},
   "outputs": [],
   "source": [
    "# what can pandas do ?\n",
    "# avg value\n",
    "# min value\n",
    "# max value\n",
    "# make ad delete rows \n"
   ]
  },
  {
   "cell_type": "code",
   "execution_count": 6,
   "id": "c54eff27-8965-42c5-bd73-833450d45a44",
   "metadata": {},
   "outputs": [
    {
     "name": "stdout",
     "output_type": "stream",
     "text": [
      "2.2.3\n"
     ]
    }
   ],
   "source": [
    "import pandas as pd\n",
    "print(pd.__version__)"
   ]
  },
  {
   "cell_type": "code",
   "execution_count": 7,
   "id": "2e453208-f4a2-4e81-a1bf-bce8093114a2",
   "metadata": {},
   "outputs": [],
   "source": [
    "# pandasseries\n",
    "# pandasseries is like column in a table \n",
    "# it is like 1d array which holds data of any type\n"
   ]
  },
  {
   "cell_type": "code",
   "execution_count": 9,
   "id": "74d57837-ee13-4b45-a855-c10b29ee86a3",
   "metadata": {},
   "outputs": [
    {
     "name": "stdout",
     "output_type": "stream",
     "text": [
      "0    1\n",
      "1    4\n",
      "2    5\n",
      "3    7\n",
      "4    4\n",
      "dtype: int64\n"
     ]
    }
   ],
   "source": [
    "import pandas as pd\n",
    "x=[1,4,5,7,4]\n",
    "y=pd.Series(x)\n",
    "print(y)"
   ]
  },
  {
   "cell_type": "code",
   "execution_count": 12,
   "id": "c56eb826-b0a8-4a32-83c2-50b332fa9310",
   "metadata": {},
   "outputs": [
    {
     "name": "stdout",
     "output_type": "stream",
     "text": [
      "0    1\n",
      "1    4\n",
      "2    5\n",
      "3    7\n",
      "4    4\n",
      "dtype: int64\n",
      "2nd index: 5\n"
     ]
    }
   ],
   "source": [
    "# labeling-can be used to access a specified value\n",
    "import pandas as pd\n",
    "x=[1,4,5,7,4]\n",
    "y=pd.Series(x)\n",
    "print(y)\n",
    "print(\"2nd index:\",y[2])"
   ]
  },
  {
   "cell_type": "code",
   "execution_count": 13,
   "id": "a3838934-a06f-498c-8de3-4c8515bb6cf5",
   "metadata": {},
   "outputs": [
    {
     "name": "stdout",
     "output_type": "stream",
     "text": [
      "a    1\n",
      "b    4\n",
      "c    5\n",
      "d    7\n",
      "e    4\n",
      "dtype: int64\n"
     ]
    }
   ],
   "source": [
    "# with create label you can create your own name labels\n",
    "import pandas as pd\n",
    "x=[1,4,5,7,4]\n",
    "y=pd.Series(x,index=[\"a\",\"b\",\"c\",\"d\",\"e\"])\n",
    "print(y)"
   ]
  },
  {
   "cell_type": "code",
   "execution_count": 14,
   "id": "e5f10739-7bb2-40ef-b156-302b345d6587",
   "metadata": {},
   "outputs": [
    {
     "name": "stdout",
     "output_type": "stream",
     "text": [
      "5\n"
     ]
    }
   ],
   "source": [
    "#  to access the value after creating own label\n",
    "import pandas as pd\n",
    "x=[1,4,5,7,4]\n",
    "y=pd.Series(x,index=[\"a\",\"b\",\"c\",\"d\",\"e\"])\n",
    "print(y[\"c\"])"
   ]
  },
  {
   "cell_type": "code",
   "execution_count": 15,
   "id": "4a775d79-20a1-4e24-8a11-ca70d1826d87",
   "metadata": {},
   "outputs": [],
   "source": [
    "# you can also use a key or value objet like dictionary.when creating a series\n"
   ]
  },
  {
   "cell_type": "code",
   "execution_count": 17,
   "id": "e420b81e-a46c-4747-8280-b62c2d1b1a53",
   "metadata": {},
   "outputs": [
    {
     "name": "stdout",
     "output_type": "stream",
     "text": [
      "day1    420\n",
      "day2    380\n",
      "day3    390\n",
      "dtype: int64\n"
     ]
    }
   ],
   "source": [
    "import pandas as pd\n",
    "cal={\"day1\":420,\"day2\":380,\"day3\":390}\n",
    "y=pd.Series(cal)\n",
    "print(y)"
   ]
  },
  {
   "cell_type": "code",
   "execution_count": 18,
   "id": "7ae65d7f-209d-40f6-b5e4-3c9fe5c8b4ac",
   "metadata": {},
   "outputs": [
    {
     "name": "stdout",
     "output_type": "stream",
     "text": [
      "day1    420\n",
      "day2    380\n",
      "dtype: int64\n"
     ]
    }
   ],
   "source": [
    "# now we will create a series using only data from day1 and day2\n",
    "import pandas as pd\n",
    "cal={\"day1\":420,\"day2\":380,\"day3\":390}\n",
    "y=pd.Series(cal,index=[\"day1\",\"day2\"])\n",
    "print(y)"
   ]
  },
  {
   "cell_type": "code",
   "execution_count": 19,
   "id": "d479fce6-002c-44e9-aa29-5f0dff30a1a2",
   "metadata": {},
   "outputs": [],
   "source": [
    "# dataFrame:datasets in pandas are usually multidimensional tables and they are called dataframes"
   ]
  },
  {
   "cell_type": "code",
   "execution_count": 20,
   "id": "be55bd4f-d22c-41f3-8f6d-e7d1171041a3",
   "metadata": {},
   "outputs": [],
   "source": [
    "# series are like columns and dataframes is the whole tables\n"
   ]
  },
  {
   "cell_type": "code",
   "execution_count": 22,
   "id": "94e7d641-e8f4-41df-8f19-9f9ad62380fe",
   "metadata": {},
   "outputs": [
    {
     "name": "stdout",
     "output_type": "stream",
     "text": [
      "   cal  duration\n",
      "0  420        40\n",
      "1  380        50\n",
      "2  390        60\n"
     ]
    }
   ],
   "source": [
    "import pandas as pd\n",
    "x={\"cal\":[420,380,390],\"duration\":[40,50,60]}\n",
    "y=pd.DataFrame(x)\n",
    "print(y)"
   ]
  },
  {
   "cell_type": "code",
   "execution_count": 24,
   "id": "b873923a-b8f8-4d28-9f94-418483f9c08c",
   "metadata": {},
   "outputs": [
    {
     "name": "stdout",
     "output_type": "stream",
     "text": [
      "   cal  duration\n",
      "0  420        40\n",
      "1  380        50\n",
      "2  390        60\n",
      "\n",
      "cal         420\n",
      "duration     40\n",
      "Name: 0, dtype: int64\n"
     ]
    }
   ],
   "source": [
    "#  to show particular row\n",
    "# locate row: pandas use the loc attribute to return one or more specified row\n",
    "import pandas as pd\n",
    "x={\"cal\":[420,380,390],\"duration\":[40,50,60]}\n",
    "y=pd.DataFrame(x)\n",
    "print(y)\n",
    "print()\n",
    "print(y.loc[0])"
   ]
  },
  {
   "cell_type": "code",
   "execution_count": 30,
   "id": "c828508f-1e40-4c5c-9317-b3727a7bba17",
   "metadata": {},
   "outputs": [
    {
     "name": "stdout",
     "output_type": "stream",
     "text": [
      "   cal  duration\n",
      "0  420        40\n",
      "1  380        50\n",
      "2  390        60\n",
      "\n",
      "   cal  duration\n",
      "0  420        40\n",
      "1  380        50\n"
     ]
    }
   ],
   "source": [
    "import pandas as pd\n",
    "x={\"cal\":[420,380,390],\"duration\":[40,50,60]}\n",
    "y=pd.DataFrame(x)\n",
    "print(y)\n",
    "print()\n",
    "print(y.loc[[0,1]])"
   ]
  },
  {
   "cell_type": "code",
   "execution_count": 31,
   "id": "ae1a8ae8-9fc5-4208-8146-12b096bd3da5",
   "metadata": {},
   "outputs": [
    {
     "name": "stdout",
     "output_type": "stream",
     "text": [
      "      cal  duration\n",
      "day1  420        40\n",
      "day2  380        50\n",
      "day3  390        60\n"
     ]
    }
   ],
   "source": [
    "# named index:\n",
    "# with the index arg you can name your own index\n",
    "import pandas as pd\n",
    "x={\"cal\":[420,380,390],\"duration\":[40,50,60]}\n",
    "y=pd.DataFrame(x,index=[\"day1\",\"day2\",\"day3\"])\n",
    "print(y)\n"
   ]
  },
  {
   "cell_type": "code",
   "execution_count": 33,
   "id": "ea0c8ba5-a149-46b6-a14d-423689731199",
   "metadata": {},
   "outputs": [
    {
     "name": "stdout",
     "output_type": "stream",
     "text": [
      "cal         420\n",
      "duration     40\n",
      "Name: day1, dtype: int64\n"
     ]
    }
   ],
   "source": [
    "# locate the named indexes\n",
    "\n",
    "import pandas as pd\n",
    "x={\"cal\":[420,380,390],\"duration\":[40,50,60]}\n",
    "y=pd.DataFrame(x,index=[\"day1\",\"day2\",\"day3\"])\n",
    "print(y.loc[\"day1\"])\n"
   ]
  },
  {
   "cell_type": "code",
   "execution_count": 34,
   "id": "59b29d07-2ef2-47e3-99cf-27fd783b456b",
   "metadata": {},
   "outputs": [
    {
     "name": "stdout",
     "output_type": "stream",
     "text": [
      "      cal  duration\n",
      "day1  420        40\n",
      "day2  380        50\n"
     ]
    }
   ],
   "source": [
    "import pandas as pd\n",
    "x={\"cal\":[420,380,390],\"duration\":[40,50,60]}\n",
    "y=pd.DataFrame(x,index=[\"day1\",\"day2\",\"day3\"])\n",
    "print(y.loc[[\"day1\",\"day2\"]])\n"
   ]
  },
  {
   "cell_type": "code",
   "execution_count": 35,
   "id": "6cf261ee-8ec6-438d-9db8-1d1535b793a7",
   "metadata": {},
   "outputs": [],
   "source": [
    "# load the data from the csv file into dataframe\n",
    "# i.e data.csv\n",
    "import pandas as pd\n",
    "# x=pd.read_csv('data.csv')\n",
    "# print(x) \n"
   ]
  },
  {
   "cell_type": "code",
   "execution_count": 1,
   "id": "aa760c20-6b1e-4c69-a183-b0dd13f167bf",
   "metadata": {},
   "outputs": [],
   "source": [
    "# why use csv ?\n",
    "# comma separated value or files\n",
    "# it is a simple way to store the big and biggest data sets\n",
    "# used for importing \n",
    "# csv files contain plain text"
   ]
  },
  {
   "cell_type": "code",
   "execution_count": 2,
   "id": "d7ee9d55-e43c-4985-a038-248fdce8c1c7",
   "metadata": {},
   "outputs": [
    {
     "name": "stdout",
     "output_type": "stream",
     "text": [
      "    Student_ID        Name Grade  Age Major   GPA\n",
      "0            1   Student_1     A   20    CE  3.53\n",
      "1            2   Student_2     D   18    EE  3.67\n",
      "2            3   Student_3     D   20    CS  2.25\n",
      "3            4   Student_4     F   22   BIO  2.10\n",
      "4            5   Student_5     C   21    EE  2.17\n",
      "5            6   Student_6     D   19    CS  2.06\n",
      "6            7   Student_7     B   20   BIO  3.34\n",
      "7            8   Student_8     D   23    CE  3.14\n",
      "8            9   Student_9     F   23    ME  3.16\n",
      "9           10  Student_10     D   18    EE  2.56\n",
      "10          11  Student_11     D   18    EE  2.55\n",
      "11          12  Student_12     A   23    CE  3.90\n",
      "12          13  Student_13     F   24    CE  2.38\n",
      "13          14  Student_14     A   18    CS  3.51\n",
      "14          15  Student_15     B   18   BIO  3.94\n",
      "15          16  Student_16     B   23    CE  2.17\n",
      "16          17  Student_17     D   22    EE  2.50\n",
      "17          18  Student_18     C   19   BIO  2.70\n",
      "18          19  Student_19     B   18    CS  2.97\n",
      "19          20  Student_20     A   18    CS  2.29\n",
      "20          21  Student_21     F   23    CE  2.96\n",
      "21          22  Student_22     A   18    CE  2.74\n",
      "22          23  Student_23     D   18    ME  3.74\n",
      "23          24  Student_24     B   20   BIO  2.46\n",
      "24          25  Student_25     C   23   BIO  2.37\n",
      "25          26  Student_26     A   22    CS  2.75\n",
      "26          27  Student_27     C   21    EE  3.29\n",
      "27          28  Student_28     C   22   BIO  3.23\n",
      "28          29  Student_29     B   22   BIO  3.71\n",
      "29          30  Student_30     F   20    CE  3.17\n",
      "30          31  Student_31     F   21    CE  2.59\n",
      "31          32  Student_32     B   21    EE  3.13\n",
      "32          33  Student_33     F   20    EE  3.01\n",
      "33          34  Student_34     D   20    EE  2.16\n",
      "34          35  Student_35     B   21    CE  2.52\n",
      "35          36  Student_36     F   24    ME  2.84\n",
      "36          37  Student_37     A   19    CS  2.22\n",
      "37          38  Student_38     A   24   BIO  2.31\n",
      "38          39  Student_39     D   18    CS  2.44\n",
      "39          40  Student_40     B   24    ME  2.57\n",
      "40          41  Student_41     B   22   BIO  2.50\n",
      "41          42  Student_42     F   24    CE  3.75\n",
      "42          43  Student_43     A   22    EE  2.14\n",
      "43          44  Student_44     F   21    CS  2.07\n",
      "44          45  Student_45     B   23    ME  3.37\n",
      "45          46  Student_46     A   20    CS  3.24\n",
      "46          47  Student_47     F   21    CE  2.21\n",
      "47          48  Student_48     D   20    CS  2.19\n",
      "48          49  Student_49     F   19   BIO  2.48\n",
      "49          50  Student_50     F   20    ME  3.82\n"
     ]
    }
   ],
   "source": [
    "import pandas as pd\n",
    "x=pd.read_csv('demo_data.csv')\n",
    "print(x)"
   ]
  },
  {
   "cell_type": "code",
   "execution_count": 3,
   "id": "a02998fd-6341-4e90-bb46-efbcb3bde6fc",
   "metadata": {},
   "outputs": [
    {
     "name": "stdout",
     "output_type": "stream",
     "text": [
      "    Student_ID        Name Grade  Age Major   GPA\n",
      "0            1   Student_1     A   20    CE  3.53\n",
      "1            2   Student_2     D   18    EE  3.67\n",
      "2            3   Student_3     D   20    CS  2.25\n",
      "3            4   Student_4     F   22   BIO  2.10\n",
      "4            5   Student_5     C   21    EE  2.17\n",
      "5            6   Student_6     D   19    CS  2.06\n",
      "6            7   Student_7     B   20   BIO  3.34\n",
      "7            8   Student_8     D   23    CE  3.14\n",
      "8            9   Student_9     F   23    ME  3.16\n",
      "9           10  Student_10     D   18    EE  2.56\n",
      "10          11  Student_11     D   18    EE  2.55\n",
      "11          12  Student_12     A   23    CE  3.90\n",
      "12          13  Student_13     F   24    CE  2.38\n",
      "13          14  Student_14     A   18    CS  3.51\n",
      "14          15  Student_15     B   18   BIO  3.94\n",
      "15          16  Student_16     B   23    CE  2.17\n",
      "16          17  Student_17     D   22    EE  2.50\n",
      "17          18  Student_18     C   19   BIO  2.70\n",
      "18          19  Student_19     B   18    CS  2.97\n",
      "19          20  Student_20     A   18    CS  2.29\n",
      "20          21  Student_21     F   23    CE  2.96\n",
      "21          22  Student_22     A   18    CE  2.74\n",
      "22          23  Student_23     D   18    ME  3.74\n",
      "23          24  Student_24     B   20   BIO  2.46\n",
      "24          25  Student_25     C   23   BIO  2.37\n",
      "25          26  Student_26     A   22    CS  2.75\n",
      "26          27  Student_27     C   21    EE  3.29\n",
      "27          28  Student_28     C   22   BIO  3.23\n",
      "28          29  Student_29     B   22   BIO  3.71\n",
      "29          30  Student_30     F   20    CE  3.17\n",
      "30          31  Student_31     F   21    CE  2.59\n",
      "31          32  Student_32     B   21    EE  3.13\n",
      "32          33  Student_33     F   20    EE  3.01\n",
      "33          34  Student_34     D   20    EE  2.16\n",
      "34          35  Student_35     B   21    CE  2.52\n",
      "35          36  Student_36     F   24    ME  2.84\n",
      "36          37  Student_37     A   19    CS  2.22\n",
      "37          38  Student_38     A   24   BIO  2.31\n",
      "38          39  Student_39     D   18    CS  2.44\n",
      "39          40  Student_40     B   24    ME  2.57\n",
      "40          41  Student_41     B   22   BIO  2.50\n",
      "41          42  Student_42     F   24    CE  3.75\n",
      "42          43  Student_43     A   22    EE  2.14\n",
      "43          44  Student_44     F   21    CS  2.07\n",
      "44          45  Student_45     B   23    ME  3.37\n",
      "45          46  Student_46     A   20    CS  3.24\n",
      "46          47  Student_47     F   21    CE  2.21\n",
      "47          48  Student_48     D   20    CS  2.19\n",
      "48          49  Student_49     F   19   BIO  2.48\n",
      "49          50  Student_50     F   20    ME  3.82\n"
     ]
    }
   ],
   "source": [
    "import pandas as pd\n",
    "x=pd.read_csv('demo_data.csv')\n",
    "print(x.to_string())"
   ]
  },
  {
   "cell_type": "code",
   "execution_count": 4,
   "id": "a97e6f19-be19-4739-8cfd-54c911bb42ee",
   "metadata": {},
   "outputs": [
    {
     "name": "stdout",
     "output_type": "stream",
     "text": [
      "60\n"
     ]
    }
   ],
   "source": [
    "# max_rows:you can check your system ma x rows with:\n",
    "import pandas as pd\n",
    "print(pd.options.display.max_rows)"
   ]
  },
  {
   "cell_type": "code",
   "execution_count": 5,
   "id": "d3de9c48-ff9b-4845-bea9-18fd916d3fb4",
   "metadata": {},
   "outputs": [],
   "source": [
    "# yes we can increase the max no of rows to display the entire dataframe"
   ]
  },
  {
   "cell_type": "code",
   "execution_count": 1,
   "id": "a4568440-be0e-4dec-94fd-417e774f292a",
   "metadata": {},
   "outputs": [
    {
     "name": "stdout",
     "output_type": "stream",
     "text": [
      "     ID      Name  Age         City  Score\n",
      "0     1    User_1   47      Houston  20.28\n",
      "1     2    User_2   30      Phoenix  11.31\n",
      "2     3    User_3   42      Chicago  36.74\n",
      "3     4    User_4   33      Phoenix  57.76\n",
      "4     5    User_5   51      Chicago  84.25\n",
      "5     6    User_6   24      Chicago  38.09\n",
      "6     7    User_7   43      Chicago  44.95\n",
      "7     8    User_8   37      Chicago  89.66\n",
      "8     9    User_9   54      Chicago  53.30\n",
      "9    10   User_10   39      Phoenix  24.59\n",
      "10   11   User_11   27      Houston  31.25\n",
      "11   12   User_12   38     New York  19.49\n",
      "12   13   User_13   20      Houston   4.56\n",
      "13   14   User_14   51     New York  62.36\n",
      "14   15   User_15   24     New York  44.50\n",
      "15   16   User_16   37      Houston  35.25\n",
      "16   17   User_17   47      Chicago  51.21\n",
      "17   18   User_18   52      Phoenix  82.12\n",
      "18   19   User_19   18     New York  60.26\n",
      "19   20   User_20   24     New York  44.01\n",
      "20   21   User_21   30      Phoenix  23.12\n",
      "21   22   User_22   27  Los Angeles  68.54\n",
      "22   23   User_23   41      Chicago  19.27\n",
      "23   24   User_24   47      Phoenix   7.01\n",
      "24   25   User_25   18      Houston  40.55\n",
      "25   26   User_26   26      Phoenix  32.11\n",
      "26   27   User_27   48  Los Angeles  28.71\n",
      "27   28   User_28   48     New York  82.13\n",
      "28   29   User_29   43      Phoenix  47.60\n",
      "29   30   User_30   56     New York  44.80\n",
      "30   31   User_31   22      Phoenix  68.54\n",
      "31   32   User_32   57      Chicago  49.81\n",
      "32   33   User_33   33     New York   2.73\n",
      "33   34   User_34   32  Los Angeles  56.60\n",
      "34   35   User_35   20      Houston  13.64\n",
      "35   36   User_36   38      Chicago  77.93\n",
      "36   37   User_37   22      Chicago  60.63\n",
      "37   38   User_38   42     New York  47.75\n",
      "38   39   User_39   44  Los Angeles  26.18\n",
      "39   40   User_40   55      Houston  61.79\n",
      "40   41   User_41   35      Houston  49.36\n",
      "41   42   User_42   49  Los Angeles   3.92\n",
      "42   43   User_43   38      Houston  79.35\n",
      "43   44   User_44   43     New York  48.94\n",
      "44   45   User_45   38  Los Angeles  79.09\n",
      "45   46   User_46   21      Chicago  85.02\n",
      "46   47   User_47   33      Chicago  85.89\n",
      "47   48   User_48   53      Houston  64.63\n",
      "48   49   User_49   19      Houston  13.08\n",
      "49   50   User_50   34  Los Angeles  70.49\n",
      "50   51   User_51   26     New York  61.16\n",
      "51   52   User_52   53  Los Angeles  28.83\n",
      "52   53   User_53   31      Chicago  28.33\n",
      "53   54   User_54   39      Houston  49.64\n",
      "54   55   User_55   54     New York   3.85\n",
      "55   56   User_56   19      Phoenix  88.69\n",
      "56   57   User_57   56      Phoenix  15.22\n",
      "57   58   User_58   19  Los Angeles  91.05\n",
      "58   59   User_59   38      Houston  90.36\n",
      "59   60   User_60   35      Chicago   9.93\n",
      "60   61   User_61   57     New York  39.30\n",
      "61   62   User_62   31  Los Angeles  59.82\n",
      "62   63   User_63   52      Phoenix  17.67\n",
      "63   64   User_64   47      Houston  11.21\n",
      "64   65   User_65   25     New York  55.16\n",
      "65   66   User_66   33      Houston  22.83\n",
      "66   67   User_67   52      Houston  43.13\n",
      "67   68   User_68   24     New York  30.13\n",
      "68   69   User_69   26      Phoenix  39.15\n",
      "69   70   User_70   22      Phoenix  27.57\n",
      "70   71   User_71   27     New York  50.83\n",
      "71   72   User_72   48      Houston  91.91\n",
      "72   73   User_73   26      Phoenix  34.60\n",
      "73   74   User_74   39  Los Angeles   1.73\n",
      "74   75   User_75   52  Los Angeles  27.99\n",
      "75   76   User_76   58      Houston  73.83\n",
      "76   77   User_77   56     New York  81.05\n",
      "77   78   User_78   28     New York  60.86\n",
      "78   79   User_79   53      Houston  39.28\n",
      "79   80   User_80   21      Houston  80.86\n",
      "80   81   User_81   28     New York  41.84\n",
      "81   82   User_82   34     New York  93.60\n",
      "82   83   User_83   23      Chicago  10.13\n",
      "83   84   User_84   37      Phoenix   7.22\n",
      "84   85   User_85   33      Chicago  22.58\n",
      "85   86   User_86   40      Houston  71.60\n",
      "86   87   User_87   56     New York  16.17\n",
      "87   88   User_88   43     New York  18.60\n",
      "88   89   User_89   52  Los Angeles   0.54\n",
      "89   90   User_90   49  Los Angeles  63.56\n",
      "90   91   User_91   47      Chicago  67.21\n",
      "91   92   User_92   18     New York  15.46\n",
      "92   93   User_93   42      Phoenix  23.34\n",
      "93   94   User_94   56      Phoenix  23.61\n",
      "94   95   User_95   42      Houston   7.72\n",
      "95   96   User_96   35  Los Angeles  66.30\n",
      "96   97   User_97   36  Los Angeles  94.02\n",
      "97   98   User_98   58      Phoenix   4.14\n",
      "98   99   User_99   33      Chicago  61.06\n",
      "99  100  User_100   53      Houston   2.68\n"
     ]
    }
   ],
   "source": [
    "import pandas as pd\n",
    "pd.options.display.max_rows=999\n",
    "x=pd.read_csv('random_data.csv')\n",
    "print(x)\n"
   ]
  },
  {
   "cell_type": "code",
   "execution_count": 2,
   "id": "d1c76e7d",
   "metadata": {},
   "outputs": [],
   "source": [
    "# but this is not readable"
   ]
  },
  {
   "cell_type": "code",
   "execution_count": 3,
   "id": "351c209d",
   "metadata": {},
   "outputs": [
    {
     "name": "stdout",
     "output_type": "stream",
     "text": [
      "     ID      Name  Age         City  Score\n",
      "0     1    User_1   47      Houston  20.28\n",
      "1     2    User_2   30      Phoenix  11.31\n",
      "2     3    User_3   42      Chicago  36.74\n",
      "3     4    User_4   33      Phoenix  57.76\n",
      "4     5    User_5   51      Chicago  84.25\n",
      "5     6    User_6   24      Chicago  38.09\n",
      "6     7    User_7   43      Chicago  44.95\n",
      "7     8    User_8   37      Chicago  89.66\n",
      "8     9    User_9   54      Chicago  53.30\n",
      "9    10   User_10   39      Phoenix  24.59\n",
      "10   11   User_11   27      Houston  31.25\n",
      "11   12   User_12   38     New York  19.49\n",
      "12   13   User_13   20      Houston   4.56\n",
      "13   14   User_14   51     New York  62.36\n",
      "14   15   User_15   24     New York  44.50\n",
      "15   16   User_16   37      Houston  35.25\n",
      "16   17   User_17   47      Chicago  51.21\n",
      "17   18   User_18   52      Phoenix  82.12\n",
      "18   19   User_19   18     New York  60.26\n",
      "19   20   User_20   24     New York  44.01\n",
      "20   21   User_21   30      Phoenix  23.12\n",
      "21   22   User_22   27  Los Angeles  68.54\n",
      "22   23   User_23   41      Chicago  19.27\n",
      "23   24   User_24   47      Phoenix   7.01\n",
      "24   25   User_25   18      Houston  40.55\n",
      "25   26   User_26   26      Phoenix  32.11\n",
      "26   27   User_27   48  Los Angeles  28.71\n",
      "27   28   User_28   48     New York  82.13\n",
      "28   29   User_29   43      Phoenix  47.60\n",
      "29   30   User_30   56     New York  44.80\n",
      "30   31   User_31   22      Phoenix  68.54\n",
      "31   32   User_32   57      Chicago  49.81\n",
      "32   33   User_33   33     New York   2.73\n",
      "33   34   User_34   32  Los Angeles  56.60\n",
      "34   35   User_35   20      Houston  13.64\n",
      "35   36   User_36   38      Chicago  77.93\n",
      "36   37   User_37   22      Chicago  60.63\n",
      "37   38   User_38   42     New York  47.75\n",
      "38   39   User_39   44  Los Angeles  26.18\n",
      "39   40   User_40   55      Houston  61.79\n",
      "40   41   User_41   35      Houston  49.36\n",
      "41   42   User_42   49  Los Angeles   3.92\n",
      "42   43   User_43   38      Houston  79.35\n",
      "43   44   User_44   43     New York  48.94\n",
      "44   45   User_45   38  Los Angeles  79.09\n",
      "45   46   User_46   21      Chicago  85.02\n",
      "46   47   User_47   33      Chicago  85.89\n",
      "47   48   User_48   53      Houston  64.63\n",
      "48   49   User_49   19      Houston  13.08\n",
      "49   50   User_50   34  Los Angeles  70.49\n",
      "50   51   User_51   26     New York  61.16\n",
      "51   52   User_52   53  Los Angeles  28.83\n",
      "52   53   User_53   31      Chicago  28.33\n",
      "53   54   User_54   39      Houston  49.64\n",
      "54   55   User_55   54     New York   3.85\n",
      "55   56   User_56   19      Phoenix  88.69\n",
      "56   57   User_57   56      Phoenix  15.22\n",
      "57   58   User_58   19  Los Angeles  91.05\n",
      "58   59   User_59   38      Houston  90.36\n",
      "59   60   User_60   35      Chicago   9.93\n",
      "60   61   User_61   57     New York  39.30\n",
      "61   62   User_62   31  Los Angeles  59.82\n",
      "62   63   User_63   52      Phoenix  17.67\n",
      "63   64   User_64   47      Houston  11.21\n",
      "64   65   User_65   25     New York  55.16\n",
      "65   66   User_66   33      Houston  22.83\n",
      "66   67   User_67   52      Houston  43.13\n",
      "67   68   User_68   24     New York  30.13\n",
      "68   69   User_69   26      Phoenix  39.15\n",
      "69   70   User_70   22      Phoenix  27.57\n",
      "70   71   User_71   27     New York  50.83\n",
      "71   72   User_72   48      Houston  91.91\n",
      "72   73   User_73   26      Phoenix  34.60\n",
      "73   74   User_74   39  Los Angeles   1.73\n",
      "74   75   User_75   52  Los Angeles  27.99\n",
      "75   76   User_76   58      Houston  73.83\n",
      "76   77   User_77   56     New York  81.05\n",
      "77   78   User_78   28     New York  60.86\n",
      "78   79   User_79   53      Houston  39.28\n",
      "79   80   User_80   21      Houston  80.86\n",
      "80   81   User_81   28     New York  41.84\n",
      "81   82   User_82   34     New York  93.60\n",
      "82   83   User_83   23      Chicago  10.13\n",
      "83   84   User_84   37      Phoenix   7.22\n",
      "84   85   User_85   33      Chicago  22.58\n",
      "85   86   User_86   40      Houston  71.60\n",
      "86   87   User_87   56     New York  16.17\n",
      "87   88   User_88   43     New York  18.60\n",
      "88   89   User_89   52  Los Angeles   0.54\n",
      "89   90   User_90   49  Los Angeles  63.56\n",
      "90   91   User_91   47      Chicago  67.21\n",
      "91   92   User_92   18     New York  15.46\n",
      "92   93   User_93   42      Phoenix  23.34\n",
      "93   94   User_94   56      Phoenix  23.61\n",
      "94   95   User_95   42      Houston   7.72\n",
      "95   96   User_96   35  Los Angeles  66.30\n",
      "96   97   User_97   36  Los Angeles  94.02\n",
      "97   98   User_98   58      Phoenix   4.14\n",
      "98   99   User_99   33      Chicago  61.06\n",
      "99  100  User_100   53      Houston   2.68\n"
     ]
    }
   ],
   "source": [
    "import pandas as pd\n",
    "pd.options.display.max_rows=999\n",
    "x=pd.read_csv('random_data.csv')\n",
    "print(x.to_string())"
   ]
  },
  {
   "cell_type": "code",
   "execution_count": 4,
   "id": "d15e56c9",
   "metadata": {},
   "outputs": [],
   "source": [
    "# how to read JSON files"
   ]
  },
  {
   "cell_type": "code",
   "execution_count": 5,
   "id": "7f4d123b",
   "metadata": {},
   "outputs": [],
   "source": [
    "# JSON: big data sets are normally stored and extracted as JSON\n",
    "\n",
    "# JSON: is a plain text , but it has a format of an object\n",
    "# object:\n"
   ]
  },
  {
   "cell_type": "code",
   "execution_count": 9,
   "id": "f81efa31",
   "metadata": {},
   "outputs": [
    {
     "name": "stdout",
     "output_type": "stream",
     "text": [
      "   ID    Name  Age     City  Score\n",
      "0   1  User_1   47  Houston  20.28\n",
      "1   2  User_2   30  Phoenix  11.31\n"
     ]
    }
   ],
   "source": [
    "import pandas as pd\n",
    "x = pd.read_json('data.json', encoding='utf-8')\n",
    "print(x.to_string())"
   ]
  },
  {
   "cell_type": "code",
   "execution_count": 10,
   "id": "27a275fd",
   "metadata": {},
   "outputs": [
    {
     "name": "stdout",
     "output_type": "stream",
     "text": [
      "   ID    Name  Age     City  Score\n",
      "0   1  User_1   47  Houston  20.28\n",
      "1   2  User_2   30  Phoenix  11.31\n"
     ]
    }
   ],
   "source": [
    "#  dictionary as a json if your json code is not in file but in a dictionary \n",
    "import pandas as pd\n",
    "data=[\n",
    "  {\"ID\": 1, \"Name\": \"User_1\", \"Age\": 47, \"City\": \"Houston\", \"Score\": 20.28},\n",
    "  {\"ID\": 2, \"Name\": \"User_2\", \"Age\": 30, \"City\": \"Phoenix\", \"Score\": 11.31}\n",
    "]\n",
    "y=pd.DataFrame(data)\n",
    "print(y)"
   ]
  },
  {
   "cell_type": "code",
   "execution_count": 12,
   "id": "68d192ef",
   "metadata": {},
   "outputs": [
    {
     "name": "stdout",
     "output_type": "stream",
     "text": [
      "   Student_ID        Name Grade  Age Major   GPA\n",
      "0           1   Student_1     A   20    CE  3.53\n",
      "1           2   Student_2     D   18    EE  3.67\n",
      "2           3   Student_3     D   20    CS  2.25\n",
      "3           4   Student_4     F   22   BIO  2.10\n",
      "4           5   Student_5     C   21    EE  2.17\n",
      "5           6   Student_6     D   19    CS  2.06\n",
      "6           7   Student_7     B   20   BIO  3.34\n",
      "7           8   Student_8     D   23    CE  3.14\n",
      "8           9   Student_9     F   23    ME  3.16\n",
      "9          10  Student_10     D   18    EE  2.56\n"
     ]
    }
   ],
   "source": [
    "# using head():-it is used to know the overviw of the data just like reading any index of book\n",
    "import pandas as pd\n",
    "x=pd.read_csv('demo_data.csv')\n",
    "print(x.head(10)) "
   ]
  },
  {
   "cell_type": "code",
   "execution_count": 13,
   "id": "5bfd913b",
   "metadata": {},
   "outputs": [
    {
     "name": "stdout",
     "output_type": "stream",
     "text": [
      "    Student_ID        Name Grade  Age Major   GPA\n",
      "40          41  Student_41     B   22   BIO  2.50\n",
      "41          42  Student_42     F   24    CE  3.75\n",
      "42          43  Student_43     A   22    EE  2.14\n",
      "43          44  Student_44     F   21    CS  2.07\n",
      "44          45  Student_45     B   23    ME  3.37\n",
      "45          46  Student_46     A   20    CS  3.24\n",
      "46          47  Student_47     F   21    CE  2.21\n",
      "47          48  Student_48     D   20    CS  2.19\n",
      "48          49  Student_49     F   19   BIO  2.48\n",
      "49          50  Student_50     F   20    ME  3.82\n"
     ]
    }
   ],
   "source": [
    "# to see the last values of data:tail()\n",
    "import pandas as pd\n",
    "x=pd.read_csv('demo_data.csv')\n",
    "print(x.tail(10)) "
   ]
  },
  {
   "cell_type": "code",
   "execution_count": 14,
   "id": "3c3e7a3d",
   "metadata": {},
   "outputs": [
    {
     "name": "stdout",
     "output_type": "stream",
     "text": [
      "<class 'pandas.core.frame.DataFrame'>\n",
      "RangeIndex: 50 entries, 0 to 49\n",
      "Data columns (total 6 columns):\n",
      " #   Column      Non-Null Count  Dtype  \n",
      "---  ------      --------------  -----  \n",
      " 0   Student_ID  50 non-null     int64  \n",
      " 1   Name        50 non-null     object \n",
      " 2   Grade       50 non-null     object \n",
      " 3   Age         50 non-null     int64  \n",
      " 4   Major       50 non-null     object \n",
      " 5   GPA         50 non-null     float64\n",
      "dtypes: float64(1), int64(2), object(3)\n",
      "memory usage: 2.5+ KB\n",
      "None\n"
     ]
    }
   ],
   "source": [
    "# to get info about data:info()\n",
    "import pandas as pd\n",
    "x=pd.read_csv('demo_data.csv')\n",
    "print(x.info()) "
   ]
  },
  {
   "cell_type": "code",
   "execution_count": 15,
   "id": "5d9c4593",
   "metadata": {},
   "outputs": [
    {
     "data": {
      "text/plain": [
       "':there are some problems in the data like\\n empy cells, \\n in wrong format ,\\ndublicate data ,\\nwrong data\\n to fix them we use cleaning data'"
      ]
     },
     "execution_count": 15,
     "metadata": {},
     "output_type": "execute_result"
    }
   ],
   "source": [
    "# cleaning data\n",
    "''':there are some problems in the data like\n",
    " empy cells, \n",
    " in wrong format ,\n",
    "dublicate data ,\n",
    "wrong data\n",
    " to fix them we use cleaning data'''\n",
    "# empty cell :it will always give you wrong result so we will remove the rows\n",
    "\n",
    "\n"
   ]
  },
  {
   "cell_type": "code",
   "execution_count": 17,
   "id": "79931c40",
   "metadata": {},
   "outputs": [
    {
     "name": "stdout",
     "output_type": "stream",
     "text": [
      "            Name     Age                 Email Registration_Date  Country   Salary\n",
      "0       John Doe      25  john.doe@example.com        2023-01-15      USA  50000.0\n",
      "1     Jane Smith     NaN    jane.smith@example        2023-02-30      USA  55000.0\n",
      "2  Alice Johnson      28   alice.j@example.com               NaN   Canada      NaN\n",
      "3            NaN      32                   NaN        2023-03-20      NaN  70000.0\n",
      "4        Michael     NaN              michael@      Invalid Date   Canada  80000.0\n",
      "5            NaN      40                   NaN        2023/04/25       UK  45000.0\n",
      "6   Robert Brown  Thirty  robert.b@example.com        2023-05-10  Germany      NaN\n"
     ]
    }
   ],
   "source": [
    "import pandas as pd\n",
    "x=pd.read_csv('dirtydata.csv')\n",
    "print(x.to_string())"
   ]
  },
  {
   "cell_type": "code",
   "execution_count": 18,
   "id": "d9d1990c",
   "metadata": {},
   "outputs": [
    {
     "name": "stdout",
     "output_type": "stream",
     "text": [
      "       Name Age                 Email Registration_Date Country   Salary\n",
      "0  John Doe  25  john.doe@example.com        2023-01-15     USA  50000.0\n"
     ]
    }
   ],
   "source": [
    "import pandas as pd\n",
    "x=pd.read_csv('dirtydata.csv')\n",
    "y=x.dropna()\n",
    "print(y.to_string())"
   ]
  },
  {
   "cell_type": "code",
   "execution_count": 19,
   "id": "1317b403",
   "metadata": {},
   "outputs": [],
   "source": [
    "# removed all the bad data\n"
   ]
  },
  {
   "cell_type": "code",
   "execution_count": 20,
   "id": "7c8392ad",
   "metadata": {},
   "outputs": [
    {
     "name": "stdout",
     "output_type": "stream",
     "text": [
      "       Name Age                 Email Registration_Date Country   Salary\n",
      "0  John Doe  25  john.doe@example.com        2023-01-15     USA  50000.0\n"
     ]
    }
   ],
   "source": [
    "# do in same file\n",
    "import pandas as pd\n",
    "x=pd.read_csv('dirtydata.csv')\n",
    "x.dropna(inplace=True)\n",
    "print(x.to_string())"
   ]
  },
  {
   "cell_type": "code",
   "execution_count": 21,
   "id": "6054afd3",
   "metadata": {},
   "outputs": [
    {
     "name": "stdout",
     "output_type": "stream",
     "text": [
      "            Name     Age                 Email Registration_Date  Country  \\\n",
      "0       John Doe      25  john.doe@example.com        2023-01-15      USA   \n",
      "1     Jane Smith     NaN    jane.smith@example        2023-02-30      USA   \n",
      "2  Alice Johnson      28   alice.j@example.com               NaN   Canada   \n",
      "3            NaN      32                   NaN        2023-03-20      NaN   \n",
      "4        Michael     NaN              michael@      Invalid Date   Canada   \n",
      "5            NaN      40                   NaN        2023/04/25       UK   \n",
      "6   Robert Brown  Thirty  robert.b@example.com        2023-05-10  Germany   \n",
      "\n",
      "    Salary  \n",
      "0  50000.0  \n",
      "1  55000.0  \n",
      "2      NaN  \n",
      "3  70000.0  \n",
      "4  80000.0  \n",
      "5  45000.0  \n",
      "6      NaN  \n"
     ]
    }
   ],
   "source": [
    "import pandas as pd\n",
    "x=pd.read_csv('dirtydata.csv')\n",
    "print(x)"
   ]
  },
  {
   "cell_type": "code",
   "execution_count": 22,
   "id": "dc48323d",
   "metadata": {},
   "outputs": [
    {
     "name": "stdout",
     "output_type": "stream",
     "text": [
      "            Name     Age                 Email Registration_Date  Country   Salary\n",
      "0       John Doe      25  john.doe@example.com        2023-01-15      USA  50000.0\n",
      "1     Jane Smith     130    jane.smith@example        2023-02-30      USA  55000.0\n",
      "2  Alice Johnson      28   alice.j@example.com               130   Canada    130.0\n",
      "3            130      32                   130        2023-03-20      130  70000.0\n",
      "4        Michael     130              michael@      Invalid Date   Canada  80000.0\n",
      "5            130      40                   130        2023/04/25       UK  45000.0\n",
      "6   Robert Brown  Thirty  robert.b@example.com        2023-05-10  Germany    130.0\n"
     ]
    }
   ],
   "source": [
    "# fillna():-allow us to fill the row that is to be deleted\n",
    "import pandas as pd\n",
    "x=pd.read_csv('dirtydata.csv')\n",
    "x.fillna(130,inplace=True)\n",
    "print(x.to_string())"
   ]
  },
  {
   "cell_type": "code",
   "execution_count": 23,
   "id": "81957ed4",
   "metadata": {},
   "outputs": [],
   "source": [
    "# filled where not a number was"
   ]
  },
  {
   "cell_type": "code",
   "execution_count": 24,
   "id": "e3b5dee8",
   "metadata": {},
   "outputs": [
    {
     "name": "stdout",
     "output_type": "stream",
     "text": [
      "            Name     Age                 Email Registration_Date  Country   Salary\n",
      "0       John Doe      25  john.doe@example.com        2023-01-15      USA  50000.0\n",
      "1     Jane Smith     130    jane.smith@example        2023-02-30      USA  55000.0\n",
      "2  Alice Johnson      28   alice.j@example.com               NaN   Canada      NaN\n",
      "3            NaN      32                   NaN        2023-03-20      NaN  70000.0\n",
      "4        Michael     130              michael@      Invalid Date   Canada  80000.0\n",
      "5            NaN      40                   NaN        2023/04/25       UK  45000.0\n",
      "6   Robert Brown  Thirty  robert.b@example.com        2023-05-10  Germany      NaN\n"
     ]
    },
    {
     "name": "stderr",
     "output_type": "stream",
     "text": [
      "C:\\Users\\vm822\\AppData\\Local\\Temp\\ipykernel_46040\\2340295589.py:5: FutureWarning: A value is trying to be set on a copy of a DataFrame or Series through chained assignment using an inplace method.\n",
      "The behavior will change in pandas 3.0. This inplace method will never work because the intermediate object on which we are setting values always behaves as a copy.\n",
      "\n",
      "For example, when doing 'df[col].method(value, inplace=True)', try using 'df.method({col: value}, inplace=True)' or df[col] = df[col].method(value) instead, to perform the operation inplace on the original object.\n",
      "\n",
      "\n",
      "  x['Age'].fillna(130,inplace=True)\n"
     ]
    }
   ],
   "source": [
    "#  to fill specific cell\n",
    "# fillna():-allow us to fill the row that is to be deleted\n",
    "import pandas as pd\n",
    "x=pd.read_csv('dirtydata.csv')\n",
    "x['Age'].fillna(130,inplace=True)\n",
    "print(x.to_string())"
   ]
  },
  {
   "cell_type": "code",
   "execution_count": 28,
   "id": "4b64352c",
   "metadata": {},
   "outputs": [
    {
     "name": "stdout",
     "output_type": "stream",
     "text": [
      "            Name     Age                 Email Registration_Date  Country   Salary\n",
      "0       John Doe      25  john.doe@example.com        2023-01-15      USA  50000.0\n",
      "1     Jane Smith     NaN    jane.smith@example        2023-02-30      USA  55000.0\n",
      "2  Alice Johnson      28   alice.j@example.com               NaN   Canada  60000.0\n",
      "3            NaN      32                   NaN        2023-03-20      NaN  70000.0\n",
      "4        Michael     NaN              michael@      Invalid Date   Canada  80000.0\n",
      "5            NaN      40                   NaN        2023/04/25       UK  45000.0\n",
      "6   Robert Brown  Thirty  robert.b@example.com        2023-05-10  Germany  60000.0\n",
      "60000.0\n"
     ]
    },
    {
     "name": "stderr",
     "output_type": "stream",
     "text": [
      "C:\\Users\\vm822\\AppData\\Local\\Temp\\ipykernel_46040\\822314250.py:6: FutureWarning: A value is trying to be set on a copy of a DataFrame or Series through chained assignment using an inplace method.\n",
      "The behavior will change in pandas 3.0. This inplace method will never work because the intermediate object on which we are setting values always behaves as a copy.\n",
      "\n",
      "For example, when doing 'df[col].method(value, inplace=True)', try using 'df.method({col: value}, inplace=True)' or df[col] = df[col].method(value) instead, to perform the operation inplace on the original object.\n",
      "\n",
      "\n",
      "  x['Salary'].fillna(y,inplace=True)\n"
     ]
    }
   ],
   "source": [
    "# here we can also replace the empty cell using mean() mode() median()\n",
    "# cal mean and replace the empty cell\n",
    "import pandas as pd\n",
    "x=pd.read_csv('dirtydata.csv')\n",
    "y=x['Salary'].mean()\n",
    "x['Salary'].fillna(y,inplace=True)\n",
    "print(x.to_string())\n"
   ]
  },
  {
   "cell_type": "code",
   "execution_count": 29,
   "id": "79174f8f",
   "metadata": {},
   "outputs": [
    {
     "name": "stdout",
     "output_type": "stream",
     "text": [
      "            Name     Age                 Email Registration_Date  Country   Salary\n",
      "0       John Doe      25  john.doe@example.com        2023-01-15      USA  50000.0\n",
      "1     Jane Smith     NaN    jane.smith@example        2023-02-30      USA  55000.0\n",
      "2  Alice Johnson      28   alice.j@example.com               NaN   Canada  55000.0\n",
      "3            NaN      32                   NaN        2023-03-20      NaN  70000.0\n",
      "4        Michael     NaN              michael@      Invalid Date   Canada  80000.0\n",
      "5            NaN      40                   NaN        2023/04/25       UK  45000.0\n",
      "6   Robert Brown  Thirty  robert.b@example.com        2023-05-10  Germany  55000.0\n"
     ]
    },
    {
     "name": "stderr",
     "output_type": "stream",
     "text": [
      "C:\\Users\\vm822\\AppData\\Local\\Temp\\ipykernel_46040\\2507996952.py:4: FutureWarning: A value is trying to be set on a copy of a DataFrame or Series through chained assignment using an inplace method.\n",
      "The behavior will change in pandas 3.0. This inplace method will never work because the intermediate object on which we are setting values always behaves as a copy.\n",
      "\n",
      "For example, when doing 'df[col].method(value, inplace=True)', try using 'df.method({col: value}, inplace=True)' or df[col] = df[col].method(value) instead, to perform the operation inplace on the original object.\n",
      "\n",
      "\n",
      "  x['Salary'].fillna(y,inplace=True)\n"
     ]
    }
   ],
   "source": [
    "import pandas as pd\n",
    "x=pd.read_csv('dirtydata.csv')\n",
    "y=x['Salary'].median()\n",
    "x['Salary'].fillna(y,inplace=True)\n",
    "print(x.to_string())"
   ]
  },
  {
   "cell_type": "code",
   "execution_count": 30,
   "id": "4c8952e6",
   "metadata": {},
   "outputs": [
    {
     "name": "stdout",
     "output_type": "stream",
     "text": [
      "            Name     Age                 Email Registration_Date  Country   Salary\n",
      "0       John Doe      25  john.doe@example.com        2023-01-15      USA  50000.0\n",
      "1     Jane Smith     NaN    jane.smith@example        2023-02-30      USA  55000.0\n",
      "2  Alice Johnson      28   alice.j@example.com               NaN   Canada  55000.0\n",
      "3            NaN      32                   NaN        2023-03-20      NaN  70000.0\n",
      "4        Michael     NaN              michael@      Invalid Date   Canada  80000.0\n",
      "5            NaN      40                   NaN        2023/04/25       UK  45000.0\n",
      "6   Robert Brown  Thirty  robert.b@example.com        2023-05-10  Germany      NaN\n"
     ]
    },
    {
     "name": "stderr",
     "output_type": "stream",
     "text": [
      "C:\\Users\\vm822\\AppData\\Local\\Temp\\ipykernel_46040\\1600092354.py:4: FutureWarning: A value is trying to be set on a copy of a DataFrame or Series through chained assignment using an inplace method.\n",
      "The behavior will change in pandas 3.0. This inplace method will never work because the intermediate object on which we are setting values always behaves as a copy.\n",
      "\n",
      "For example, when doing 'df[col].method(value, inplace=True)', try using 'df.method({col: value}, inplace=True)' or df[col] = df[col].method(value) instead, to perform the operation inplace on the original object.\n",
      "\n",
      "\n",
      "  x['Salary'].fillna(y,inplace=True)\n"
     ]
    }
   ],
   "source": [
    "import pandas as pd\n",
    "x=pd.read_csv('dirtydata.csv')\n",
    "y=x['Salary'].mode()\n",
    "x['Salary'].fillna(y,inplace=True)\n",
    "print(x.to_string())"
   ]
  },
  {
   "cell_type": "code",
   "execution_count": 31,
   "id": "0168dc80",
   "metadata": {},
   "outputs": [],
   "source": [
    "# cleaning wrong format\n"
   ]
  },
  {
   "cell_type": "code",
   "execution_count": 32,
   "id": "1122aba1",
   "metadata": {},
   "outputs": [
    {
     "data": {
      "text/plain": [
       "'\\n1.remove the rows\\n2. change the format\\n'"
      ]
     },
     "execution_count": 32,
     "metadata": {},
     "output_type": "execute_result"
    }
   ],
   "source": [
    "# data in a wrong format\n",
    "# to fix this problem there are two ways\n",
    "'''\n",
    "1.remove the rows\n",
    "2. change the format\n",
    "'''"
   ]
  },
  {
   "cell_type": "code",
   "execution_count": 35,
   "id": "5c2762d2",
   "metadata": {},
   "outputs": [
    {
     "name": "stdout",
     "output_type": "stream",
     "text": [
      "            Name     Age                 Email Registration_Date  Country   Salary\n",
      "0       John Doe      25  john.doe@example.com        2023-01-15      USA  50000.0\n",
      "1     Jane Smith     NaN    jane.smith@example               NaT      USA  55000.0\n",
      "2  Alice Johnson      28   alice.j@example.com               NaT   Canada      NaN\n",
      "3            NaN      32                   NaN        2023-03-20      NaN  70000.0\n",
      "4        Michael     NaN              michael@               NaT   Canada  80000.0\n",
      "5            NaN      40                   NaN               NaT       UK  45000.0\n",
      "6   Robert Brown  Thirty  robert.b@example.com        2023-05-10  Germany      NaN\n"
     ]
    }
   ],
   "source": [
    "import pandas as pd\n",
    "x=pd.read_csv('dirtydata.csv')\n",
    "x[\"Registration_Date\"]=pd.to_datetime(x['Registration_Date'], errors='coerce' ) # Replace invalid dates with NaT\n",
    "print(x.to_string())"
   ]
  },
  {
   "cell_type": "code",
   "execution_count": null,
   "id": "8ffa9842",
   "metadata": {},
   "outputs": [
    {
     "name": "stdout",
     "output_type": "stream",
     "text": [
      "           Name     Age                 Email Registration_Date  Country   Salary\n",
      "0      John Doe      25  john.doe@example.com        2023-01-15      USA  50000.0\n",
      "3           NaN      32                   NaN        2023-03-20      NaN  70000.0\n",
      "6  Robert Brown  Thirty  robert.b@example.com        2023-05-10  Germany      NaN\n"
     ]
    }
   ],
   "source": [
    "import pandas as pd\n",
    "x=pd.read_csv('dirtydata.csv')\n",
    "x[\"Registration_Date\"]=pd.to_datetime(x['Registration_Date'], errors='coerce' ) # Replace invalid dates with NaT\n",
    "x.dropna(subset=[\"Registration_Date\"],inplace=True)\n",
    "# Explanation:\n",
    "\n",
    "# dropna() Function:\n",
    "\n",
    "# This function removes rows (or columns, if specified) that contain missing values (NaN).\n",
    "# subset=[\"Registration_Date\"]:\n",
    "\n",
    "# Specifies that the dropna function should only consider the Registration_Date column for checking missing values.\n",
    "# If a row in the dataset has a missing value (NaN or NaT for datetime objects) in the Registration_Date column, that row will be removed.\n",
    "# inplace=True:\n",
    "\n",
    "# Ensures that the changes are applied directly to the DataFrame x.\n",
    "# Without inplace=True, the function would return a new DataFrame with the rows removed but wouldn’t modify the original x DataFrame.\n",
    "print(x.to_string())"
   ]
  },
  {
   "cell_type": "code",
   "execution_count": 38,
   "id": "866bc5fb",
   "metadata": {},
   "outputs": [
    {
     "name": "stdout",
     "output_type": "stream",
     "text": [
      "            Name     Age                 Email Registration_Date  Country  \\\n",
      "0       John Doe      25  john.doe@example.com        2023-01-15      USA   \n",
      "1     Jane Smith     NaN    jane.smith@example        2023-02-30      USA   \n",
      "2  Alice Johnson      28   alice.j@example.com               NaN   Canada   \n",
      "3            NaN      32                   NaN        2023-03-20      NaN   \n",
      "4        Michael     NaN              michael@      Invalid Date   Canada   \n",
      "5            NaN      40                   NaN        2023/04/25       UK   \n",
      "6   Robert Brown  Thirty  robert.b@example.com        2023-05-10  Germany   \n",
      "\n",
      "    Salary  \n",
      "0  50000.0  \n",
      "1  55000.0  \n",
      "2      NaN  \n",
      "3  70000.0  \n",
      "4  80000.0  \n",
      "5  45000.0  \n",
      "6      NaN  \n"
     ]
    }
   ],
   "source": [
    "# fixing wrong data\n",
    "import pandas as pd\n",
    "x=pd.read_csv('dirtydata.csv')\n",
    "print(x)"
   ]
  },
  {
   "cell_type": "code",
   "execution_count": 39,
   "id": "19d1d518",
   "metadata": {},
   "outputs": [
    {
     "name": "stdout",
     "output_type": "stream",
     "text": [
      "            Name     Age                 Email Registration_Date  Country   Salary\n",
      "0       John Doe      25  john.doe@example.com        2023-01-15      USA  50000.0\n",
      "1     Jane Smith     NaN    jane.smith@example        2023-02-30      USA  55000.0\n",
      "2  Alice Johnson      28   alice.j@example.com               NaN   Canada      NaN\n",
      "3            NaN      32                   NaN        2023-03-20      NaN  70000.0\n",
      "4        Michael     NaN              michael@      Invalid Date   Canada  50000.0\n",
      "5            NaN      40                   NaN        2023/04/25       UK  45000.0\n",
      "6   Robert Brown  Thirty  robert.b@example.com        2023-05-10  Germany      NaN\n"
     ]
    }
   ],
   "source": [
    "# wrong data replacing in small datasets\n",
    "import pandas as pd\n",
    "x=pd.read_csv('dirtydata.csv')\n",
    "x.loc[4,\"Salary\"]=50000\n",
    "print(x.to_string())"
   ]
  },
  {
   "cell_type": "code",
   "execution_count": 40,
   "id": "f7b017d6",
   "metadata": {},
   "outputs": [
    {
     "name": "stdout",
     "output_type": "stream",
     "text": [
      "            Name     Age                 Email Registration_Date  Country   Salary\n",
      "0       John Doe      25  john.doe@example.com        2023-01-15      USA  50000.0\n",
      "1     Jane Smith     NaN    jane.smith@example        2023-02-30      USA  50000.0\n",
      "2  Alice Johnson      28   alice.j@example.com               NaN   Canada      NaN\n",
      "3            NaN      32                   NaN        2023-03-20      NaN  50000.0\n",
      "4        Michael     NaN              michael@      Invalid Date   Canada  50000.0\n",
      "5            NaN      40                   NaN        2023/04/25       UK  45000.0\n",
      "6   Robert Brown  Thirty  robert.b@example.com        2023-05-10  Germany      NaN\n"
     ]
    }
   ],
   "source": [
    "# to replace in big  data sets\n",
    "# we have to fix certain boundaries\n",
    "import pandas as pd\n",
    "x=pd.read_csv('dirtydata.csv')\n",
    "for i in x.index:\n",
    "    if(x.loc[i,\"Salary\"])>50000:\n",
    "         x.loc[i,\"Salary\"]=50000\n",
    "print(x.to_string())\n",
    "    "
   ]
  },
  {
   "cell_type": "code",
   "execution_count": 41,
   "id": "385fe259",
   "metadata": {},
   "outputs": [],
   "source": [
    "\n",
    "# The .loc property in pandas is used to access a group of rows and columns in a \n",
    "# DataFrame by labels or boolean arrays. It allows you to locate specific elements of a\n",
    "#  DataFrame using row and column labels.\n"
   ]
  },
  {
   "cell_type": "code",
   "execution_count": 43,
   "id": "b48ebcec",
   "metadata": {},
   "outputs": [
    {
     "name": "stdout",
     "output_type": "stream",
     "text": [
      "            Name     Age                 Email Registration_Date  Country   Salary\n",
      "0       John Doe      25  john.doe@example.com        2023-01-15      USA  50000.0\n",
      "1     Jane Smith     NaN    jane.smith@example        2023-02-30      USA  55000.0\n",
      "2  Alice Johnson      28   alice.j@example.com               NaN   Canada      NaN\n",
      "3            NaN      32                   NaN        2023-03-20      NaN  70000.0\n",
      "4        Michael     NaN              michael@      Invalid Date   Canada  80000.0\n",
      "5            NaN      40                   NaN        2023/04/25       UK  45000.0\n",
      "6   Robert Brown  Thirty  robert.b@example.com        2023-05-10  Germany      NaN\n"
     ]
    }
   ],
   "source": [
    "# removing dublicates\n",
    "# first we noeed todiscover the dublicate values\n",
    "#  so in larger datasets we use dublicate()\n",
    "import pandas as pd\n",
    "x=pd.read_csv('dirtydata.csv')\n",
    "print(x.to_string())"
   ]
  },
  {
   "cell_type": "code",
   "execution_count": 44,
   "id": "8746d6cc",
   "metadata": {},
   "outputs": [
    {
     "name": "stdout",
     "output_type": "stream",
     "text": [
      "0    False\n",
      "1    False\n",
      "2    False\n",
      "3    False\n",
      "4    False\n",
      "5    False\n",
      "6    False\n",
      "dtype: bool\n"
     ]
    }
   ],
   "source": [
    "import pandas as pd\n",
    "x=pd.read_csv('dirtydata.csv')\n",
    "print(x.duplicated())"
   ]
  },
  {
   "cell_type": "code",
   "execution_count": 45,
   "id": "467da568",
   "metadata": {},
   "outputs": [],
   "source": [
    "# here if any row is duplicatethen it will return true\n"
   ]
  },
  {
   "cell_type": "markdown",
   "id": "3f4ee8f6",
   "metadata": {},
   "source": []
  },
  {
   "cell_type": "code",
   "execution_count": 46,
   "id": "5710f856",
   "metadata": {},
   "outputs": [
    {
     "name": "stdout",
     "output_type": "stream",
     "text": [
      "            Name     Age                 Email Registration_Date  Country   Salary\n",
      "0       John Doe      25  john.doe@example.com        2023-01-15      USA  50000.0\n",
      "1     Jane Smith     NaN    jane.smith@example        2023-02-30      USA  55000.0\n",
      "2  Alice Johnson      28   alice.j@example.com               NaN   Canada      NaN\n",
      "3            NaN      32                   NaN        2023-03-20      NaN  70000.0\n",
      "4        Michael     NaN              michael@      Invalid Date   Canada  80000.0\n",
      "5            NaN      40                   NaN        2023/04/25       UK  45000.0\n",
      "6   Robert Brown  Thirty  robert.b@example.com        2023-05-10  Germany      NaN\n"
     ]
    }
   ],
   "source": [
    "import pandas as pd\n",
    "x=pd.read_csv('dirtydata.csv')\n",
    "x.drop_duplicates(inplace=True) # i will remove if any duplicate is present \n",
    "#  inplace will add data after operation to the same place\n",
    "print(x.to_string())"
   ]
  },
  {
   "cell_type": "code",
   "execution_count": null,
   "id": "d631166c",
   "metadata": {},
   "outputs": [],
   "source": []
  },
  {
   "cell_type": "code",
   "execution_count": null,
   "id": "f9be034d",
   "metadata": {},
   "outputs": [],
   "source": []
  }
 ],
 "metadata": {
  "kernelspec": {
   "display_name": "Python 3",
   "language": "python",
   "name": "python3"
  },
  "language_info": {
   "codemirror_mode": {
    "name": "ipython",
    "version": 3
   },
   "file_extension": ".py",
   "mimetype": "text/x-python",
   "name": "python",
   "nbconvert_exporter": "python",
   "pygments_lexer": "ipython3",
   "version": "3.12.6"
  }
 },
 "nbformat": 4,
 "nbformat_minor": 5
}
