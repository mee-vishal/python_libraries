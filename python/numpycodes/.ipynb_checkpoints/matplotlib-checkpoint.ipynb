{
 "cells": [
  {
   "cell_type": "code",
   "execution_count": 1,
   "id": "67d92984-0e20-4a2a-b9a4-a6691ff58c99",
   "metadata": {},
   "outputs": [],
   "source": [
    "        # matplotlib\n"
   ]
  },
  {
   "cell_type": "code",
   "execution_count": 2,
   "id": "bd5884c8-39af-4491-883b-aa4df002026c",
   "metadata": {},
   "outputs": [],
   "source": [
    "# matplotlib is a low level graph plotting library in python that serves as a visualization lib"
   ]
  },
  {
   "cell_type": "code",
   "execution_count": 4,
   "id": "c0d8657e-48f3-42f4-bd3b-dd6446049b38",
   "metadata": {},
   "outputs": [],
   "source": [
    "# mostly writeen in python , objective -c and javascript for platform compatibility"
   ]
  },
  {
   "cell_type": "code",
   "execution_count": 5,
   "id": "f88f8b5d-24ae-4be0-a1c1-14e22af624fe",
   "metadata": {},
   "outputs": [],
   "source": [
    "#  how to  draw ?\n",
    "# imagine x-y plot with certain points\n"
   ]
  },
  {
   "cell_type": "code",
   "execution_count": null,
   "id": "29dd9a5b-4f5b-47c8-903e-e9200750f873",
   "metadata": {},
   "outputs": [],
   "source": [
    "import matplotlib.pyplot as plt\n"
   ]
  }
 ],
 "metadata": {
  "kernelspec": {
   "display_name": "Python 3 (ipykernel)",
   "language": "python",
   "name": "python3"
  },
  "language_info": {
   "codemirror_mode": {
    "name": "ipython",
    "version": 3
   },
   "file_extension": ".py",
   "mimetype": "text/x-python",
   "name": "python",
   "nbconvert_exporter": "python",
   "pygments_lexer": "ipython3",
   "version": "3.12.6"
  }
 },
 "nbformat": 4,
 "nbformat_minor": 5
}
