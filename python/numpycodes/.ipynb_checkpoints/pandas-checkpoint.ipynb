{
 "cells": [
  {
   "cell_type": "code",
   "execution_count": 1,
   "id": "a7abf100-62e4-429e-9915-61780c26ee72",
   "metadata": {},
   "outputs": [],
   "source": [
    "# what is pandas ?\n",
    "# pandas is a library used to work with data sets, analysing ,cleaning ,exploring and manipulating data"
   ]
  },
  {
   "cell_type": "code",
   "execution_count": 2,
   "id": "9a525f64-30c6-4ee1-a2b6-40420de9c828",
   "metadata": {},
   "outputs": [],
   "source": [
    "# name pandas->python data analysis"
   ]
  },
  {
   "cell_type": "code",
   "execution_count": 3,
   "id": "3dc9df75-7868-4530-a2f2-b5fe1bbfcd10",
   "metadata": {},
   "outputs": [],
   "source": [
    "# pandas analyse bug data and make conclusions based on statistical theories"
   ]
  },
  {
   "cell_type": "code",
   "execution_count": 4,
   "id": "f04b5ecb-058f-47c3-8299-d9a8052a153b",
   "metadata": {},
   "outputs": [],
   "source": [
    "# pandas can clean messi datas and make them redable and relevant"
   ]
  },
  {
   "cell_type": "code",
   "execution_count": 5,
   "id": "7751c16a-1e57-424e-8a05-47ad7b90818f",
   "metadata": {},
   "outputs": [],
   "source": [
    "# what can pandas do ?\n",
    "# avg value\n",
    "# min value\n",
    "# max value\n",
    "# make ad delete rows \n"
   ]
  },
  {
   "cell_type": "code",
   "execution_count": 6,
   "id": "c54eff27-8965-42c5-bd73-833450d45a44",
   "metadata": {},
   "outputs": [
    {
     "name": "stdout",
     "output_type": "stream",
     "text": [
      "2.2.3\n"
     ]
    }
   ],
   "source": [
    "import pandas as pd\n",
    "print(pd.__version__)"
   ]
  },
  {
   "cell_type": "code",
   "execution_count": 7,
   "id": "2e453208-f4a2-4e81-a1bf-bce8093114a2",
   "metadata": {},
   "outputs": [],
   "source": [
    "# pandasseries\n",
    "# pandasseries is like column in a table \n",
    "# it is like 1d array which holds data of any type\n"
   ]
  },
  {
   "cell_type": "code",
   "execution_count": 9,
   "id": "74d57837-ee13-4b45-a855-c10b29ee86a3",
   "metadata": {},
   "outputs": [
    {
     "name": "stdout",
     "output_type": "stream",
     "text": [
      "0    1\n",
      "1    4\n",
      "2    5\n",
      "3    7\n",
      "4    4\n",
      "dtype: int64\n"
     ]
    }
   ],
   "source": [
    "import pandas as pd\n",
    "x=[1,4,5,7,4]\n",
    "y=pd.Series(x)\n",
    "print(y)"
   ]
  },
  {
   "cell_type": "code",
   "execution_count": 12,
   "id": "c56eb826-b0a8-4a32-83c2-50b332fa9310",
   "metadata": {},
   "outputs": [
    {
     "name": "stdout",
     "output_type": "stream",
     "text": [
      "0    1\n",
      "1    4\n",
      "2    5\n",
      "3    7\n",
      "4    4\n",
      "dtype: int64\n",
      "2nd index: 5\n"
     ]
    }
   ],
   "source": [
    "# labeling-can be used to access a specified value\n",
    "import pandas as pd\n",
    "x=[1,4,5,7,4]\n",
    "y=pd.Series(x)\n",
    "print(y)\n",
    "print(\"2nd index:\",y[2])"
   ]
  },
  {
   "cell_type": "code",
   "execution_count": 13,
   "id": "a3838934-a06f-498c-8de3-4c8515bb6cf5",
   "metadata": {},
   "outputs": [
    {
     "name": "stdout",
     "output_type": "stream",
     "text": [
      "a    1\n",
      "b    4\n",
      "c    5\n",
      "d    7\n",
      "e    4\n",
      "dtype: int64\n"
     ]
    }
   ],
   "source": [
    "# with create label you can create your own name labels\n",
    "import pandas as pd\n",
    "x=[1,4,5,7,4]\n",
    "y=pd.Series(x,index=[\"a\",\"b\",\"c\",\"d\",\"e\"])\n",
    "print(y)"
   ]
  },
  {
   "cell_type": "code",
   "execution_count": 14,
   "id": "e5f10739-7bb2-40ef-b156-302b345d6587",
   "metadata": {},
   "outputs": [
    {
     "name": "stdout",
     "output_type": "stream",
     "text": [
      "5\n"
     ]
    }
   ],
   "source": [
    "#  to access the value after creating own label\n",
    "import pandas as pd\n",
    "x=[1,4,5,7,4]\n",
    "y=pd.Series(x,index=[\"a\",\"b\",\"c\",\"d\",\"e\"])\n",
    "print(y[\"c\"])"
   ]
  },
  {
   "cell_type": "code",
   "execution_count": 15,
   "id": "4a775d79-20a1-4e24-8a11-ca70d1826d87",
   "metadata": {},
   "outputs": [],
   "source": [
    "# you can also use a key or value objet like dictionary.when creating a series\n"
   ]
  },
  {
   "cell_type": "code",
   "execution_count": 17,
   "id": "e420b81e-a46c-4747-8280-b62c2d1b1a53",
   "metadata": {},
   "outputs": [
    {
     "name": "stdout",
     "output_type": "stream",
     "text": [
      "day1    420\n",
      "day2    380\n",
      "day3    390\n",
      "dtype: int64\n"
     ]
    }
   ],
   "source": [
    "import pandas as pd\n",
    "cal={\"day1\":420,\"day2\":380,\"day3\":390}\n",
    "y=pd.Series(cal)\n",
    "print(y)"
   ]
  },
  {
   "cell_type": "code",
   "execution_count": 18,
   "id": "7ae65d7f-209d-40f6-b5e4-3c9fe5c8b4ac",
   "metadata": {},
   "outputs": [
    {
     "name": "stdout",
     "output_type": "stream",
     "text": [
      "day1    420\n",
      "day2    380\n",
      "dtype: int64\n"
     ]
    }
   ],
   "source": [
    "# now we will create a series using only data from day1 and day2\n",
    "import pandas as pd\n",
    "cal={\"day1\":420,\"day2\":380,\"day3\":390}\n",
    "y=pd.Series(cal,index=[\"day1\",\"day2\"])\n",
    "print(y)"
   ]
  },
  {
   "cell_type": "code",
   "execution_count": 19,
   "id": "d479fce6-002c-44e9-aa29-5f0dff30a1a2",
   "metadata": {},
   "outputs": [],
   "source": [
    "# dataFrame:datasets in pandas are usually multidimensional tables and they are called dataframes"
   ]
  },
  {
   "cell_type": "code",
   "execution_count": 20,
   "id": "be55bd4f-d22c-41f3-8f6d-e7d1171041a3",
   "metadata": {},
   "outputs": [],
   "source": [
    "# series are like columns and dataframes is the whole tables\n"
   ]
  },
  {
   "cell_type": "code",
   "execution_count": 22,
   "id": "94e7d641-e8f4-41df-8f19-9f9ad62380fe",
   "metadata": {},
   "outputs": [
    {
     "name": "stdout",
     "output_type": "stream",
     "text": [
      "   cal  duration\n",
      "0  420        40\n",
      "1  380        50\n",
      "2  390        60\n"
     ]
    }
   ],
   "source": [
    "import pandas as pd\n",
    "x={\"cal\":[420,380,390],\"duration\":[40,50,60]}\n",
    "y=pd.DataFrame(x)\n",
    "print(y)"
   ]
  },
  {
   "cell_type": "code",
   "execution_count": 24,
   "id": "b873923a-b8f8-4d28-9f94-418483f9c08c",
   "metadata": {},
   "outputs": [
    {
     "name": "stdout",
     "output_type": "stream",
     "text": [
      "   cal  duration\n",
      "0  420        40\n",
      "1  380        50\n",
      "2  390        60\n",
      "\n",
      "cal         420\n",
      "duration     40\n",
      "Name: 0, dtype: int64\n"
     ]
    }
   ],
   "source": [
    "#  to show particular row\n",
    "# locate row: pandas use the loc attribute to return one or more specified row\n",
    "import pandas as pd\n",
    "x={\"cal\":[420,380,390],\"duration\":[40,50,60]}\n",
    "y=pd.DataFrame(x)\n",
    "print(y)\n",
    "print()\n",
    "print(y.loc[0])"
   ]
  },
  {
   "cell_type": "code",
   "execution_count": 30,
   "id": "c828508f-1e40-4c5c-9317-b3727a7bba17",
   "metadata": {},
   "outputs": [
    {
     "name": "stdout",
     "output_type": "stream",
     "text": [
      "   cal  duration\n",
      "0  420        40\n",
      "1  380        50\n",
      "2  390        60\n",
      "\n",
      "   cal  duration\n",
      "0  420        40\n",
      "1  380        50\n"
     ]
    }
   ],
   "source": [
    "import pandas as pd\n",
    "x={\"cal\":[420,380,390],\"duration\":[40,50,60]}\n",
    "y=pd.DataFrame(x)\n",
    "print(y)\n",
    "print()\n",
    "print(y.loc[[0,1]])"
   ]
  },
  {
   "cell_type": "code",
   "execution_count": 31,
   "id": "ae1a8ae8-9fc5-4208-8146-12b096bd3da5",
   "metadata": {},
   "outputs": [
    {
     "name": "stdout",
     "output_type": "stream",
     "text": [
      "      cal  duration\n",
      "day1  420        40\n",
      "day2  380        50\n",
      "day3  390        60\n"
     ]
    }
   ],
   "source": [
    "# named index:\n",
    "# with the index arg you can name your own index\n",
    "import pandas as pd\n",
    "x={\"cal\":[420,380,390],\"duration\":[40,50,60]}\n",
    "y=pd.DataFrame(x,index=[\"day1\",\"day2\",\"day3\"])\n",
    "print(y)\n"
   ]
  },
  {
   "cell_type": "code",
   "execution_count": 33,
   "id": "ea0c8ba5-a149-46b6-a14d-423689731199",
   "metadata": {},
   "outputs": [
    {
     "name": "stdout",
     "output_type": "stream",
     "text": [
      "cal         420\n",
      "duration     40\n",
      "Name: day1, dtype: int64\n"
     ]
    }
   ],
   "source": [
    "# locate the named indexes\n",
    "\n",
    "import pandas as pd\n",
    "x={\"cal\":[420,380,390],\"duration\":[40,50,60]}\n",
    "y=pd.DataFrame(x,index=[\"day1\",\"day2\",\"day3\"])\n",
    "print(y.loc[\"day1\"])\n"
   ]
  },
  {
   "cell_type": "code",
   "execution_count": 34,
   "id": "59b29d07-2ef2-47e3-99cf-27fd783b456b",
   "metadata": {},
   "outputs": [
    {
     "name": "stdout",
     "output_type": "stream",
     "text": [
      "      cal  duration\n",
      "day1  420        40\n",
      "day2  380        50\n"
     ]
    }
   ],
   "source": [
    "import pandas as pd\n",
    "x={\"cal\":[420,380,390],\"duration\":[40,50,60]}\n",
    "y=pd.DataFrame(x,index=[\"day1\",\"day2\",\"day3\"])\n",
    "print(y.loc[[\"day1\",\"day2\"]])\n"
   ]
  },
  {
   "cell_type": "code",
   "execution_count": 35,
   "id": "6cf261ee-8ec6-438d-9db8-1d1535b793a7",
   "metadata": {},
   "outputs": [],
   "source": [
    "# load the data from the csv file into dataframe\n",
    "# i.e data.csv\n",
    "import pandas as pd\n",
    "# x=pd.read_csv('data.csv')\n",
    "# print(x) \n"
   ]
  },
  {
   "cell_type": "code",
   "execution_count": 1,
   "id": "aa760c20-6b1e-4c69-a183-b0dd13f167bf",
   "metadata": {},
   "outputs": [],
   "source": [
    "# why use csv ?\n",
    "# comma separated value or files\n",
    "# it is a simple way to store the big and biggest data sets\n",
    "# used for importing \n",
    "# csv files contain plain text"
   ]
  },
  {
   "cell_type": "code",
   "execution_count": 2,
   "id": "d7ee9d55-e43c-4985-a038-248fdce8c1c7",
   "metadata": {},
   "outputs": [
    {
     "name": "stdout",
     "output_type": "stream",
     "text": [
      "    Student_ID        Name Grade  Age Major   GPA\n",
      "0            1   Student_1     A   20    CE  3.53\n",
      "1            2   Student_2     D   18    EE  3.67\n",
      "2            3   Student_3     D   20    CS  2.25\n",
      "3            4   Student_4     F   22   BIO  2.10\n",
      "4            5   Student_5     C   21    EE  2.17\n",
      "5            6   Student_6     D   19    CS  2.06\n",
      "6            7   Student_7     B   20   BIO  3.34\n",
      "7            8   Student_8     D   23    CE  3.14\n",
      "8            9   Student_9     F   23    ME  3.16\n",
      "9           10  Student_10     D   18    EE  2.56\n",
      "10          11  Student_11     D   18    EE  2.55\n",
      "11          12  Student_12     A   23    CE  3.90\n",
      "12          13  Student_13     F   24    CE  2.38\n",
      "13          14  Student_14     A   18    CS  3.51\n",
      "14          15  Student_15     B   18   BIO  3.94\n",
      "15          16  Student_16     B   23    CE  2.17\n",
      "16          17  Student_17     D   22    EE  2.50\n",
      "17          18  Student_18     C   19   BIO  2.70\n",
      "18          19  Student_19     B   18    CS  2.97\n",
      "19          20  Student_20     A   18    CS  2.29\n",
      "20          21  Student_21     F   23    CE  2.96\n",
      "21          22  Student_22     A   18    CE  2.74\n",
      "22          23  Student_23     D   18    ME  3.74\n",
      "23          24  Student_24     B   20   BIO  2.46\n",
      "24          25  Student_25     C   23   BIO  2.37\n",
      "25          26  Student_26     A   22    CS  2.75\n",
      "26          27  Student_27     C   21    EE  3.29\n",
      "27          28  Student_28     C   22   BIO  3.23\n",
      "28          29  Student_29     B   22   BIO  3.71\n",
      "29          30  Student_30     F   20    CE  3.17\n",
      "30          31  Student_31     F   21    CE  2.59\n",
      "31          32  Student_32     B   21    EE  3.13\n",
      "32          33  Student_33     F   20    EE  3.01\n",
      "33          34  Student_34     D   20    EE  2.16\n",
      "34          35  Student_35     B   21    CE  2.52\n",
      "35          36  Student_36     F   24    ME  2.84\n",
      "36          37  Student_37     A   19    CS  2.22\n",
      "37          38  Student_38     A   24   BIO  2.31\n",
      "38          39  Student_39     D   18    CS  2.44\n",
      "39          40  Student_40     B   24    ME  2.57\n",
      "40          41  Student_41     B   22   BIO  2.50\n",
      "41          42  Student_42     F   24    CE  3.75\n",
      "42          43  Student_43     A   22    EE  2.14\n",
      "43          44  Student_44     F   21    CS  2.07\n",
      "44          45  Student_45     B   23    ME  3.37\n",
      "45          46  Student_46     A   20    CS  3.24\n",
      "46          47  Student_47     F   21    CE  2.21\n",
      "47          48  Student_48     D   20    CS  2.19\n",
      "48          49  Student_49     F   19   BIO  2.48\n",
      "49          50  Student_50     F   20    ME  3.82\n"
     ]
    }
   ],
   "source": [
    "import pandas as pd\n",
    "x=pd.read_csv('demo_data.csv')\n",
    "print(x)"
   ]
  },
  {
   "cell_type": "code",
   "execution_count": null,
   "id": "a02998fd-6341-4e90-bb46-efbcb3bde6fc",
   "metadata": {},
   "outputs": [],
   "source": []
  }
 ],
 "metadata": {
  "kernelspec": {
   "display_name": "Python 3 (ipykernel)",
   "language": "python",
   "name": "python3"
  },
  "language_info": {
   "codemirror_mode": {
    "name": "ipython",
    "version": 3
   },
   "file_extension": ".py",
   "mimetype": "text/x-python",
   "name": "python",
   "nbconvert_exporter": "python",
   "pygments_lexer": "ipython3",
   "version": "3.12.6"
  }
 },
 "nbformat": 4,
 "nbformat_minor": 5
}
